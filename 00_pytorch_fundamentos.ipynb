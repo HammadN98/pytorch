{
  "nbformat": 4,
  "nbformat_minor": 0,
  "metadata": {
    "colab": {
      "provenance": [],
      "gpuType": "T4",
      "authorship_tag": "ABX9TyMTSQ3dcwTWXD+7KoPSr5vD",
      "include_colab_link": true
    },
    "kernelspec": {
      "name": "python3",
      "display_name": "Python 3"
    },
    "language_info": {
      "name": "python"
    },
    "accelerator": "GPU"
  },
  "cells": [
    {
      "cell_type": "markdown",
      "metadata": {
        "id": "view-in-github",
        "colab_type": "text"
      },
      "source": [
        "<a href=\"https://colab.research.google.com/github/HammadN98/pytorch/blob/main/00_pytorch_fundamentos.ipynb\" target=\"_parent\"><img src=\"https://colab.research.google.com/assets/colab-badge.svg\" alt=\"Open In Colab\"/></a>"
      ]
    },
    {
      "cell_type": "code",
      "execution_count": null,
      "metadata": {
        "colab": {
          "base_uri": "https://localhost:8080/"
        },
        "id": "HUuXQcSrdJW4",
        "outputId": "09b9ae7c-21be-4144-fb19-b19bde3fbba2"
      },
      "outputs": [
        {
          "output_type": "stream",
          "name": "stdout",
          "text": [
            "2.3.0+cu121\n"
          ]
        }
      ],
      "source": [
        "import torch\n",
        "import pandas as pd\n",
        "import numpy as np\n",
        "import matplotlib.pyplot as plt\n",
        "print(torch.__version__)\n",
        "device = 'cuda' if torch.cuda.is_available() else \"cpu\""
      ]
    },
    {
      "cell_type": "code",
      "source": [
        "!nvidia-smi"
      ],
      "metadata": {
        "colab": {
          "base_uri": "https://localhost:8080/"
        },
        "id": "ZU_K7gmpdYPL",
        "outputId": "31cce417-2676-41fa-f59b-76ab8fbb4ed1"
      },
      "execution_count": null,
      "outputs": [
        {
          "output_type": "stream",
          "name": "stdout",
          "text": [
            "/bin/bash: line 1: nvidia-smi: command not found\n"
          ]
        }
      ]
    },
    {
      "cell_type": "code",
      "source": [
        "# scalar\n",
        "scalar = torch.tensor(7)\n",
        "scalar"
      ],
      "metadata": {
        "colab": {
          "base_uri": "https://localhost:8080/"
        },
        "id": "mnF6JLEFdg2t",
        "outputId": "952ad986-4b60-48fc-bb72-5ddd373279f2"
      },
      "execution_count": null,
      "outputs": [
        {
          "output_type": "execute_result",
          "data": {
            "text/plain": [
              "tensor(7)"
            ]
          },
          "metadata": {},
          "execution_count": 3
        }
      ]
    },
    {
      "cell_type": "code",
      "source": [
        "scalar.ndim"
      ],
      "metadata": {
        "colab": {
          "base_uri": "https://localhost:8080/"
        },
        "id": "CbKGe9oqdzZK",
        "outputId": "89018a45-d601-4bd7-ce48-163a2fed5c7c"
      },
      "execution_count": null,
      "outputs": [
        {
          "output_type": "execute_result",
          "data": {
            "text/plain": [
              "0"
            ]
          },
          "metadata": {},
          "execution_count": 4
        }
      ]
    },
    {
      "cell_type": "code",
      "source": [
        "# TRansformando o tensor em int de volta\n",
        "scalar.item()"
      ],
      "metadata": {
        "colab": {
          "base_uri": "https://localhost:8080/"
        },
        "id": "Fe98razOd1oj",
        "outputId": "5b60a18d-c323-4e22-888a-b9804546b026"
      },
      "execution_count": null,
      "outputs": [
        {
          "output_type": "execute_result",
          "data": {
            "text/plain": [
              "7"
            ]
          },
          "metadata": {},
          "execution_count": 5
        }
      ]
    },
    {
      "cell_type": "code",
      "source": [
        "vector = torch.tensor([7,1])\n",
        "vector"
      ],
      "metadata": {
        "colab": {
          "base_uri": "https://localhost:8080/"
        },
        "id": "9QmcCO_yd627",
        "outputId": "6e44c6ef-c401-41d1-e223-36be8b646fcd"
      },
      "execution_count": null,
      "outputs": [
        {
          "output_type": "execute_result",
          "data": {
            "text/plain": [
              "tensor([7, 1])"
            ]
          },
          "metadata": {},
          "execution_count": 6
        }
      ]
    },
    {
      "cell_type": "code",
      "source": [
        "vector.ndim"
      ],
      "metadata": {
        "colab": {
          "base_uri": "https://localhost:8080/"
        },
        "id": "OaRX3VSpeI55",
        "outputId": "1558cf49-5dd6-47f4-80bb-3f9faaf975e9"
      },
      "execution_count": null,
      "outputs": [
        {
          "output_type": "execute_result",
          "data": {
            "text/plain": [
              "1"
            ]
          },
          "metadata": {},
          "execution_count": 7
        }
      ]
    },
    {
      "cell_type": "code",
      "source": [
        "MATRIX = torch.tensor([[7,1],\n",
        "                       [6, 2]])\n",
        "MATRIX"
      ],
      "metadata": {
        "colab": {
          "base_uri": "https://localhost:8080/"
        },
        "id": "tAu4fPe4eNwl",
        "outputId": "34648f64-f307-4941-f555-6b18ef8957e5"
      },
      "execution_count": null,
      "outputs": [
        {
          "output_type": "execute_result",
          "data": {
            "text/plain": [
              "tensor([[7, 1],\n",
              "        [6, 2]])"
            ]
          },
          "metadata": {},
          "execution_count": 8
        }
      ]
    },
    {
      "cell_type": "code",
      "source": [
        "MATRIX.ndim"
      ],
      "metadata": {
        "colab": {
          "base_uri": "https://localhost:8080/"
        },
        "id": "_w9Mi8rMeXk8",
        "outputId": "23e9d63b-ca2f-4fef-a890-3c89bfc383a9"
      },
      "execution_count": null,
      "outputs": [
        {
          "output_type": "execute_result",
          "data": {
            "text/plain": [
              "2"
            ]
          },
          "metadata": {},
          "execution_count": 9
        }
      ]
    },
    {
      "cell_type": "code",
      "source": [
        "MATRIX[1]"
      ],
      "metadata": {
        "colab": {
          "base_uri": "https://localhost:8080/"
        },
        "id": "pZGJvCHS5PZ0",
        "outputId": "36e84fb1-110c-45bd-b263-85ae7edbbef0"
      },
      "execution_count": null,
      "outputs": [
        {
          "output_type": "execute_result",
          "data": {
            "text/plain": [
              "tensor([6, 2])"
            ]
          },
          "metadata": {},
          "execution_count": 10
        }
      ]
    },
    {
      "cell_type": "code",
      "source": [
        "TENSOR0 = torch.tensor([[[[1,2,3],\n",
        "                          [4,5,6],\n",
        "                          [7,8,9]]]])\n",
        "TENSOR0"
      ],
      "metadata": {
        "colab": {
          "base_uri": "https://localhost:8080/"
        },
        "id": "85Fzv64AeYxv",
        "outputId": "8c32db28-7561-481c-d83c-9b3ced935353"
      },
      "execution_count": null,
      "outputs": [
        {
          "output_type": "execute_result",
          "data": {
            "text/plain": [
              "tensor([[[[1, 2, 3],\n",
              "          [4, 5, 6],\n",
              "          [7, 8, 9]]]])"
            ]
          },
          "metadata": {},
          "execution_count": 11
        }
      ]
    },
    {
      "cell_type": "code",
      "source": [
        "TENSOR0.ndim"
      ],
      "metadata": {
        "colab": {
          "base_uri": "https://localhost:8080/"
        },
        "id": "T8T-VuPWelF6",
        "outputId": "d39366dc-503c-4296-dc37-c38b3a468150"
      },
      "execution_count": null,
      "outputs": [
        {
          "output_type": "execute_result",
          "data": {
            "text/plain": [
              "4"
            ]
          },
          "metadata": {},
          "execution_count": 12
        }
      ]
    },
    {
      "cell_type": "code",
      "source": [
        "TENSOR0.shape"
      ],
      "metadata": {
        "colab": {
          "base_uri": "https://localhost:8080/"
        },
        "id": "VZ0HLwKWenli",
        "outputId": "ed9b3049-9a94-4a6e-89eb-77b7068ac292"
      },
      "execution_count": null,
      "outputs": [
        {
          "output_type": "execute_result",
          "data": {
            "text/plain": [
              "torch.Size([1, 1, 3, 3])"
            ]
          },
          "metadata": {},
          "execution_count": 13
        }
      ]
    },
    {
      "cell_type": "code",
      "source": [
        "TENSOR0[0]"
      ],
      "metadata": {
        "colab": {
          "base_uri": "https://localhost:8080/"
        },
        "id": "KhM1upHPe0Dj",
        "outputId": "d7f89695-7093-4faa-8dfc-5db703e13eae"
      },
      "execution_count": null,
      "outputs": [
        {
          "output_type": "execute_result",
          "data": {
            "text/plain": [
              "tensor([[[1, 2, 3],\n",
              "         [4, 5, 6],\n",
              "         [7, 8, 9]]])"
            ]
          },
          "metadata": {},
          "execution_count": 14
        }
      ]
    },
    {
      "cell_type": "code",
      "source": [
        "TENSOR0[0,0,1,2] + TENSOR0[0,0,2,2]"
      ],
      "metadata": {
        "colab": {
          "base_uri": "https://localhost:8080/"
        },
        "id": "WUAALxpYe8bY",
        "outputId": "485bf9ea-4ebd-4eb5-94d0-9969e53638bc"
      },
      "execution_count": null,
      "outputs": [
        {
          "output_type": "execute_result",
          "data": {
            "text/plain": [
              "tensor(15)"
            ]
          },
          "metadata": {},
          "execution_count": 15
        }
      ]
    },
    {
      "cell_type": "code",
      "source": [
        "TENSOR2 = torch.tensor(\n",
        "    [\n",
        "        [\n",
        "            [\n",
        "                [\n",
        "        [1,2,1,1],\n",
        "        [5,6,2,2],\n",
        "        [3,4,3,8],\n",
        "        [7,8,4,7],\n",
        "                ]\n",
        "            ]\n",
        "        ]\n",
        "    ]\n",
        ")"
      ],
      "metadata": {
        "id": "uAYwzW1Ue9XJ"
      },
      "execution_count": null,
      "outputs": []
    },
    {
      "cell_type": "code",
      "source": [
        "TENSOR2.ndim"
      ],
      "metadata": {
        "colab": {
          "base_uri": "https://localhost:8080/"
        },
        "id": "7bOtkwot2p1q",
        "outputId": "086368dd-b39e-4251-b0dd-1280660cc3aa"
      },
      "execution_count": null,
      "outputs": [
        {
          "output_type": "execute_result",
          "data": {
            "text/plain": [
              "5"
            ]
          },
          "metadata": {},
          "execution_count": 17
        }
      ]
    },
    {
      "cell_type": "code",
      "source": [
        "TENSOR2.shape"
      ],
      "metadata": {
        "colab": {
          "base_uri": "https://localhost:8080/"
        },
        "id": "vva8D8fZ2smS",
        "outputId": "15e1fe5e-2ce2-4382-9c02-4a046d179c06"
      },
      "execution_count": null,
      "outputs": [
        {
          "output_type": "execute_result",
          "data": {
            "text/plain": [
              "torch.Size([1, 1, 1, 4, 4])"
            ]
          },
          "metadata": {},
          "execution_count": 18
        }
      ]
    },
    {
      "cell_type": "code",
      "source": [
        "TENSOR2[0,0,0,2,3]"
      ],
      "metadata": {
        "colab": {
          "base_uri": "https://localhost:8080/"
        },
        "id": "bJSjnfrS29yd",
        "outputId": "2cd17cad-2d41-469a-c82e-3ff7c51a0758"
      },
      "execution_count": null,
      "outputs": [
        {
          "output_type": "execute_result",
          "data": {
            "text/plain": [
              "tensor(8)"
            ]
          },
          "metadata": {},
          "execution_count": 19
        }
      ]
    },
    {
      "cell_type": "code",
      "source": [
        "rand_tensor = torch.rand(2,4,3)\n",
        "rand_tensor\n"
      ],
      "metadata": {
        "colab": {
          "base_uri": "https://localhost:8080/"
        },
        "id": "AEfjd29Z5Kby",
        "outputId": "53010d89-67fd-4bc9-b2ab-8be4ed099061"
      },
      "execution_count": null,
      "outputs": [
        {
          "output_type": "execute_result",
          "data": {
            "text/plain": [
              "tensor([[[0.8288, 0.6411, 0.5848],\n",
              "         [0.2354, 0.8352, 0.1740],\n",
              "         [0.3616, 0.5712, 0.9036],\n",
              "         [0.1174, 0.4822, 0.7696]],\n",
              "\n",
              "        [[0.6223, 0.8069, 0.7054],\n",
              "         [0.3660, 0.6704, 0.7742],\n",
              "         [0.9538, 0.2994, 0.1229],\n",
              "         [0.9745, 0.8740, 0.4183]]])"
            ]
          },
          "metadata": {},
          "execution_count": 20
        }
      ]
    },
    {
      "cell_type": "code",
      "source": [
        "TENSOR3 = torch.tensor([[\n",
        "    [[3,4],\n",
        "     [4,5],\n",
        "     [0,1]],\n",
        "\n",
        "    [[8,7],\n",
        "     [9,8],\n",
        "     [2,3]]\n",
        "\n",
        "    ]])\n",
        "TENSOR3"
      ],
      "metadata": {
        "colab": {
          "base_uri": "https://localhost:8080/"
        },
        "id": "lWNfI0WZ7WWl",
        "outputId": "bfd0fc68-ba0b-4875-8038-ef6b8eaf224a"
      },
      "execution_count": null,
      "outputs": [
        {
          "output_type": "execute_result",
          "data": {
            "text/plain": [
              "tensor([[[[3, 4],\n",
              "          [4, 5],\n",
              "          [0, 1]],\n",
              "\n",
              "         [[8, 7],\n",
              "          [9, 8],\n",
              "          [2, 3]]]])"
            ]
          },
          "metadata": {},
          "execution_count": 21
        }
      ]
    },
    {
      "cell_type": "code",
      "source": [
        "TENSOR3.ndim"
      ],
      "metadata": {
        "colab": {
          "base_uri": "https://localhost:8080/"
        },
        "id": "5-pJkeuQ7zoU",
        "outputId": "561d9997-0f01-44ac-ba15-c2acee7db09a"
      },
      "execution_count": null,
      "outputs": [
        {
          "output_type": "execute_result",
          "data": {
            "text/plain": [
              "4"
            ]
          },
          "metadata": {},
          "execution_count": 22
        }
      ]
    },
    {
      "cell_type": "code",
      "source": [
        "TENSOR3.shape"
      ],
      "metadata": {
        "colab": {
          "base_uri": "https://localhost:8080/"
        },
        "id": "NUb0H0Ns8NF5",
        "outputId": "eddbff3a-7259-47c9-830d-38c0988dadd8"
      },
      "execution_count": null,
      "outputs": [
        {
          "output_type": "execute_result",
          "data": {
            "text/plain": [
              "torch.Size([1, 2, 3, 2])"
            ]
          },
          "metadata": {},
          "execution_count": 23
        }
      ]
    },
    {
      "cell_type": "code",
      "source": [
        "rand_tensor10 = torch.rand(10,10,10)\n",
        "rand_tensor10.ndim"
      ],
      "metadata": {
        "colab": {
          "base_uri": "https://localhost:8080/"
        },
        "id": "da-h3nIf8Rvc",
        "outputId": "33e61c7f-8b35-42f5-880e-0b2367e842af"
      },
      "execution_count": null,
      "outputs": [
        {
          "output_type": "execute_result",
          "data": {
            "text/plain": [
              "3"
            ]
          },
          "metadata": {},
          "execution_count": 24
        }
      ]
    },
    {
      "cell_type": "code",
      "source": [
        "#Crinado um tensor com o range de imagens, 3 canais de cores, 244 pixeis de altura e largura\n",
        "rand_image_size = torch.rand(size=(3,244,244))\n",
        "rand_image_size"
      ],
      "metadata": {
        "colab": {
          "base_uri": "https://localhost:8080/"
        },
        "id": "4QLuEbBe9FSY",
        "outputId": "b1e8370a-5bcd-4d64-d198-f7f4250a47a8"
      },
      "execution_count": null,
      "outputs": [
        {
          "output_type": "execute_result",
          "data": {
            "text/plain": [
              "tensor([[[0.4578, 0.0415, 0.2965,  ..., 0.4062, 0.7111, 0.3389],\n",
              "         [0.7213, 0.5777, 0.5525,  ..., 0.5786, 0.2895, 0.5036],\n",
              "         [0.0776, 0.1823, 0.2287,  ..., 0.4009, 0.0035, 0.7810],\n",
              "         ...,\n",
              "         [0.5766, 0.8210, 0.2672,  ..., 0.7804, 0.6773, 0.0911],\n",
              "         [0.2309, 0.6665, 0.7904,  ..., 0.6513, 0.5755, 0.1116],\n",
              "         [0.4623, 0.6030, 0.4966,  ..., 0.0841, 0.4048, 0.5457]],\n",
              "\n",
              "        [[0.1487, 0.7673, 0.6161,  ..., 0.5883, 0.4891, 0.2263],\n",
              "         [0.2676, 0.3936, 0.5029,  ..., 0.6724, 0.0045, 0.0832],\n",
              "         [0.5862, 0.7041, 0.0306,  ..., 0.5338, 0.0216, 0.8955],\n",
              "         ...,\n",
              "         [0.9246, 0.8141, 0.9064,  ..., 0.9436, 0.0597, 0.9060],\n",
              "         [0.8853, 0.2720, 0.1380,  ..., 0.8071, 0.7078, 0.7338],\n",
              "         [0.8176, 0.8530, 0.9123,  ..., 0.5352, 0.0569, 0.3446]],\n",
              "\n",
              "        [[0.8398, 0.6888, 0.5771,  ..., 0.3335, 0.2900, 0.9016],\n",
              "         [0.7509, 0.3786, 0.0164,  ..., 0.3425, 0.2228, 0.7554],\n",
              "         [0.7214, 0.3263, 0.9877,  ..., 0.6928, 0.4824, 0.2648],\n",
              "         ...,\n",
              "         [0.6356, 0.6099, 0.5588,  ..., 0.8521, 0.2905, 0.9930],\n",
              "         [0.8032, 0.2362, 0.8676,  ..., 0.6559, 0.2599, 0.7037],\n",
              "         [0.7022, 0.3158, 0.8495,  ..., 0.4714, 0.1510, 0.9771]]])"
            ]
          },
          "metadata": {},
          "execution_count": 25
        }
      ]
    },
    {
      "cell_type": "code",
      "source": [
        "#Criando um tensor nas dimensoes do input, porem com apenas zeros\n",
        "babaiaga = torch.zeros_like(input=rand_image_size)\n",
        "babaiaga"
      ],
      "metadata": {
        "colab": {
          "base_uri": "https://localhost:8080/"
        },
        "id": "uvkmqvGclktI",
        "outputId": "b9e39e90-7d1e-4474-ff0f-e1335e21fd34"
      },
      "execution_count": null,
      "outputs": [
        {
          "output_type": "execute_result",
          "data": {
            "text/plain": [
              "tensor([[[0., 0., 0.,  ..., 0., 0., 0.],\n",
              "         [0., 0., 0.,  ..., 0., 0., 0.],\n",
              "         [0., 0., 0.,  ..., 0., 0., 0.],\n",
              "         ...,\n",
              "         [0., 0., 0.,  ..., 0., 0., 0.],\n",
              "         [0., 0., 0.,  ..., 0., 0., 0.],\n",
              "         [0., 0., 0.,  ..., 0., 0., 0.]],\n",
              "\n",
              "        [[0., 0., 0.,  ..., 0., 0., 0.],\n",
              "         [0., 0., 0.,  ..., 0., 0., 0.],\n",
              "         [0., 0., 0.,  ..., 0., 0., 0.],\n",
              "         ...,\n",
              "         [0., 0., 0.,  ..., 0., 0., 0.],\n",
              "         [0., 0., 0.,  ..., 0., 0., 0.],\n",
              "         [0., 0., 0.,  ..., 0., 0., 0.]],\n",
              "\n",
              "        [[0., 0., 0.,  ..., 0., 0., 0.],\n",
              "         [0., 0., 0.,  ..., 0., 0., 0.],\n",
              "         [0., 0., 0.,  ..., 0., 0., 0.],\n",
              "         ...,\n",
              "         [0., 0., 0.,  ..., 0., 0., 0.],\n",
              "         [0., 0., 0.,  ..., 0., 0., 0.],\n",
              "         [0., 0., 0.,  ..., 0., 0., 0.]]])"
            ]
          },
          "metadata": {},
          "execution_count": 26
        }
      ]
    },
    {
      "cell_type": "code",
      "source": [
        "zeros = torch.zeros(3,4)\n",
        "zeros"
      ],
      "metadata": {
        "id": "YZigvzVx-ONe",
        "colab": {
          "base_uri": "https://localhost:8080/"
        },
        "outputId": "b538bef4-c3e0-4305-e71c-3a9016263853"
      },
      "execution_count": null,
      "outputs": [
        {
          "output_type": "execute_result",
          "data": {
            "text/plain": [
              "tensor([[0., 0., 0., 0.],\n",
              "        [0., 0., 0., 0.],\n",
              "        [0., 0., 0., 0.]])"
            ]
          },
          "metadata": {},
          "execution_count": 27
        }
      ]
    },
    {
      "cell_type": "code",
      "source": [
        "uns = torch.ones(size=(1,4,2,2))\n",
        "uns.ndim"
      ],
      "metadata": {
        "colab": {
          "base_uri": "https://localhost:8080/"
        },
        "id": "qAukpFrRcUzy",
        "outputId": "8e55969c-f3af-4ec4-e1f6-444308c19748"
      },
      "execution_count": null,
      "outputs": [
        {
          "output_type": "execute_result",
          "data": {
            "text/plain": [
              "4"
            ]
          },
          "metadata": {},
          "execution_count": 28
        }
      ]
    },
    {
      "cell_type": "code",
      "source": [
        "uns2 = torch.ones(size=(2,1,4,2,2))\n",
        "uns2.ndim"
      ],
      "metadata": {
        "colab": {
          "base_uri": "https://localhost:8080/"
        },
        "id": "qxe0HYpycfZo",
        "outputId": "f40519f9-eb0e-44f1-ac70-86d445a26181"
      },
      "execution_count": null,
      "outputs": [
        {
          "output_type": "execute_result",
          "data": {
            "text/plain": [
              "5"
            ]
          },
          "metadata": {},
          "execution_count": 29
        }
      ]
    },
    {
      "cell_type": "code",
      "source": [
        "uns2"
      ],
      "metadata": {
        "colab": {
          "base_uri": "https://localhost:8080/"
        },
        "id": "dLIwU4VMdIdm",
        "outputId": "849176c0-3ea1-4a89-8152-5bdc0c942ec5"
      },
      "execution_count": null,
      "outputs": [
        {
          "output_type": "execute_result",
          "data": {
            "text/plain": [
              "tensor([[[[[1., 1.],\n",
              "           [1., 1.]],\n",
              "\n",
              "          [[1., 1.],\n",
              "           [1., 1.]],\n",
              "\n",
              "          [[1., 1.],\n",
              "           [1., 1.]],\n",
              "\n",
              "          [[1., 1.],\n",
              "           [1., 1.]]]],\n",
              "\n",
              "\n",
              "\n",
              "        [[[[1., 1.],\n",
              "           [1., 1.]],\n",
              "\n",
              "          [[1., 1.],\n",
              "           [1., 1.]],\n",
              "\n",
              "          [[1., 1.],\n",
              "           [1., 1.]],\n",
              "\n",
              "          [[1., 1.],\n",
              "           [1., 1.]]]]])"
            ]
          },
          "metadata": {},
          "execution_count": 30
        }
      ]
    },
    {
      "cell_type": "markdown",
      "source": [
        "# Criando Tensor arange() e _like(input=)"
      ],
      "metadata": {
        "id": "VcWxYiK-p-UK"
      }
    },
    {
      "cell_type": "code",
      "source": [
        "#Basicamnete como a funcao range() mas com tensor\n",
        "zeronove = torch.arange(0, 10)\n",
        "zeronove"
      ],
      "metadata": {
        "id": "43S8vl8TdOKI",
        "colab": {
          "base_uri": "https://localhost:8080/"
        },
        "outputId": "6e313380-3438-44dc-aa10-7425db23e8f0"
      },
      "execution_count": null,
      "outputs": [
        {
          "output_type": "execute_result",
          "data": {
            "text/plain": [
              "tensor([0, 1, 2, 3, 4, 5, 6, 7, 8, 9])"
            ]
          },
          "metadata": {},
          "execution_count": 31
        }
      ]
    },
    {
      "cell_type": "code",
      "source": [
        "#Criando um tensor nas dimensoes do input, porem com apenas zeros\n",
        "comozeronove = torch.zeros_like(input=zeronove)\n",
        "comozeronove"
      ],
      "metadata": {
        "colab": {
          "base_uri": "https://localhost:8080/"
        },
        "id": "NJe9dBdNkW5F",
        "outputId": "0a05b411-eacb-49be-8d1f-10ed81340f9c"
      },
      "execution_count": null,
      "outputs": [
        {
          "output_type": "execute_result",
          "data": {
            "text/plain": [
              "tensor([0, 0, 0, 0, 0, 0, 0, 0, 0, 0])"
            ]
          },
          "metadata": {},
          "execution_count": 32
        }
      ]
    },
    {
      "cell_type": "code",
      "source": [
        "'''tensorumnove = torch.tensor= [[[1,2,0],\n",
        "                              [0,3,2],\n",
        "                              [2,0,3]]]\n",
        "\n",
        "tensorzeroslike = torch.zeros_like(input=tensorumnove)\n",
        "multi_tensor = tensorzeroslike * tensorumnove\n",
        "multi_tensor'''"
      ],
      "metadata": {
        "colab": {
          "base_uri": "https://localhost:8080/",
          "height": 53
        },
        "id": "WYJs4J7qlghA",
        "outputId": "5289e5fd-c03e-4a0e-89b3-d85cc04cce14"
      },
      "execution_count": null,
      "outputs": [
        {
          "output_type": "execute_result",
          "data": {
            "text/plain": [
              "'tensorumnove = torch.tensor= [[[1,2,0],\\n                              [0,3,2],\\n                              [2,0,3]]]\\n\\ntensorzeroslike = torch.zeros_like(input=tensorumnove)\\nmulti_tensor = tensorzeroslike * tensorumnove\\nmulti_tensor'"
            ],
            "application/vnd.google.colaboratory.intrinsic+json": {
              "type": "string"
            }
          },
          "metadata": {},
          "execution_count": 33
        }
      ]
    },
    {
      "cell_type": "markdown",
      "source": [
        "#tipos de dados tensor"
      ],
      "metadata": {
        "id": "OCYEYbWMp3d1"
      }
    },
    {
      "cell_type": "code",
      "source": [
        "#Float 32 Tensor\n",
        "float_32_TENSOR = torch.tensor([3, 6, 7],\n",
        "                               dtype=None, # Tipo de dados\n",
        "                               device=None, # CPU ou CUDA\n",
        "                               requires_grad=False) # Rastrear ou nao o gradinete das operacoes com o tensor\n",
        "float_32_TENSOR"
      ],
      "metadata": {
        "colab": {
          "base_uri": "https://localhost:8080/"
        },
        "id": "QHeMEYnupt4k",
        "outputId": "2fa3e149-7a87-4b6c-820c-d9e5de979736"
      },
      "execution_count": null,
      "outputs": [
        {
          "output_type": "execute_result",
          "data": {
            "text/plain": [
              "tensor([3, 6, 7])"
            ]
          },
          "metadata": {},
          "execution_count": 34
        }
      ]
    },
    {
      "cell_type": "code",
      "source": [
        "float_32_TENSOR.dtype"
      ],
      "metadata": {
        "colab": {
          "base_uri": "https://localhost:8080/"
        },
        "id": "bl1eB28RrSEN",
        "outputId": "cb814492-cc98-4f38-844a-7357d8961add"
      },
      "execution_count": null,
      "outputs": [
        {
          "output_type": "execute_result",
          "data": {
            "text/plain": [
              "torch.int64"
            ]
          },
          "metadata": {},
          "execution_count": 35
        }
      ]
    },
    {
      "cell_type": "code",
      "source": [
        "float_16_TENSOR = float_32_TENSOR.type(torch.float16)\n",
        "float_16_TENSOR"
      ],
      "metadata": {
        "colab": {
          "base_uri": "https://localhost:8080/"
        },
        "id": "FtYpZzZxzmYO",
        "outputId": "3665be28-293d-4be3-b1e5-622670a10f1a"
      },
      "execution_count": null,
      "outputs": [
        {
          "output_type": "execute_result",
          "data": {
            "text/plain": [
              "tensor([3., 6., 7.], dtype=torch.float16)"
            ]
          },
          "metadata": {},
          "execution_count": 36
        }
      ]
    },
    {
      "cell_type": "code",
      "source": [
        "float64 = torch.rand(size=(1,4,2), dtype=torch.float64)\n",
        "float64"
      ],
      "metadata": {
        "colab": {
          "base_uri": "https://localhost:8080/"
        },
        "id": "GHnUSVR3z8JO",
        "outputId": "d652872e-8395-442d-8d03-8be20bda4814"
      },
      "execution_count": null,
      "outputs": [
        {
          "output_type": "execute_result",
          "data": {
            "text/plain": [
              "tensor([[[0.2473, 0.7481],\n",
              "         [0.2187, 0.9595],\n",
              "         [0.6138, 0.6829],\n",
              "         [0.6074, 0.2673]]], dtype=torch.float64)"
            ]
          },
          "metadata": {},
          "execution_count": 37
        }
      ]
    },
    {
      "cell_type": "code",
      "source": [
        "float_16_TENSOR2 = float64.type(torch.float16)\n",
        "float_16_TENSOR2"
      ],
      "metadata": {
        "colab": {
          "base_uri": "https://localhost:8080/"
        },
        "id": "MQNCEybS0NVO",
        "outputId": "46ee3307-2c71-4367-870d-c14e35db57e7"
      },
      "execution_count": null,
      "outputs": [
        {
          "output_type": "execute_result",
          "data": {
            "text/plain": [
              "tensor([[[0.2473, 0.7480],\n",
              "         [0.2188, 0.9595],\n",
              "         [0.6138, 0.6831],\n",
              "         [0.6074, 0.2673]]], dtype=torch.float16)"
            ]
          },
          "metadata": {},
          "execution_count": 38
        }
      ]
    },
    {
      "cell_type": "code",
      "source": [
        "int_32_TENSOR = torch.tensor([3, 6, 7],\n",
        "                               dtype=torch.int32, # Tipo de dados\n",
        "                               device=None, # CPU ou CUDA\n",
        "                               requires_grad=False) # Rastrear ou nao o gradinete das operacoes com o tensor\n",
        "int_32_TENSOR"
      ],
      "metadata": {
        "colab": {
          "base_uri": "https://localhost:8080/"
        },
        "id": "rAO8gAfntkqW",
        "outputId": "9b85c909-3f01-4ce5-b2a2-d2bea33dea86"
      },
      "execution_count": null,
      "outputs": [
        {
          "output_type": "execute_result",
          "data": {
            "text/plain": [
              "tensor([3, 6, 7], dtype=torch.int32)"
            ]
          },
          "metadata": {},
          "execution_count": 39
        }
      ]
    },
    {
      "cell_type": "code",
      "source": [
        "float_32_TENSOR *int_32_TENSOR"
      ],
      "metadata": {
        "colab": {
          "base_uri": "https://localhost:8080/"
        },
        "id": "2ISqxEaFujHA",
        "outputId": "c4510d26-2f59-4466-bf37-4c3167cc63df"
      },
      "execution_count": null,
      "outputs": [
        {
          "output_type": "execute_result",
          "data": {
            "text/plain": [
              "tensor([ 9, 36, 49])"
            ]
          },
          "metadata": {},
          "execution_count": 40
        }
      ]
    },
    {
      "cell_type": "code",
      "source": [
        "# Pegando informacoes do tensor\n",
        "informacoes_tensor = torch.rand(3,4)\n",
        "print(informacoes_tensor)\n",
        "print(f\"Shape do tensor:  {informacoes_tensor.shape}\")\n",
        "print(f\"Tipo de dados do tensor: {informacoes_tensor.dtype}\")\n",
        "print(f\"Dispositivo do tensor: {informacoes_tensor.device}\")"
      ],
      "metadata": {
        "colab": {
          "base_uri": "https://localhost:8080/"
        },
        "id": "xQKovJnTuvKq",
        "outputId": "f5f63dd1-7f54-4da2-875d-ab2a28daecd8"
      },
      "execution_count": null,
      "outputs": [
        {
          "output_type": "stream",
          "name": "stdout",
          "text": [
            "tensor([[0.9661, 0.8139, 0.6702, 0.4379],\n",
            "        [0.3602, 0.7612, 0.2260, 0.4817],\n",
            "        [0.5591, 0.6752, 0.8147, 0.2420]])\n",
            "Shape do tensor:  torch.Size([3, 4])\n",
            "Tipo de dados do tensor: torch.float32\n",
            "Dispositivo do tensor: cpu\n"
          ]
        }
      ]
    },
    {
      "cell_type": "code",
      "source": [
        "int_32_TENSOR2 = torch.tensor([3, 6, 7],\n",
        "                               dtype=torch.int32, # Tipo de dados\n",
        "                               device=device, # 'cpu' ou 'cuda'\n",
        "                               requires_grad=False) # Rastrear ou nao o gradinete das operacoes com o tensor\n",
        "int_32_TENSOR2"
      ],
      "metadata": {
        "colab": {
          "base_uri": "https://localhost:8080/"
        },
        "id": "H5YEkwCOvrxW",
        "outputId": "ac231034-989d-4165-fdca-31162f2cd8fb"
      },
      "execution_count": null,
      "outputs": [
        {
          "output_type": "execute_result",
          "data": {
            "text/plain": [
              "tensor([3, 6, 7], dtype=torch.int32)"
            ]
          },
          "metadata": {},
          "execution_count": 43
        }
      ]
    },
    {
      "cell_type": "markdown",
      "source": [
        "### Manipulacao de Tensor (operacoes)\n",
        "\n",
        "Operacoes de Tensor\n",
        "* Adicao\n",
        "* Subtracao\n",
        "* Multiplicacao (todos a por todos b)\n",
        "* Multiplicacao de matrix                                       \n"
      ],
      "metadata": {
        "id": "WGsW_rw9zdDj"
      }
    },
    {
      "cell_type": "code",
      "source": [
        "# Somando 10\n",
        "tensor_op = torch.tensor([1, 2, 3])\n",
        "tensor_op + 10"
      ],
      "metadata": {
        "colab": {
          "base_uri": "https://localhost:8080/"
        },
        "id": "wjLCttoXw1-7",
        "outputId": "03b42686-35f3-4ef6-d008-3c729e5eeb6c"
      },
      "execution_count": null,
      "outputs": [
        {
          "output_type": "execute_result",
          "data": {
            "text/plain": [
              "tensor([11, 12, 13])"
            ]
          },
          "metadata": {},
          "execution_count": 44
        }
      ]
    },
    {
      "cell_type": "code",
      "source": [
        "# Subtraindo 10\n",
        "tensor_op - 10"
      ],
      "metadata": {
        "colab": {
          "base_uri": "https://localhost:8080/"
        },
        "id": "pnclQXRgyF8u",
        "outputId": "cbd6e491-edb9-4e69-efb3-250718e7e554"
      },
      "execution_count": null,
      "outputs": [
        {
          "output_type": "execute_result",
          "data": {
            "text/plain": [
              "tensor([-9, -8, -7])"
            ]
          },
          "metadata": {},
          "execution_count": 45
        }
      ]
    },
    {
      "cell_type": "code",
      "source": [
        "# Multiplicando 10\n",
        "tensor_op * 10"
      ],
      "metadata": {
        "colab": {
          "base_uri": "https://localhost:8080/"
        },
        "id": "4ch_kFxQ0Z_d",
        "outputId": "a99466b2-1305-49d6-ddcc-69e24714b4b9"
      },
      "execution_count": null,
      "outputs": [
        {
          "output_type": "execute_result",
          "data": {
            "text/plain": [
              "tensor([10, 20, 30])"
            ]
          },
          "metadata": {},
          "execution_count": 46
        }
      ]
    },
    {
      "cell_type": "code",
      "source": [
        "torch.mul(tensor_op, 100)"
      ],
      "metadata": {
        "colab": {
          "base_uri": "https://localhost:8080/"
        },
        "id": "Ur6UtW0t0chN",
        "outputId": "339d33ce-6bd5-422b-d29b-57a3bd9d66eb"
      },
      "execution_count": null,
      "outputs": [
        {
          "output_type": "execute_result",
          "data": {
            "text/plain": [
              "tensor([100, 200, 300])"
            ]
          },
          "metadata": {},
          "execution_count": 47
        }
      ]
    },
    {
      "cell_type": "code",
      "source": [
        "torch.add(tensor_op, 100)"
      ],
      "metadata": {
        "colab": {
          "base_uri": "https://localhost:8080/"
        },
        "id": "g3RU6GdG0voB",
        "outputId": "c741b27d-b945-4738-b806-805a55443f47"
      },
      "execution_count": null,
      "outputs": [
        {
          "output_type": "execute_result",
          "data": {
            "text/plain": [
              "tensor([101, 102, 103])"
            ]
          },
          "metadata": {},
          "execution_count": 48
        }
      ]
    },
    {
      "cell_type": "code",
      "source": [
        "torch.sub(tensor_op, 100)"
      ],
      "metadata": {
        "colab": {
          "base_uri": "https://localhost:8080/"
        },
        "id": "NRkj74e200Hk",
        "outputId": "4654f490-8f09-487d-ee4e-b363c17f7ab7"
      },
      "execution_count": null,
      "outputs": [
        {
          "output_type": "execute_result",
          "data": {
            "text/plain": [
              "tensor([-99, -98, -97])"
            ]
          },
          "metadata": {},
          "execution_count": 49
        }
      ]
    },
    {
      "cell_type": "markdown",
      "source": [
        "# Multiplicacao de Matriz\n",
        "\n",
        "###Element-wise(numero pelo matriz)\n",
        "### Matriz por Matriz(dot product)"
      ],
      "metadata": {
        "id": "V9Fz8XAP1PiB"
      }
    },
    {
      "cell_type": "code",
      "source": [
        "print(tensor_op, '*' ,tensor_op)\n",
        "print(f\"Igual a {tensor_op * tensor_op}\")"
      ],
      "metadata": {
        "colab": {
          "base_uri": "https://localhost:8080/"
        },
        "id": "uYLmFDgq1PrJ",
        "outputId": "5c656fde-7346-4946-81e3-65dd705fdc0a"
      },
      "execution_count": null,
      "outputs": [
        {
          "output_type": "stream",
          "name": "stdout",
          "text": [
            "tensor([1, 2, 3]) * tensor([1, 2, 3])\n",
            "Igual a tensor([1, 4, 9])\n"
          ]
        }
      ]
    },
    {
      "cell_type": "code",
      "source": [
        "mum = torch.tensor([[1 ,2 ,3],\n",
        "                   [4, 5, 6]])\n",
        "mdois = torch.tensor([[7, 8],\n",
        "                     [9, 10],\n",
        "                     [11, 12]])"
      ],
      "metadata": {
        "id": "P4w3VEqr01ar"
      },
      "execution_count": null,
      "outputs": []
    },
    {
      "cell_type": "code",
      "source": [
        "torch.matmul(mum, mdois)"
      ],
      "metadata": {
        "colab": {
          "base_uri": "https://localhost:8080/"
        },
        "id": "FMUzrUR10pi7",
        "outputId": "5281d0dd-2a0b-48f5-f410-7d890dd97313"
      },
      "execution_count": null,
      "outputs": [
        {
          "output_type": "execute_result",
          "data": {
            "text/plain": [
              "tensor([[ 58,  64],\n",
              "        [139, 154]])"
            ]
          },
          "metadata": {},
          "execution_count": 52
        }
      ]
    },
    {
      "cell_type": "code",
      "source": [
        "torch.matmul(tensor_op, tensor_op)"
      ],
      "metadata": {
        "colab": {
          "base_uri": "https://localhost:8080/"
        },
        "id": "LzOJsW5o0rWj",
        "outputId": "8c476c54-2c69-4259-caf4-7d01e897ee02"
      },
      "execution_count": null,
      "outputs": [
        {
          "output_type": "execute_result",
          "data": {
            "text/plain": [
              "tensor(14)"
            ]
          },
          "metadata": {},
          "execution_count": 53
        }
      ]
    },
    {
      "cell_type": "code",
      "source": [
        "tensor_time = torch.rand(19, 90)\n",
        "\n",
        "tensor_time2 = torch.rand(90, 19)\n"
      ],
      "metadata": {
        "id": "5N5hjJKY0vwp"
      },
      "execution_count": null,
      "outputs": []
    },
    {
      "cell_type": "code",
      "source": [
        "%%time\n",
        "value = 0\n",
        "for i in range(len(tensor_time)):\n",
        "  value += tensor_time[i] * tensor_time[i]\n",
        "print(value)"
      ],
      "metadata": {
        "colab": {
          "base_uri": "https://localhost:8080/"
        },
        "id": "NCZCRxAs3eBD",
        "outputId": "01d64570-9cdc-43f9-d50f-fa1eb7e31b43"
      },
      "execution_count": null,
      "outputs": [
        {
          "output_type": "stream",
          "name": "stdout",
          "text": [
            "tensor([5.9591, 4.7445, 8.0264, 6.7418, 6.9179, 6.0974, 4.7027, 6.1977, 7.1018,\n",
            "        6.3360, 6.4655, 5.4333, 6.6125, 6.5898, 4.5694, 7.3572, 6.5656, 5.9667,\n",
            "        7.4261, 6.7236, 6.3206, 5.3691, 5.4473, 7.5144, 6.3236, 7.1386, 7.7643,\n",
            "        6.1189, 7.4064, 8.3847, 4.2541, 3.2245, 5.4728, 5.6055, 6.5668, 6.8892,\n",
            "        3.9204, 6.4278, 5.6609, 8.7449, 5.8123, 7.6557, 5.0260, 4.9023, 5.9473,\n",
            "        6.8257, 7.2918, 5.6422, 8.2126, 5.0855, 6.4562, 6.8802, 6.4623, 7.0353,\n",
            "        8.1802, 6.8509, 5.3779, 6.8243, 7.5024, 5.3549, 5.5188, 4.3557, 3.7429,\n",
            "        5.4425, 5.9451, 7.2033, 6.4475, 6.7937, 7.0039, 7.1662, 5.2925, 7.8449,\n",
            "        8.9390, 5.7332, 8.2867, 5.5835, 7.1679, 8.2729, 6.0248, 5.4596, 6.7408,\n",
            "        4.0207, 6.9761, 5.4283, 5.9333, 7.5273, 6.0091, 5.2761, 6.0169, 6.9688])\n",
            "CPU times: user 5.02 ms, sys: 0 ns, total: 5.02 ms\n",
            "Wall time: 7.97 ms\n"
          ]
        }
      ]
    },
    {
      "cell_type": "code",
      "source": [
        "%%time\n",
        "torch.matmul(tensor_time, tensor_time2)\n",
        "#Ver no chat mxn X nxp -> mxp"
      ],
      "metadata": {
        "colab": {
          "base_uri": "https://localhost:8080/"
        },
        "id": "wL9yt6jS34hI",
        "outputId": "3c9df6ef-ed2b-4cf1-ea37-03328eac2f24"
      },
      "execution_count": null,
      "outputs": [
        {
          "output_type": "stream",
          "name": "stdout",
          "text": [
            "CPU times: user 754 µs, sys: 0 ns, total: 754 µs\n",
            "Wall time: 7.49 ms\n"
          ]
        },
        {
          "output_type": "execute_result",
          "data": {
            "text/plain": [
              "tensor([[24.8347, 22.5758, 22.5556, 22.7822, 23.7317, 24.7048, 19.7732, 21.5461,\n",
              "         24.3404, 23.3131, 22.5057, 23.4701, 26.4961, 24.2108, 27.2561, 23.7933,\n",
              "         23.2722, 25.1889, 26.0953],\n",
              "        [23.6763, 22.8798, 20.8156, 21.5771, 22.1245, 22.1784, 18.2308, 20.4431,\n",
              "         22.5510, 22.8129, 21.8058, 21.1847, 25.2372, 21.0398, 25.0441, 22.3500,\n",
              "         19.8763, 23.8170, 23.9071],\n",
              "        [22.1535, 22.3078, 20.7748, 20.6474, 20.2290, 21.1533, 17.3601, 18.7413,\n",
              "         21.7813, 21.6665, 19.2592, 20.8844, 23.8365, 21.8782, 25.5265, 20.9237,\n",
              "         17.8352, 22.5287, 22.1039],\n",
              "        [25.1833, 22.7964, 21.8029, 21.6543, 23.3938, 21.5759, 18.7007, 22.5016,\n",
              "         24.2195, 22.9397, 22.2793, 22.7361, 25.2166, 22.8476, 27.3714, 23.2009,\n",
              "         19.7285, 24.3327, 24.8797],\n",
              "        [22.1587, 20.2841, 19.5937, 19.6504, 21.5659, 20.5636, 16.1431, 18.6180,\n",
              "         19.5664, 21.1445, 18.5257, 20.5404, 22.0541, 20.5392, 22.9070, 19.8810,\n",
              "         17.9139, 20.8009, 20.9681],\n",
              "        [21.3275, 19.9596, 19.7241, 19.5202, 20.8891, 19.9925, 17.4549, 20.6486,\n",
              "         20.5106, 19.4116, 20.5973, 20.7958, 23.2766, 21.7865, 24.9060, 21.5411,\n",
              "         19.0256, 22.2804, 21.9771],\n",
              "        [25.6573, 25.1828, 24.2777, 22.8690, 25.1843, 23.4030, 21.1655, 23.8507,\n",
              "         24.7604, 26.0799, 23.1174, 24.5404, 26.5311, 24.3343, 27.9318, 24.4410,\n",
              "         21.2555, 25.6440, 25.8606],\n",
              "        [24.5582, 19.3159, 18.5235, 19.3392, 20.8967, 21.5154, 17.2858, 19.0974,\n",
              "         21.9893, 19.7380, 19.1760, 20.3735, 24.4972, 20.9292, 23.1941, 21.4545,\n",
              "         19.4540, 20.1459, 23.6386],\n",
              "        [22.3100, 20.3884, 18.8210, 20.5263, 20.2282, 20.4894, 18.1890, 19.1350,\n",
              "         21.2400, 20.3461, 20.2640, 21.2594, 24.3802, 20.6079, 23.5282, 21.5824,\n",
              "         19.4866, 21.4448, 21.5210],\n",
              "        [22.0814, 21.9770, 19.7585, 19.3583, 21.7423, 22.0637, 18.6925, 20.5125,\n",
              "         21.5018, 22.1257, 21.6333, 19.5067, 24.4058, 21.2697, 23.6086, 20.5526,\n",
              "         20.6441, 20.7575, 23.7234],\n",
              "        [24.8762, 23.7009, 24.0423, 21.8875, 24.2666, 24.0326, 21.1478, 22.6115,\n",
              "         23.8196, 24.0174, 23.7778, 23.5098, 27.1682, 23.5978, 26.4818, 24.1720,\n",
              "         21.9846, 23.6633, 24.5825],\n",
              "        [24.3439, 22.7265, 22.2673, 21.8324, 22.6712, 22.9385, 19.2067, 23.6991,\n",
              "         24.2560, 22.8832, 21.1005, 22.8107, 26.6591, 23.0054, 24.4709, 23.3324,\n",
              "         21.9264, 24.7222, 24.3286],\n",
              "        [25.2506, 20.6999, 22.3789, 21.5427, 21.7488, 23.6081, 19.0370, 20.5514,\n",
              "         23.1358, 22.4415, 21.6635, 21.9504, 24.4864, 22.6422, 27.1488, 23.0889,\n",
              "         21.0285, 23.4115, 25.2344],\n",
              "        [24.5152, 20.6131, 21.1396, 21.2668, 21.9052, 22.7998, 17.3906, 20.1974,\n",
              "         21.2387, 21.0608, 20.3017, 20.8350, 24.7163, 22.3934, 25.3528, 23.7468,\n",
              "         20.3394, 23.3234, 23.4576],\n",
              "        [24.0312, 21.7162, 20.6651, 19.3822, 23.1712, 22.2049, 18.7394, 19.3104,\n",
              "         21.5899, 21.7877, 21.0023, 21.2618, 25.2015, 20.2187, 25.1894, 21.5760,\n",
              "         19.2980, 21.7980, 22.8019],\n",
              "        [22.9896, 22.2332, 21.7675, 20.5169, 21.6549, 22.7626, 19.4169, 21.6459,\n",
              "         22.5921, 23.0355, 20.4333, 21.9976, 25.2896, 23.1121, 25.7311, 22.6582,\n",
              "         18.7212, 23.3360, 23.5280],\n",
              "        [23.7852, 21.9356, 21.5029, 20.9252, 23.6674, 22.7389, 19.0373, 20.3657,\n",
              "         22.9387, 22.8963, 22.6099, 21.6472, 26.0431, 21.9224, 27.0565, 23.5571,\n",
              "         19.7899, 22.4503, 23.6575],\n",
              "        [23.2794, 22.1540, 23.3728, 21.2316, 22.7934, 22.2400, 19.1752, 21.8503,\n",
              "         21.8141, 24.0058, 20.5169, 23.6303, 23.2075, 23.4205, 25.0620, 22.6636,\n",
              "         20.4896, 23.0317, 24.1830],\n",
              "        [22.2017, 22.4634, 20.7956, 20.2927, 21.6463, 21.7161, 17.7327, 21.3316,\n",
              "         22.0392, 21.3215, 20.4306, 20.6794, 25.0745, 19.2310, 26.0159, 20.9768,\n",
              "         19.1059, 23.7360, 24.1320]])"
            ]
          },
          "metadata": {},
          "execution_count": 56
        }
      ]
    },
    {
      "cell_type": "markdown",
      "source": [
        "### Erros de shape (Multiplicacao de Matriz)\n",
        "\n",
        "#### Duas regras basicas\n",
        "* Elemento X Matriz (element-wise)\n",
        "* Matriz X Matriz (dot Product)\n",
        "\n",
        "#### Para Matriz X Matriz\n",
        "\n",
        "Duas regras devem ser satisfeitas\n",
        "\n",
        "* As **dimensoes de dentro** devem ser iguais:\n",
        "\n",
        "  * (3, 2) @ (3, 2) -> Nao funciona\n",
        "  * (3, 2) @ (2, 3) -> funciona\n",
        "  * (2, 3) @ (3, 2) -> funciona\n",
        "\n",
        "* O resultado se dara pelas **dimensoes de fora**:\n",
        "\n",
        "  * (3, 2) @ (2, 3) -> (3, 3)\n",
        "  * (2, 3) @ (3, 2) -> (2, 2)"
      ],
      "metadata": {
        "id": "Ks_NohpkDIb4"
      }
    },
    {
      "cell_type": "markdown",
      "source": [
        "Transposicao"
      ],
      "metadata": {
        "id": "Bojh-hR3IQQA"
      }
    },
    {
      "cell_type": "code",
      "source": [
        "mum"
      ],
      "metadata": {
        "id": "a6rh44Vt4C_R",
        "colab": {
          "base_uri": "https://localhost:8080/"
        },
        "outputId": "7c13a797-29fa-43f4-ca83-bf6ad8da4622"
      },
      "execution_count": null,
      "outputs": [
        {
          "output_type": "execute_result",
          "data": {
            "text/plain": [
              "tensor([[1, 2, 3],\n",
              "        [4, 5, 6]])"
            ]
          },
          "metadata": {},
          "execution_count": 57
        }
      ]
    },
    {
      "cell_type": "code",
      "source": [
        "#Da erro pois as duas tem o mesmo fortamo, e nao obedecem a regra de as dimensoes do meio serem iguais\n",
        "#torch.matmul(mum, mum)"
      ],
      "metadata": {
        "id": "c4AYRLmIITG2"
      },
      "execution_count": null,
      "outputs": []
    },
    {
      "cell_type": "code",
      "source": [
        "#para resolver, se deve transpor uma das matrizes (torch.T)\n",
        "mum.T\n"
      ],
      "metadata": {
        "colab": {
          "base_uri": "https://localhost:8080/"
        },
        "id": "KpMBtLQPIWvG",
        "outputId": "14648808-498d-4bfd-b85c-30fc82d3b378"
      },
      "execution_count": null,
      "outputs": [
        {
          "output_type": "execute_result",
          "data": {
            "text/plain": [
              "tensor([[1, 4],\n",
              "        [2, 5],\n",
              "        [3, 6]])"
            ]
          },
          "metadata": {},
          "execution_count": 59
        }
      ]
    },
    {
      "cell_type": "code",
      "source": [
        "torch.matmul(mum, mum.T)"
      ],
      "metadata": {
        "colab": {
          "base_uri": "https://localhost:8080/"
        },
        "id": "NsFTib11IqwY",
        "outputId": "4d05226b-1958-4452-fa59-45509eb95b1a"
      },
      "execution_count": null,
      "outputs": [
        {
          "output_type": "execute_result",
          "data": {
            "text/plain": [
              "tensor([[14, 32],\n",
              "        [32, 77]])"
            ]
          },
          "metadata": {},
          "execution_count": 60
        }
      ]
    },
    {
      "cell_type": "code",
      "source": [
        "print(f\" {mum} \\n \\n {mum.T}\")"
      ],
      "metadata": {
        "colab": {
          "base_uri": "https://localhost:8080/"
        },
        "id": "7bVFT8N8I1HN",
        "outputId": "746ae3d6-fea8-46df-92d6-24e72ca4c9ad"
      },
      "execution_count": null,
      "outputs": [
        {
          "output_type": "stream",
          "name": "stdout",
          "text": [
            " tensor([[1, 2, 3],\n",
            "        [4, 5, 6]]) \n",
            " \n",
            " tensor([[1, 4],\n",
            "        [2, 5],\n",
            "        [3, 6]])\n"
          ]
        }
      ]
    },
    {
      "cell_type": "code",
      "source": [
        "print(f\"Shape original: mum = {mum.shape}\\n\")\n",
        "print(f\"Para multiplicar eles {mum.shape}, por ele mesmo e necessario transpor {mum.T.shape}\\n\")\n",
        "print(f\"Multiplicando: {mum} \\n@\\n {mum.T} <- As dimensoes de dentro agora sao iguais\\n\")\n",
        "print(\"Resultado: \\n\")\n",
        "resultado = torch.matmul(mum, mum.T)\n",
        "print(resultado)\n",
        "print(f\"\\n Shape da saida: {resultado.shape} a saida fica com o tamanho das dimensoes de fora \")"
      ],
      "metadata": {
        "colab": {
          "base_uri": "https://localhost:8080/"
        },
        "id": "fOgjsSLiI5xU",
        "outputId": "da29757d-e310-4d76-9390-3720eab70dc9"
      },
      "execution_count": null,
      "outputs": [
        {
          "output_type": "stream",
          "name": "stdout",
          "text": [
            "Shape original: mum = torch.Size([2, 3])\n",
            "\n",
            "Para multiplicar eles torch.Size([2, 3]), por ele mesmo e necessario transpor torch.Size([3, 2])\n",
            "\n",
            "Multiplicando: tensor([[1, 2, 3],\n",
            "        [4, 5, 6]]) \n",
            "@\n",
            " tensor([[1, 4],\n",
            "        [2, 5],\n",
            "        [3, 6]]) <- As dimensoes de dentro agora sao iguais\n",
            "\n",
            "Resultado: \n",
            "\n",
            "tensor([[14, 32],\n",
            "        [32, 77]])\n",
            "\n",
            " Shape da saida: torch.Size([2, 2]) a saida fica com o tamanho das dimensoes de fora \n"
          ]
        }
      ]
    },
    {
      "cell_type": "markdown",
      "source": [
        "### Tensor Aggregation"
      ],
      "metadata": {
        "id": "5AElXA_d9Yq2"
      }
    },
    {
      "cell_type": "code",
      "source": [
        "resultado.max(), resultado.min(), resultado.sum(), #resultado.mean()"
      ],
      "metadata": {
        "id": "YRjhd56EKiLs",
        "colab": {
          "base_uri": "https://localhost:8080/"
        },
        "outputId": "91157f69-080f-4990-df0d-cc746b255023"
      },
      "execution_count": null,
      "outputs": [
        {
          "output_type": "execute_result",
          "data": {
            "text/plain": [
              "(tensor(77), tensor(14), tensor(155))"
            ]
          },
          "metadata": {},
          "execution_count": 63
        }
      ]
    },
    {
      "cell_type": "code",
      "source": [
        "torch.mean(resultado.type(torch.float32))"
      ],
      "metadata": {
        "colab": {
          "base_uri": "https://localhost:8080/"
        },
        "id": "4gPTWfdj0EHQ",
        "outputId": "4849aa7f-76d5-4cd7-9ef3-10a6321a584e"
      },
      "execution_count": null,
      "outputs": [
        {
          "output_type": "execute_result",
          "data": {
            "text/plain": [
              "tensor(38.7500)"
            ]
          },
          "metadata": {},
          "execution_count": 64
        }
      ]
    },
    {
      "cell_type": "code",
      "source": [
        "resultado32 = resultado.type(torch.float32)\n",
        "resultado32.mean()"
      ],
      "metadata": {
        "colab": {
          "base_uri": "https://localhost:8080/"
        },
        "id": "EmQy45RW1Blt",
        "outputId": "844e3c06-f775-4f8a-abed-545d37c8a369"
      },
      "execution_count": null,
      "outputs": [
        {
          "output_type": "execute_result",
          "data": {
            "text/plain": [
              "tensor(38.7500)"
            ]
          },
          "metadata": {},
          "execution_count": 65
        }
      ]
    },
    {
      "cell_type": "code",
      "source": [
        "mum"
      ],
      "metadata": {
        "id": "wn1nk0712lHa",
        "colab": {
          "base_uri": "https://localhost:8080/"
        },
        "outputId": "9f4c4c8f-144a-452f-da4f-99c40bc3dc1a"
      },
      "execution_count": null,
      "outputs": [
        {
          "output_type": "execute_result",
          "data": {
            "text/plain": [
              "tensor([[1, 2, 3],\n",
              "        [4, 5, 6]])"
            ]
          },
          "metadata": {},
          "execution_count": 66
        }
      ]
    },
    {
      "cell_type": "markdown",
      "source": [
        "### Encontrando pasicao maxima e minima no tensor\n",
        "\n",
        "- argmin()\n",
        "- argmax()"
      ],
      "metadata": {
        "id": "yHsv3lde_9cL"
      }
    },
    {
      "cell_type": "code",
      "source": [
        "mum.argmin()"
      ],
      "metadata": {
        "colab": {
          "base_uri": "https://localhost:8080/"
        },
        "id": "7U8nSHe7_ZQK",
        "outputId": "1517c3e0-7cee-420b-b562-68dc6f2af011"
      },
      "execution_count": null,
      "outputs": [
        {
          "output_type": "execute_result",
          "data": {
            "text/plain": [
              "tensor(0)"
            ]
          },
          "metadata": {},
          "execution_count": 67
        }
      ]
    },
    {
      "cell_type": "code",
      "source": [
        "mum[0]"
      ],
      "metadata": {
        "colab": {
          "base_uri": "https://localhost:8080/"
        },
        "id": "W5gemjnX_b1w",
        "outputId": "0a2e665e-882e-495e-9bfa-1d16204824cc"
      },
      "execution_count": null,
      "outputs": [
        {
          "output_type": "execute_result",
          "data": {
            "text/plain": [
              "tensor([1, 2, 3])"
            ]
          },
          "metadata": {},
          "execution_count": 68
        }
      ]
    },
    {
      "cell_type": "code",
      "source": [
        "argtensor = torch.rand(3,4)\n",
        "argtensor\n"
      ],
      "metadata": {
        "colab": {
          "base_uri": "https://localhost:8080/"
        },
        "id": "k2LcxZFs_fzd",
        "outputId": "6d5afd16-9d3e-4bcb-f041-1537497e4d39"
      },
      "execution_count": null,
      "outputs": [
        {
          "output_type": "execute_result",
          "data": {
            "text/plain": [
              "tensor([[0.7176, 0.5409, 0.3900, 0.3815],\n",
              "        [0.0287, 0.4672, 0.5729, 0.4801],\n",
              "        [0.1486, 0.8478, 0.6506, 0.8858]])"
            ]
          },
          "metadata": {},
          "execution_count": 69
        }
      ]
    },
    {
      "cell_type": "code",
      "source": [
        "argtensor.argmin(), mum.argmax()"
      ],
      "metadata": {
        "colab": {
          "base_uri": "https://localhost:8080/"
        },
        "id": "PSwplHFR_rVh",
        "outputId": "d3efe48d-cb54-4d7d-a18f-c0f01936a9b0"
      },
      "execution_count": null,
      "outputs": [
        {
          "output_type": "execute_result",
          "data": {
            "text/plain": [
              "(tensor(4), tensor(5))"
            ]
          },
          "metadata": {},
          "execution_count": 70
        }
      ]
    },
    {
      "cell_type": "code",
      "source": [
        "argtensor[0:, :2]"
      ],
      "metadata": {
        "colab": {
          "base_uri": "https://localhost:8080/"
        },
        "id": "ZdQ5nOMJAiWV",
        "outputId": "18e66a65-d656-405a-f3a7-dc6fb2d28148"
      },
      "execution_count": null,
      "outputs": [
        {
          "output_type": "execute_result",
          "data": {
            "text/plain": [
              "tensor([[0.7176, 0.5409],\n",
              "        [0.0287, 0.4672],\n",
              "        [0.1486, 0.8478]])"
            ]
          },
          "metadata": {},
          "execution_count": 71
        }
      ]
    },
    {
      "cell_type": "markdown",
      "source": [
        "### Reshaping"
      ],
      "metadata": {
        "id": "uzPIAoPq-7af"
      }
    },
    {
      "cell_type": "code",
      "source": [
        "tensorx = torch.arange(1, 10)\n",
        "tensorx, tensorx.shape"
      ],
      "metadata": {
        "id": "sY5wuBm_A2hg",
        "colab": {
          "base_uri": "https://localhost:8080/"
        },
        "outputId": "3a28b759-6553-4661-a787-25b3606bc0b9"
      },
      "execution_count": null,
      "outputs": [
        {
          "output_type": "execute_result",
          "data": {
            "text/plain": [
              "(tensor([1, 2, 3, 4, 5, 6, 7, 8, 9]), torch.Size([9]))"
            ]
          },
          "metadata": {},
          "execution_count": 72
        }
      ]
    },
    {
      "cell_type": "code",
      "source": [
        "tensorx2 = torch.arange(11, 20)\n",
        "tensorx2, tensorx2.shape"
      ],
      "metadata": {
        "colab": {
          "base_uri": "https://localhost:8080/"
        },
        "id": "NfVwbR5quqIj",
        "outputId": "c467b565-c12e-4524-f5f7-c68eb45505cf"
      },
      "execution_count": null,
      "outputs": [
        {
          "output_type": "execute_result",
          "data": {
            "text/plain": [
              "(tensor([11, 12, 13, 14, 15, 16, 17, 18, 19]), torch.Size([9]))"
            ]
          },
          "metadata": {},
          "execution_count": 73
        }
      ]
    },
    {
      "cell_type": "code",
      "source": [
        "tensorx.reshape(3, 3), tensorx.reshape(3, 3).shape"
      ],
      "metadata": {
        "colab": {
          "base_uri": "https://localhost:8080/"
        },
        "id": "d-pbYc_Zqa4b",
        "outputId": "c2b5d07c-5de0-4f4e-c5b8-a5b3657ac08d"
      },
      "execution_count": null,
      "outputs": [
        {
          "output_type": "execute_result",
          "data": {
            "text/plain": [
              "(tensor([[1, 2, 3],\n",
              "         [4, 5, 6],\n",
              "         [7, 8, 9]]),\n",
              " torch.Size([3, 3]))"
            ]
          },
          "metadata": {},
          "execution_count": 74
        }
      ]
    },
    {
      "cell_type": "markdown",
      "source": [
        "### View"
      ],
      "metadata": {
        "id": "GIPbmo1EwfKR"
      }
    },
    {
      "cell_type": "code",
      "source": [
        "tensor_view = tensorx.view(9, 1)\n",
        "tensor_view, tensor_view.view(9, 1).shape"
      ],
      "metadata": {
        "colab": {
          "base_uri": "https://localhost:8080/"
        },
        "id": "SKKoAmuhqhte",
        "outputId": "0e7c3479-d629-42c5-b026-8e7a98dec0ed"
      },
      "execution_count": null,
      "outputs": [
        {
          "output_type": "execute_result",
          "data": {
            "text/plain": [
              "(tensor([[1],\n",
              "         [2],\n",
              "         [3],\n",
              "         [4],\n",
              "         [5],\n",
              "         [6],\n",
              "         [7],\n",
              "         [8],\n",
              "         [9]]),\n",
              " torch.Size([9, 1]))"
            ]
          },
          "metadata": {},
          "execution_count": 75
        }
      ]
    },
    {
      "cell_type": "code",
      "source": [
        "tensor_view, tensorx"
      ],
      "metadata": {
        "colab": {
          "base_uri": "https://localhost:8080/"
        },
        "id": "OaUvVdlTrOkB",
        "outputId": "a3dd91fd-86de-4a7e-92ae-cf2ca8923eb4"
      },
      "execution_count": null,
      "outputs": [
        {
          "output_type": "execute_result",
          "data": {
            "text/plain": [
              "(tensor([[1],\n",
              "         [2],\n",
              "         [3],\n",
              "         [4],\n",
              "         [5],\n",
              "         [6],\n",
              "         [7],\n",
              "         [8],\n",
              "         [9]]),\n",
              " tensor([1, 2, 3, 4, 5, 6, 7, 8, 9]))"
            ]
          },
          "metadata": {},
          "execution_count": 76
        }
      ]
    },
    {
      "cell_type": "code",
      "source": [
        "tensor_view[0: 1] = 7"
      ],
      "metadata": {
        "id": "ANQ89PXruBCZ"
      },
      "execution_count": null,
      "outputs": []
    },
    {
      "cell_type": "code",
      "source": [
        "#AO atribuir um valor diferente para o tensor_view, o mesmo ocorre com o tensor original, pois os dois compartilha a mesma memoria\n",
        "tensor_view, tensorx"
      ],
      "metadata": {
        "colab": {
          "base_uri": "https://localhost:8080/"
        },
        "id": "WawaagH1uKMV",
        "outputId": "2b1ee1f3-e077-4434-8e71-203c160ee1f4"
      },
      "execution_count": null,
      "outputs": [
        {
          "output_type": "execute_result",
          "data": {
            "text/plain": [
              "(tensor([[7],\n",
              "         [2],\n",
              "         [3],\n",
              "         [4],\n",
              "         [5],\n",
              "         [6],\n",
              "         [7],\n",
              "         [8],\n",
              "         [9]]),\n",
              " tensor([7, 2, 3, 4, 5, 6, 7, 8, 9]))"
            ]
          },
          "metadata": {},
          "execution_count": 78
        }
      ]
    },
    {
      "cell_type": "markdown",
      "source": [
        "### Stack"
      ],
      "metadata": {
        "id": "Ui3wZcTowhyI"
      }
    },
    {
      "cell_type": "code",
      "source": [
        "tensor_stack = torch.stack([tensorx, tensorx2], dim=0)\n",
        "tensor_stack, tensor_stack.shape"
      ],
      "metadata": {
        "colab": {
          "base_uri": "https://localhost:8080/"
        },
        "id": "mgckDmWHuMNy",
        "outputId": "d37d619b-a867-47eb-cef7-5c6a50f6277f"
      },
      "execution_count": null,
      "outputs": [
        {
          "output_type": "execute_result",
          "data": {
            "text/plain": [
              "(tensor([[ 7,  2,  3,  4,  5,  6,  7,  8,  9],\n",
              "         [11, 12, 13, 14, 15, 16, 17, 18, 19]]),\n",
              " torch.Size([2, 9]))"
            ]
          },
          "metadata": {},
          "execution_count": 79
        }
      ]
    },
    {
      "cell_type": "code",
      "source": [
        "tensor_stack2 = torch.stack([tensorx, tensorx2], dim=1)\n",
        "tensor_stack2, tensor_stack2.shape"
      ],
      "metadata": {
        "colab": {
          "base_uri": "https://localhost:8080/"
        },
        "id": "gZua_AMgu8rt",
        "outputId": "e408a4f7-845f-43ed-c30b-4520b2c58cc2"
      },
      "execution_count": null,
      "outputs": [
        {
          "output_type": "execute_result",
          "data": {
            "text/plain": [
              "(tensor([[ 7, 11],\n",
              "         [ 2, 12],\n",
              "         [ 3, 13],\n",
              "         [ 4, 14],\n",
              "         [ 5, 15],\n",
              "         [ 6, 16],\n",
              "         [ 7, 17],\n",
              "         [ 8, 18],\n",
              "         [ 9, 19]]),\n",
              " torch.Size([9, 2]))"
            ]
          },
          "metadata": {},
          "execution_count": 80
        }
      ]
    },
    {
      "cell_type": "markdown",
      "source": [
        "### Squeeze"
      ],
      "metadata": {
        "id": "Of88ddeCwkEh"
      }
    },
    {
      "cell_type": "code",
      "source": [
        "tensorxx = torch.squeeze(tensorx)\n",
        "tensorxx"
      ],
      "metadata": {
        "colab": {
          "base_uri": "https://localhost:8080/"
        },
        "id": "mK2e3xWKwJ3t",
        "outputId": "f4acb20c-ab42-48eb-e687-5b7e1013ff8d"
      },
      "execution_count": null,
      "outputs": [
        {
          "output_type": "execute_result",
          "data": {
            "text/plain": [
              "tensor([7, 2, 3, 4, 5, 6, 7, 8, 9])"
            ]
          },
          "metadata": {},
          "execution_count": 81
        }
      ]
    },
    {
      "cell_type": "code",
      "source": [
        "# REmove todas as dimensoes simples do tensor, dimensoes simples sao 1\n",
        "tensorx.shape"
      ],
      "metadata": {
        "id": "TybdJaDDw48i",
        "colab": {
          "base_uri": "https://localhost:8080/"
        },
        "outputId": "47e2df2a-da81-41e8-a636-c188ee0caf60"
      },
      "execution_count": null,
      "outputs": [
        {
          "output_type": "execute_result",
          "data": {
            "text/plain": [
              "torch.Size([9])"
            ]
          },
          "metadata": {},
          "execution_count": 82
        }
      ]
    },
    {
      "cell_type": "code",
      "source": [
        "tensorx"
      ],
      "metadata": {
        "colab": {
          "base_uri": "https://localhost:8080/"
        },
        "id": "zg_mqp753lry",
        "outputId": "e58a34c5-229e-4084-8fd2-2f8fc2df0ddd"
      },
      "execution_count": null,
      "outputs": [
        {
          "output_type": "execute_result",
          "data": {
            "text/plain": [
              "tensor([7, 2, 3, 4, 5, 6, 7, 8, 9])"
            ]
          },
          "metadata": {},
          "execution_count": 83
        }
      ]
    },
    {
      "cell_type": "code",
      "source": [
        "# adicionando uma diemnsao 1 para poder tirar, eh mole tmnc\n",
        "tensorxxx = torch.unsqueeze(tensorx, dim=0)\n",
        "tensorxxx"
      ],
      "metadata": {
        "colab": {
          "base_uri": "https://localhost:8080/"
        },
        "id": "natBlbxo2hJU",
        "outputId": "fb16155d-24d9-4b7e-d9ef-aa47465d7119"
      },
      "execution_count": null,
      "outputs": [
        {
          "output_type": "execute_result",
          "data": {
            "text/plain": [
              "tensor([[7, 2, 3, 4, 5, 6, 7, 8, 9]])"
            ]
          },
          "metadata": {},
          "execution_count": 84
        }
      ]
    },
    {
      "cell_type": "code",
      "source": [
        "#torch.squeeze() - remove todas as diemnsoes 1 do tensor\n",
        "print(f\"Tensor inicial: {tensorxxx}\")\n",
        "print(f\"Shape inicial: {tensorxxx.shape}\")\n",
        "print(\"\\n \\n\")\n",
        "# Removendo as dimensoes do tensorxxx\n",
        "tensor_esq = torch.squeeze(tensorxxx)\n",
        "print(f\"Tensor final: {tensor_esq}\")\n",
        "print(f\"Shape Final: {tensor_esq.shape}\")"
      ],
      "metadata": {
        "colab": {
          "base_uri": "https://localhost:8080/"
        },
        "id": "L8iiFDDQ24Cw",
        "outputId": "b2c74f18-47d2-4768-88d9-25535927d945"
      },
      "execution_count": null,
      "outputs": [
        {
          "output_type": "stream",
          "name": "stdout",
          "text": [
            "Tensor inicial: tensor([[7, 2, 3, 4, 5, 6, 7, 8, 9]])\n",
            "Shape inicial: torch.Size([1, 9])\n",
            "\n",
            " \n",
            "\n",
            "Tensor final: tensor([7, 2, 3, 4, 5, 6, 7, 8, 9])\n",
            "Shape Final: torch.Size([9])\n"
          ]
        }
      ]
    },
    {
      "cell_type": "code",
      "source": [
        "tensorxxx2 =torch.tensor([[[[1,2,3],\n",
        "                            [4,5,6],\n",
        "                            [7,8,9]]]])\n",
        "tensorxxx2, tensorxxx2.shape"
      ],
      "metadata": {
        "colab": {
          "base_uri": "https://localhost:8080/"
        },
        "id": "mzepPNr35TmX",
        "outputId": "798255d6-063a-47c1-948c-b97db877382b"
      },
      "execution_count": null,
      "outputs": [
        {
          "output_type": "execute_result",
          "data": {
            "text/plain": [
              "(tensor([[[[1, 2, 3],\n",
              "           [4, 5, 6],\n",
              "           [7, 8, 9]]]]),\n",
              " torch.Size([1, 1, 3, 3]))"
            ]
          },
          "metadata": {},
          "execution_count": 86
        }
      ]
    },
    {
      "cell_type": "code",
      "source": [
        "tensor_squeezed = torch.squeeze(tensorxxx2)\n",
        "print(f\"{tensor_squeezed} \\n {tensor_squeezed.shape}\")"
      ],
      "metadata": {
        "colab": {
          "base_uri": "https://localhost:8080/"
        },
        "id": "Cc0lXAxQ5sD7",
        "outputId": "0e6c6b5e-3615-41c6-bc49-954cb1b476cd"
      },
      "execution_count": null,
      "outputs": [
        {
          "output_type": "stream",
          "name": "stdout",
          "text": [
            "tensor([[1, 2, 3],\n",
            "        [4, 5, 6],\n",
            "        [7, 8, 9]]) \n",
            " torch.Size([3, 3])\n"
          ]
        }
      ]
    },
    {
      "cell_type": "code",
      "source": [
        "print(f\"{tensorxxx2.ndim} \\n{torch.squeeze(tensorxxx2).ndim}\")"
      ],
      "metadata": {
        "colab": {
          "base_uri": "https://localhost:8080/"
        },
        "id": "0lX6FpKI6QVh",
        "outputId": "53adbe81-1697-4b73-c071-011356f3612d"
      },
      "execution_count": null,
      "outputs": [
        {
          "output_type": "stream",
          "name": "stdout",
          "text": [
            "4 \n",
            "2\n"
          ]
        }
      ]
    },
    {
      "cell_type": "markdown",
      "source": [
        "###Unsqueeze"
      ],
      "metadata": {
        "id": "WwBR5CKM60Xq"
      }
    },
    {
      "cell_type": "code",
      "source": [
        "# torch.unsqueeze() - Adiciona uma 1 dimensao, na dim espeficica(dim=0 no elemento 0, dim=-1 no ultimo elemento, e o resto)\n",
        "tensor_unsq = torch.unsqueeze(tensorxxx2, dim=3)\n",
        "tensor_unsq, tensor_unsq.shape"
      ],
      "metadata": {
        "colab": {
          "base_uri": "https://localhost:8080/"
        },
        "id": "2hIdeSqv6ezC",
        "outputId": "ff8979a3-395f-4e6b-fce4-d0867431957f"
      },
      "execution_count": null,
      "outputs": [
        {
          "output_type": "execute_result",
          "data": {
            "text/plain": [
              "(tensor([[[[[1, 2, 3]],\n",
              " \n",
              "           [[4, 5, 6]],\n",
              " \n",
              "           [[7, 8, 9]]]]]),\n",
              " torch.Size([1, 1, 3, 1, 3]))"
            ]
          },
          "metadata": {},
          "execution_count": 89
        }
      ]
    },
    {
      "cell_type": "code",
      "source": [
        "tensor_squeezed, tensor_unsq"
      ],
      "metadata": {
        "colab": {
          "base_uri": "https://localhost:8080/"
        },
        "id": "0ktElqhb8ekZ",
        "outputId": "529168fe-daf0-4b17-dd35-44491b88a364"
      },
      "execution_count": null,
      "outputs": [
        {
          "output_type": "execute_result",
          "data": {
            "text/plain": [
              "(tensor([[1, 2, 3],\n",
              "         [4, 5, 6],\n",
              "         [7, 8, 9]]),\n",
              " tensor([[[[[1, 2, 3]],\n",
              " \n",
              "           [[4, 5, 6]],\n",
              " \n",
              "           [[7, 8, 9]]]]]))"
            ]
          },
          "metadata": {},
          "execution_count": 90
        }
      ]
    },
    {
      "cell_type": "code",
      "source": [
        "tensor_unsq3 = tensor_squeezed.unsqueeze(dim=0)\n",
        "tensor_unsq3"
      ],
      "metadata": {
        "colab": {
          "base_uri": "https://localhost:8080/"
        },
        "id": "IHcc0VVX9jf8",
        "outputId": "4724c978-2b3c-4ee3-b949-7d3bdec533fe"
      },
      "execution_count": null,
      "outputs": [
        {
          "output_type": "execute_result",
          "data": {
            "text/plain": [
              "tensor([[[1, 2, 3],\n",
              "         [4, 5, 6],\n",
              "         [7, 8, 9]]])"
            ]
          },
          "metadata": {},
          "execution_count": 91
        }
      ]
    },
    {
      "cell_type": "code",
      "source": [
        "print(f\"Tensor Inicial: {tensor_squeezed}\")\n",
        "print(f\"Shape Inicial: {tensor_squeezed.shape}\\n\\n\")\n",
        "\n",
        "#Adicionando uma dimensao 1, na dimensao 0 do tensor\n",
        "print(f\"Tensor Final: {tensor_unsq3}\")\n",
        "print(f\"Shape Final: {tensor_unsq3.shape}\")"
      ],
      "metadata": {
        "colab": {
          "base_uri": "https://localhost:8080/"
        },
        "id": "NuI5aqmO7FNg",
        "outputId": "6edc7835-62aa-4529-e810-8b4d57d2e955"
      },
      "execution_count": null,
      "outputs": [
        {
          "output_type": "stream",
          "name": "stdout",
          "text": [
            "Tensor Inicial: tensor([[1, 2, 3],\n",
            "        [4, 5, 6],\n",
            "        [7, 8, 9]])\n",
            "Shape Inicial: torch.Size([3, 3])\n",
            "\n",
            "\n",
            "Tensor Final: tensor([[[1, 2, 3],\n",
            "         [4, 5, 6],\n",
            "         [7, 8, 9]]])\n",
            "Shape Final: torch.Size([1, 3, 3])\n"
          ]
        }
      ]
    },
    {
      "cell_type": "markdown",
      "source": [
        "### Permute"
      ],
      "metadata": {
        "id": "5ivDRKIO-axN"
      }
    },
    {
      "cell_type": "code",
      "source": [
        "#torch.permute - aruma as dimensoes do tensor em uma ordem especifica\n",
        "x_original = torch.rand(size=(244, 244, 3)) #Altura, LArgura, RGB\n",
        "\n",
        "#Alterando a ordem das dimensoes\n",
        "x_permuted = x_original.permute(2, 0, 1) #Mudando os axis 0->1, 1->2, 2->0\n",
        "\n",
        "print(f\"Shape Original: {x_original.shape}\")\n",
        "print(f\"Shape Final: {x_permuted.shape}\")\n",
        "print(f\"{x_original[0, 0, 0,]}\")"
      ],
      "metadata": {
        "colab": {
          "base_uri": "https://localhost:8080/"
        },
        "id": "x38FA-w18ZUZ",
        "outputId": "dcf56cba-5791-4815-986f-fddf14a6e337"
      },
      "execution_count": null,
      "outputs": [
        {
          "output_type": "stream",
          "name": "stdout",
          "text": [
            "Shape Original: torch.Size([244, 244, 3])\n",
            "Shape Final: torch.Size([3, 244, 244])\n",
            "0.1340712308883667\n"
          ]
        }
      ]
    },
    {
      "cell_type": "code",
      "source": [
        "x_original[0, 0, 0]\n",
        "original_estatico = x_original[0, 0, 0]\n",
        "original_estatico, x_original[0, 0, 0]"
      ],
      "metadata": {
        "colab": {
          "base_uri": "https://localhost:8080/"
        },
        "id": "UpZt5TXxBJSX",
        "outputId": "9e995faa-c6b5-40c1-fd2b-34a09525dc70"
      },
      "execution_count": null,
      "outputs": [
        {
          "output_type": "execute_result",
          "data": {
            "text/plain": [
              "(tensor(0.1341), tensor(0.1341))"
            ]
          },
          "metadata": {},
          "execution_count": 94
        }
      ]
    },
    {
      "cell_type": "code",
      "source": [
        "x_original[0, 0, 0] = 2"
      ],
      "metadata": {
        "id": "zG1xeVR5BNLo"
      },
      "execution_count": null,
      "outputs": []
    },
    {
      "cell_type": "code",
      "source": [
        "x_original[0, 0, 0]"
      ],
      "metadata": {
        "colab": {
          "base_uri": "https://localhost:8080/"
        },
        "id": "FQWBdXYOBO3O",
        "outputId": "79f17760-40c3-4cc6-e1df-7cb503c7d02f"
      },
      "execution_count": null,
      "outputs": [
        {
          "output_type": "execute_result",
          "data": {
            "text/plain": [
              "tensor(2.)"
            ]
          },
          "metadata": {},
          "execution_count": 96
        }
      ]
    },
    {
      "cell_type": "code",
      "source": [
        "x_permuted[0, 0, 0]"
      ],
      "metadata": {
        "colab": {
          "base_uri": "https://localhost:8080/"
        },
        "id": "IStA4I_oBREx",
        "outputId": "f6a2b17d-e460-4986-986a-5c7cc58fd87c"
      },
      "execution_count": null,
      "outputs": [
        {
          "output_type": "execute_result",
          "data": {
            "text/plain": [
              "tensor(2.)"
            ]
          },
          "metadata": {},
          "execution_count": 97
        }
      ]
    },
    {
      "cell_type": "code",
      "source": [
        "# Essa alteracao em um fica gravado no outro pois eles ocupam o mesmo espaco de memoria, por isso nao \"funciona\",\n",
        "# o estatico esta a apontar para a memoria do x_original logo ele tbm pega a nova atribuicao\n",
        "print(f\"Valor original de x_original[0, 0, 0] {original_estatico}, \\nValor de x_original[0, 0, 0] apor adicionar 2: {x_original[0, 0, 0]} \\nValor de x_permuted[0, 0, 0] apos a adicao: {x_permuted[0, 0, 0]}\")"
      ],
      "metadata": {
        "id": "i8Uf67ucBXq1",
        "colab": {
          "base_uri": "https://localhost:8080/"
        },
        "outputId": "1d9bb9ac-5f3a-40d3-8872-d0d57895ab1b"
      },
      "execution_count": null,
      "outputs": [
        {
          "output_type": "stream",
          "name": "stdout",
          "text": [
            "Valor original de x_original[0, 0, 0] 2.0, \n",
            "Valor de x_original[0, 0, 0] apor adicionar 2: 2.0 \n",
            "Valor de x_permuted[0, 0, 0] apos a adicao: 2.0\n"
          ]
        }
      ]
    },
    {
      "cell_type": "code",
      "source": [
        "# Indexing (Selecionando data dos tensors)\n",
        "#Igual ao usar Numpy\n",
        "tensor_index = torch.arange(1, 10).reshape(1, 3, 3)\n",
        "tensor_index, tensor_index.shape"
      ],
      "metadata": {
        "colab": {
          "base_uri": "https://localhost:8080/"
        },
        "id": "G-Hf26XPB0yA",
        "outputId": "9c7f8b45-4bef-494a-de03-53012437d454"
      },
      "execution_count": null,
      "outputs": [
        {
          "output_type": "execute_result",
          "data": {
            "text/plain": [
              "(tensor([[[1, 2, 3],\n",
              "          [4, 5, 6],\n",
              "          [7, 8, 9]]]),\n",
              " torch.Size([1, 3, 3]))"
            ]
          },
          "metadata": {},
          "execution_count": 99
        }
      ]
    },
    {
      "cell_type": "code",
      "source": [
        "tensor_index[0]"
      ],
      "metadata": {
        "colab": {
          "base_uri": "https://localhost:8080/"
        },
        "id": "OCJ8d4iOB2oo",
        "outputId": "b29d7dd2-e7da-4906-ea3f-c0808c63e0b8"
      },
      "execution_count": null,
      "outputs": [
        {
          "output_type": "execute_result",
          "data": {
            "text/plain": [
              "tensor([[1, 2, 3],\n",
              "        [4, 5, 6],\n",
              "        [7, 8, 9]])"
            ]
          },
          "metadata": {},
          "execution_count": 100
        }
      ]
    },
    {
      "cell_type": "code",
      "source": [
        "# tensor_index[0, 0] ou\n",
        "tensor_index[0][0]"
      ],
      "metadata": {
        "id": "A91ejyHBCJ17",
        "colab": {
          "base_uri": "https://localhost:8080/"
        },
        "outputId": "b50cf8fa-afe6-48dc-ca47-1bbdc8aa428d"
      },
      "execution_count": null,
      "outputs": [
        {
          "output_type": "execute_result",
          "data": {
            "text/plain": [
              "tensor([1, 2, 3])"
            ]
          },
          "metadata": {},
          "execution_count": 101
        }
      ]
    },
    {
      "cell_type": "code",
      "source": [
        "tensor_index[0][0] [0]"
      ],
      "metadata": {
        "colab": {
          "base_uri": "https://localhost:8080/"
        },
        "id": "-Sd0vOmSk2eg",
        "outputId": "a63c0a35-fc6b-49b7-c66a-65bb78a5cef9"
      },
      "execution_count": null,
      "outputs": [
        {
          "output_type": "execute_result",
          "data": {
            "text/plain": [
              "tensor(1)"
            ]
          },
          "metadata": {},
          "execution_count": 102
        }
      ]
    },
    {
      "cell_type": "code",
      "source": [
        "tensor_index[0][1][1]"
      ],
      "metadata": {
        "colab": {
          "base_uri": "https://localhost:8080/"
        },
        "id": "3J7Ueylpk_GQ",
        "outputId": "e49101fd-2bbf-40b2-850f-41a491c6cf29"
      },
      "execution_count": null,
      "outputs": [
        {
          "output_type": "execute_result",
          "data": {
            "text/plain": [
              "tensor(5)"
            ]
          },
          "metadata": {},
          "execution_count": 103
        }
      ]
    },
    {
      "cell_type": "code",
      "source": [
        "tensor_index[0][-1][-1]"
      ],
      "metadata": {
        "colab": {
          "base_uri": "https://localhost:8080/"
        },
        "id": "qcppb2sKk-Wr",
        "outputId": "47eadf30-fdb6-470c-8b2c-caccc544931c"
      },
      "execution_count": null,
      "outputs": [
        {
          "output_type": "execute_result",
          "data": {
            "text/plain": [
              "tensor(9)"
            ]
          },
          "metadata": {},
          "execution_count": 104
        }
      ]
    },
    {
      "cell_type": "code",
      "source": [
        "# : pode ser usado para selecionar o \"todo\" de uma dimensao\n",
        "tensor_index[0, :, 1]"
      ],
      "metadata": {
        "colab": {
          "base_uri": "https://localhost:8080/"
        },
        "id": "FJ9j7bSAk8gC",
        "outputId": "ec5f0bf9-939e-4d35-e98a-a2e31bcec2e6"
      },
      "execution_count": null,
      "outputs": [
        {
          "output_type": "execute_result",
          "data": {
            "text/plain": [
              "tensor([2, 5, 8])"
            ]
          },
          "metadata": {},
          "execution_count": 105
        }
      ]
    },
    {
      "cell_type": "code",
      "source": [
        "tensor_index[:, :, 1]"
      ],
      "metadata": {
        "colab": {
          "base_uri": "https://localhost:8080/"
        },
        "id": "KeNzdgkUlw4X",
        "outputId": "4919f48a-bd66-454b-a09d-ba77ab9427b9"
      },
      "execution_count": null,
      "outputs": [
        {
          "output_type": "execute_result",
          "data": {
            "text/plain": [
              "tensor([[2, 5, 8]])"
            ]
          },
          "metadata": {},
          "execution_count": 106
        }
      ]
    },
    {
      "cell_type": "code",
      "source": [
        "tensor_index[0, 0, :]"
      ],
      "metadata": {
        "colab": {
          "base_uri": "https://localhost:8080/"
        },
        "id": "5CvibcBImXWK",
        "outputId": "3b34fb34-9220-4bfe-d6b4-bb8a4dc2a340"
      },
      "execution_count": null,
      "outputs": [
        {
          "output_type": "execute_result",
          "data": {
            "text/plain": [
              "tensor([1, 2, 3])"
            ]
          },
          "metadata": {},
          "execution_count": 107
        }
      ]
    },
    {
      "cell_type": "code",
      "source": [
        "tensor_index[0, :, 2]"
      ],
      "metadata": {
        "colab": {
          "base_uri": "https://localhost:8080/"
        },
        "id": "AGgj7K2cnIn2",
        "outputId": "93e923ab-c473-4523-d551-07b363328152"
      },
      "execution_count": null,
      "outputs": [
        {
          "output_type": "execute_result",
          "data": {
            "text/plain": [
              "tensor([3, 6, 9])"
            ]
          },
          "metadata": {},
          "execution_count": 108
        }
      ]
    },
    {
      "cell_type": "code",
      "source": [
        "tensor_index[0, 1, 2], tensor_index[0, 2, 1]"
      ],
      "metadata": {
        "colab": {
          "base_uri": "https://localhost:8080/"
        },
        "id": "rOue0Tc2nSx6",
        "outputId": "2de3c6ce-3776-4e6b-c0a5-176636fd8f3a"
      },
      "execution_count": null,
      "outputs": [
        {
          "output_type": "execute_result",
          "data": {
            "text/plain": [
              "(tensor(6), tensor(8))"
            ]
          },
          "metadata": {},
          "execution_count": 109
        }
      ]
    },
    {
      "cell_type": "markdown",
      "source": [
        "# Torch tensor e Numpy\n",
        "\n",
        "*   Dados em Numpy, tranformar em Torch -> ´torch.from_numpy(ndaaray)´\n",
        "*   Pytorch tensor to numpy -> ´´torch.Tensor.numpy()´´\n",
        "\n",
        "\n",
        "\n",
        "\n"
      ],
      "metadata": {
        "id": "PhO14OfQnry6"
      }
    },
    {
      "cell_type": "code",
      "source": [
        "array = np.arange(1.0 ,8.0)\n",
        "array"
      ],
      "metadata": {
        "colab": {
          "base_uri": "https://localhost:8080/"
        },
        "id": "ytzkEIf6niVF",
        "outputId": "133ef704-5790-4c60-9a29-9e54bdb25030"
      },
      "execution_count": null,
      "outputs": [
        {
          "output_type": "execute_result",
          "data": {
            "text/plain": [
              "array([1., 2., 3., 4., 5., 6., 7.])"
            ]
          },
          "metadata": {},
          "execution_count": 110
        }
      ]
    },
    {
      "cell_type": "code",
      "source": [
        "tensor_numpy = torch.from_numpy(array)\n",
        "tensor_numpy"
      ],
      "metadata": {
        "colab": {
          "base_uri": "https://localhost:8080/"
        },
        "id": "q2bY7vKise4P",
        "outputId": "44ef6206-ac71-4b57-e1f2-0e4ac1b4e8a3"
      },
      "execution_count": null,
      "outputs": [
        {
          "output_type": "execute_result",
          "data": {
            "text/plain": [
              "tensor([1., 2., 3., 4., 5., 6., 7.], dtype=torch.float64)"
            ]
          },
          "metadata": {},
          "execution_count": 111
        }
      ]
    },
    {
      "cell_type": "code",
      "source": [
        "#Array dtype originl é float64\n",
        "#Do tensor o original é float32,\n",
        "#este encontra-se em float64 pois foi feito apartir do Numpy Array\n",
        "array.dtype, tensor_numpy.dtype"
      ],
      "metadata": {
        "colab": {
          "base_uri": "https://localhost:8080/"
        },
        "id": "p5fV989Istx0",
        "outputId": "b5963560-e1a1-4679-c866-c50cec5cf7c0"
      },
      "execution_count": null,
      "outputs": [
        {
          "output_type": "execute_result",
          "data": {
            "text/plain": [
              "(dtype('float64'), torch.float64)"
            ]
          },
          "metadata": {},
          "execution_count": 112
        }
      ]
    },
    {
      "cell_type": "code",
      "source": [
        "#Assim alterando para trasnformar em float32. Data type issue\n",
        "tensor_numpy.type(torch.float32).dtype"
      ],
      "metadata": {
        "colab": {
          "base_uri": "https://localhost:8080/"
        },
        "id": "22gCLqF6tVdr",
        "outputId": "bbf1635a-b1ee-44d9-b00b-178267263954"
      },
      "execution_count": null,
      "outputs": [
        {
          "output_type": "execute_result",
          "data": {
            "text/plain": [
              "torch.float32"
            ]
          },
          "metadata": {},
          "execution_count": 113
        }
      ]
    },
    {
      "cell_type": "code",
      "source": [
        "#Mudar o valor no Array,\n",
        "# nao ir mudar no Tensor(Pois nao tem-se uma nova atribuicao),\n",
        "#logo eles nao ocupam o mesmo espaco de memoria\n",
        "array = array + 1\n",
        "array, tensor_numpy"
      ],
      "metadata": {
        "colab": {
          "base_uri": "https://localhost:8080/"
        },
        "id": "Dst4k0ckuHUl",
        "outputId": "c954c4a2-27d9-47a4-d9d9-f35d38dfb28a"
      },
      "execution_count": null,
      "outputs": [
        {
          "output_type": "execute_result",
          "data": {
            "text/plain": [
              "(array([2., 3., 4., 5., 6., 7., 8.]),\n",
              " tensor([1., 2., 3., 4., 5., 6., 7.], dtype=torch.float64))"
            ]
          },
          "metadata": {},
          "execution_count": 114
        }
      ]
    },
    {
      "cell_type": "code",
      "source": [
        "tensor_numpy = torch.from_numpy(array)\n",
        "tensor_numpy"
      ],
      "metadata": {
        "colab": {
          "base_uri": "https://localhost:8080/"
        },
        "id": "e3Bcwbstu3FS",
        "outputId": "78ee9d41-f7cd-4bda-e243-df546612cdb8"
      },
      "execution_count": null,
      "outputs": [
        {
          "output_type": "execute_result",
          "data": {
            "text/plain": [
              "tensor([2., 3., 4., 5., 6., 7., 8.], dtype=torch.float64)"
            ]
          },
          "metadata": {},
          "execution_count": 115
        }
      ]
    },
    {
      "cell_type": "code",
      "source": [
        "#Tensor para Numpy\n",
        "tensor_tn = torch.ones(7)\n",
        "numpy_tensor = tensor_tn.numpy()\n",
        "tensor_tn, numpy_tensor\n",
        "# Note que aqui como o Tensor e criado em default por float32,\n",
        "#ao passar para Numpy o tipo permanesce o mesmo(float32)"
      ],
      "metadata": {
        "colab": {
          "base_uri": "https://localhost:8080/"
        },
        "id": "r0JnBHACu9FB",
        "outputId": "fbde6416-2ca9-4913-8221-03bd386b96b7"
      },
      "execution_count": null,
      "outputs": [
        {
          "output_type": "execute_result",
          "data": {
            "text/plain": [
              "(tensor([1., 1., 1., 1., 1., 1., 1.]),\n",
              " array([1., 1., 1., 1., 1., 1., 1.], dtype=float32))"
            ]
          },
          "metadata": {},
          "execution_count": 116
        }
      ]
    },
    {
      "cell_type": "code",
      "source": [
        "import numpy as np\n",
        "import math\n",
        "\n",
        "# Create random input and output data\n",
        "x = np.linspace(-math.pi, math.pi, 2000)\n",
        "y = np.sin(x)\n",
        "\n",
        "# Randomly initialize weights\n",
        "a = np.random.randn()\n",
        "b = np.random.randn()\n",
        "c = np.random.randn()\n",
        "d = np.random.randn()\n",
        "\n",
        "learning_rate = 1e-6\n",
        "for t in range(2000):\n",
        "    # Forward pass: compute predicted y\n",
        "    # y = a + b x + c x^2 + d x^3\n",
        "    y_pred = a + b * x + c * x ** 2 + d * x ** 3\n",
        "\n",
        "    # Compute and print loss\n",
        "    loss = np.square(y_pred - y).sum()\n",
        "    if t % 100 == 99:\n",
        "        print(t, loss)\n",
        "\n",
        "    # Backprop to compute gradients of a, b, c, d with respect to loss\n",
        "    grad_y_pred = 2.0 * (y_pred - y)\n",
        "    grad_a = grad_y_pred.sum()\n",
        "    grad_b = (grad_y_pred * x).sum()\n",
        "    grad_c = (grad_y_pred * x ** 2).sum()\n",
        "    grad_d = (grad_y_pred * x ** 3).sum()\n",
        "\n",
        "    # Update weights\n",
        "    a -= learning_rate * grad_a\n",
        "    b -= learning_rate * grad_b\n",
        "    c -= learning_rate * grad_c\n",
        "    d -= learning_rate * grad_d\n",
        "\n",
        "print(f'Result: y = {a} + {b} x + {c} x^2 + {d} x^3')"
      ],
      "metadata": {
        "id": "QjHwoWmlwE7O",
        "colab": {
          "base_uri": "https://localhost:8080/"
        },
        "outputId": "77a4f054-39a7-4cfb-f401-862a00416608"
      },
      "execution_count": null,
      "outputs": [
        {
          "output_type": "stream",
          "name": "stdout",
          "text": [
            "99 3312.833133323621\n",
            "199 2230.0653655006863\n",
            "299 1503.4239955094881\n",
            "399 1015.3879519946615\n",
            "499 687.3352754631616\n",
            "599 466.632395149071\n",
            "699 318.0190682184884\n",
            "799 217.85656145706017\n",
            "899 150.28526319969436\n",
            "999 104.6563070755397\n",
            "1099 73.81370404278339\n",
            "1199 52.94458234411376\n",
            "1299 38.80912902926873\n",
            "1399 29.22446819644377\n",
            "1499 22.71847810661159\n",
            "1599 18.297412111700137\n",
            "1699 15.289785524600529\n",
            "1799 13.24141031536553\n",
            "1899 11.844758674679\n",
            "1999 10.891385580592786\n",
            "Result: y = 0.03512809477700523 + 0.8264210615586609 x + -0.006060180883053593 x^2 + -0.08901766414705288 x^3\n"
          ]
        }
      ]
    },
    {
      "cell_type": "markdown",
      "source": [
        "### Reprodutibilidade\n",
        "\n",
        "Resumo do funcionamento de redes neurais:\n",
        "Comece com numeros aleatorios -> realiza operacoes nos Tensor -> atualiza os valores para se parecerem mais com os dados -> de novo -> de novo -> de novo...\n",
        "\n",
        "Para reduzir essa aleatoriadade existe o **Random Seed** que serve para deixar a aleatoridade replicavel. Ao setar um valor, um dado aleatorio sera replicavel com essa mesma seed\n",
        "\n",
        "\n"
      ],
      "metadata": {
        "id": "ySgg3Nvrx8NK"
      }
    },
    {
      "cell_type": "code",
      "source": [
        "rand_a = torch.rand(3, 4)\n",
        "rand_b = torch.rand(3, 4)\n",
        "\n",
        "print(rand_a)\n",
        "print(rand_b)\n",
        "print(rand_a == rand_b)"
      ],
      "metadata": {
        "colab": {
          "base_uri": "https://localhost:8080/"
        },
        "id": "DJwnoghDx0hg",
        "outputId": "03c2ff40-b101-4fea-e6ae-6291ad401504"
      },
      "execution_count": null,
      "outputs": [
        {
          "output_type": "stream",
          "name": "stdout",
          "text": [
            "tensor([[0.2795, 0.7008, 0.9279, 0.1852],\n",
            "        [0.3860, 0.9834, 0.9789, 0.3711],\n",
            "        [0.0793, 0.8704, 0.7973, 0.7046]])\n",
            "tensor([[0.4660, 0.8386, 0.9479, 0.2631],\n",
            "        [0.4227, 0.9889, 0.5543, 0.8039],\n",
            "        [0.7837, 0.9301, 0.0922, 0.0397]])\n",
            "tensor([[False, False, False, False],\n",
            "        [False, False, False, False],\n",
            "        [False, False, False, False]])\n"
          ]
        }
      ]
    },
    {
      "cell_type": "code",
      "source": [
        "RANDOM_SEED = 42\n",
        "torch.manual_seed(RANDOM_SEED)\n",
        "rand_c = torch.rand(3, 4)\n",
        "rand_d = torch.rand(3, 4)\n",
        "\n",
        "print(rand_c)\n",
        "print(rand_d)\n",
        "print(rand_c == rand_d)\n"
      ],
      "metadata": {
        "colab": {
          "base_uri": "https://localhost:8080/"
        },
        "id": "CT4fKb4E0OL-",
        "outputId": "0dcc28fd-9274-4be7-c0d6-23e3d76f93f4"
      },
      "execution_count": null,
      "outputs": [
        {
          "output_type": "stream",
          "name": "stdout",
          "text": [
            "tensor([[0.8823, 0.9150, 0.3829, 0.9593],\n",
            "        [0.3904, 0.6009, 0.2566, 0.7936],\n",
            "        [0.9408, 0.1332, 0.9346, 0.5936]])\n",
            "tensor([[0.8694, 0.5677, 0.7411, 0.4294],\n",
            "        [0.8854, 0.5739, 0.2666, 0.6274],\n",
            "        [0.2696, 0.4414, 0.2969, 0.8317]])\n",
            "tensor([[False, False, False, False],\n",
            "        [False, False, False, False],\n",
            "        [False, False, False, False]])\n"
          ]
        }
      ]
    },
    {
      "cell_type": "code",
      "source": [
        "RANDOM_SEED = 42\n",
        "torch.manual_seed(RANDOM_SEED)\n",
        "rand_c = torch.rand(3, 4)\n",
        "\n",
        "torch.manual_seed(RANDOM_SEED)\n",
        "rand_d = torch.rand(3, 4)\n",
        "\n",
        "print(rand_c)\n",
        "print(rand_d)\n",
        "print(rand_c == rand_d)"
      ],
      "metadata": {
        "colab": {
          "base_uri": "https://localhost:8080/"
        },
        "id": "LHzIqMir1Ddf",
        "outputId": "eb2dc879-0156-4bc4-effd-c012d869493e"
      },
      "execution_count": null,
      "outputs": [
        {
          "output_type": "stream",
          "name": "stdout",
          "text": [
            "tensor([[0.8823, 0.9150, 0.3829, 0.9593],\n",
            "        [0.3904, 0.6009, 0.2566, 0.7936],\n",
            "        [0.9408, 0.1332, 0.9346, 0.5936]])\n",
            "tensor([[0.8823, 0.9150, 0.3829, 0.9593],\n",
            "        [0.3904, 0.6009, 0.2566, 0.7936],\n",
            "        [0.9408, 0.1332, 0.9346, 0.5936]])\n",
            "tensor([[True, True, True, True],\n",
            "        [True, True, True, True],\n",
            "        [True, True, True, True]])\n"
          ]
        }
      ]
    },
    {
      "cell_type": "code",
      "source": [
        "#Checando se tem acesso a GPU\n",
        "torch.cuda.is_available()"
      ],
      "metadata": {
        "colab": {
          "base_uri": "https://localhost:8080/"
        },
        "id": "HvfpbLScICa-",
        "outputId": "e3bd587b-2b74-41d8-aef2-d41c4c731e6d"
      },
      "execution_count": null,
      "outputs": [
        {
          "output_type": "execute_result",
          "data": {
            "text/plain": [
              "False"
            ]
          },
          "metadata": {},
          "execution_count": 121
        }
      ]
    },
    {
      "cell_type": "code",
      "source": [
        "#Setup device agnostic code\n",
        "device = 'cuda' if torch.cuda.is_available() else \"cpu\"\n",
        "device"
      ],
      "metadata": {
        "colab": {
          "base_uri": "https://localhost:8080/",
          "height": 36
        },
        "id": "tOHob3tuL-CY",
        "outputId": "3f427c26-bee8-40c5-8c7e-fd99c645d773"
      },
      "execution_count": null,
      "outputs": [
        {
          "output_type": "execute_result",
          "data": {
            "text/plain": [
              "'cpu'"
            ],
            "application/vnd.google.colaboratory.intrinsic+json": {
              "type": "string"
            }
          },
          "metadata": {},
          "execution_count": 122
        }
      ]
    },
    {
      "cell_type": "code",
      "source": [
        "# Count number of device\n",
        "torch.cuda.device_count()"
      ],
      "metadata": {
        "colab": {
          "base_uri": "https://localhost:8080/"
        },
        "id": "MwuTszWlMZk3",
        "outputId": "925f55d9-7bcf-4cd5-f7e4-fdcdc4024b3d"
      },
      "execution_count": null,
      "outputs": [
        {
          "output_type": "execute_result",
          "data": {
            "text/plain": [
              "0"
            ]
          },
          "metadata": {},
          "execution_count": 123
        }
      ]
    },
    {
      "cell_type": "markdown",
      "source": [
        "### Colocando Tensors/Modelos na GPU\n",
        "\n",
        "GPU faz calculos mais rapidos"
      ],
      "metadata": {
        "id": "RApFrOJ6NdBW"
      }
    },
    {
      "cell_type": "code",
      "source": [
        "#Tensor default, sem o device o default bm e cpu\n",
        "tensor_cpu = torch.tensor([1, 2, 3], device=\"cpu\")\n",
        "\n",
        "#Nao esta na GPU\n",
        "print(tensor_cpu, tensor_cpu.device)"
      ],
      "metadata": {
        "colab": {
          "base_uri": "https://localhost:8080/"
        },
        "id": "2z258OeYMlQ4",
        "outputId": "605092c9-6d9e-45c8-f538-e89a6eab2129"
      },
      "execution_count": null,
      "outputs": [
        {
          "output_type": "stream",
          "name": "stdout",
          "text": [
            "tensor([1, 2, 3]) cpu\n"
          ]
        }
      ]
    },
    {
      "cell_type": "code",
      "source": [
        "#Mudando o Tensor para gpu, se disponivel\n",
        "tensor_gpu = tensor_cpu.to(device)\n",
        "tensor_gpu"
      ],
      "metadata": {
        "colab": {
          "base_uri": "https://localhost:8080/"
        },
        "id": "uaryrQlMN0Pp",
        "outputId": "759fe728-433d-4890-8b4c-30dd8fd3bfcf"
      },
      "execution_count": null,
      "outputs": [
        {
          "output_type": "execute_result",
          "data": {
            "text/plain": [
              "tensor([1, 2, 3])"
            ]
          },
          "metadata": {},
          "execution_count": 125
        }
      ]
    },
    {
      "cell_type": "code",
      "source": [
        "#Mudando e volta pra a cpu, Numpy so funciona na cpu(caso o problema seja com Numpy)\n",
        "#tensor_gpu.numpy()\n",
        "'''Nao funciona pq esta em gpu, deve-se passar para a cpu, para entao transformar um Numpy'''"
      ],
      "metadata": {
        "colab": {
          "base_uri": "https://localhost:8080/",
          "height": 36
        },
        "id": "-PgoVRTHOftK",
        "outputId": "b5c76020-af11-4c78-f500-0dd037906fc3"
      },
      "execution_count": null,
      "outputs": [
        {
          "output_type": "execute_result",
          "data": {
            "text/plain": [
              "'Nao funciona pq esta em gpu, deve-se passar para a cpu, para entao transformar um Numpy'"
            ],
            "application/vnd.google.colaboratory.intrinsic+json": {
              "type": "string"
            }
          },
          "metadata": {},
          "execution_count": 126
        }
      ]
    },
    {
      "cell_type": "code",
      "source": [
        "#tensor_cpu_back = tensor_gpu.cpu().numpy()\n",
        "#tensor_cpu_back\n",
        "#OU\n",
        "tensor_cpu_back = tensor_gpu.cpu()\n",
        "tensor_cpu_back.numpy()"
      ],
      "metadata": {
        "colab": {
          "base_uri": "https://localhost:8080/"
        },
        "id": "iYjNyCjUOiub",
        "outputId": "2c8c1aff-55f3-4587-a807-21f933c89fc2"
      },
      "execution_count": null,
      "outputs": [
        {
          "output_type": "execute_result",
          "data": {
            "text/plain": [
              "array([1, 2, 3])"
            ]
          },
          "metadata": {},
          "execution_count": 127
        }
      ]
    },
    {
      "cell_type": "code",
      "source": [],
      "metadata": {
        "id": "Q5PEhmj4OKrD"
      },
      "execution_count": null,
      "outputs": []
    }
  ]
}