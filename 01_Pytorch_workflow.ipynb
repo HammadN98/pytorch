{
  "nbformat": 4,
  "nbformat_minor": 0,
  "metadata": {
    "colab": {
      "provenance": [],
      "authorship_tag": "ABX9TyOPp9U8p3oqQ4HC+GXkS3ek",
      "include_colab_link": true
    },
    "kernelspec": {
      "name": "python3",
      "display_name": "Python 3"
    },
    "language_info": {
      "name": "python"
    }
  },
  "cells": [
    {
      "cell_type": "markdown",
      "metadata": {
        "id": "view-in-github",
        "colab_type": "text"
      },
      "source": [
        "<a href=\"https://colab.research.google.com/github/HammadN98/pytorch/blob/main/01_Pytorch_workflow.ipynb\" target=\"_parent\"><img src=\"https://colab.research.google.com/assets/colab-badge.svg\" alt=\"Open In Colab\"/></a>"
      ]
    },
    {
      "cell_type": "code",
      "execution_count": 1,
      "metadata": {
        "id": "c2FaQs--Kcgt"
      },
      "outputs": [],
      "source": [
        "import torch\n",
        "from torch import nn\n",
        "import matplotlib.pyplot as plt"
      ]
    },
    {
      "cell_type": "code",
      "source": [
        "torch.__version__"
      ],
      "metadata": {
        "colab": {
          "base_uri": "https://localhost:8080/",
          "height": 36
        },
        "id": "QFWqd9LJKuHa",
        "outputId": "a9fba741-c896-41fa-ec5a-a765cc0ba1c0"
      },
      "execution_count": 2,
      "outputs": [
        {
          "output_type": "execute_result",
          "data": {
            "text/plain": [
              "'2.3.0+cu121'"
            ],
            "application/vnd.google.colaboratory.intrinsic+json": {
              "type": "string"
            }
          },
          "metadata": {},
          "execution_count": 2
        }
      ]
    },
    {
      "cell_type": "markdown",
      "source": [
        "1. Preparacao dos Dados e Carregamento\n",
        "2. Construcao do Modelo\n",
        "3. Fitting modelo e treinamento\n",
        "4. Fzendo previsoes e avaliando o treinamento\n",
        "5. Salvando e carregando o modelo treinado\n",
        "6. Juntando tudo"
      ],
      "metadata": {
        "id": "kdw7zP46RGe_"
      }
    },
    {
      "cell_type": "markdown",
      "source": [
        "### Preparacao dos Dados e Carregamento\n",
        "\n",
        "Dados podem ser quase qualquer coisa em Machine Learn\n",
        "\n",
        "* Planilha Excel\n",
        "* Images of any Kind\n",
        "* Videos(Youtube tem um tiquinho de dados)\n",
        "* Audio\n",
        "* DNA\n",
        "* Texto\n",
        "\n",
        "Machine Learn e divido em duas principais parte:\n",
        "\n",
        "1. Transformar os dados em representacao numerica.\n",
        "2. Construir um modelo para aprender padroes em tal representacao numerica.\n",
        "\n",
        "Vamos demonstrar isso atraves da criacao de dados conhecidos feitos por uma Regressao Linear.\n",
        "\n",
        "A formula da Regressao Linar sera usada para fazer uma linha reta com os **parametros** conhecidos"
      ],
      "metadata": {
        "id": "MUO1uIJRRpNa"
      }
    },
    {
      "cell_type": "code",
      "source": [
        "#Criando Parametros conhecidos\n",
        "weight = 0.7\n",
        "bias = 0.3\n",
        "\n",
        "#Criando a regressao\n",
        "start = 0\n",
        "end = 1\n",
        "step = 0.02\n",
        "X = torch.arange(start, end, step).unsqueeze(dim=1)\n",
        "y = weight * X + bias"
      ],
      "metadata": {
        "id": "nPdjZHZiK0dt"
      },
      "execution_count": 3,
      "outputs": []
    },
    {
      "cell_type": "code",
      "source": [
        "X.shape, X.squeeze().shape"
      ],
      "metadata": {
        "colab": {
          "base_uri": "https://localhost:8080/"
        },
        "id": "YCers_Q7b6Ka",
        "outputId": "32de5716-0c25-4b05-b211-5c0ddd4a8ad8"
      },
      "execution_count": 4,
      "outputs": [
        {
          "output_type": "execute_result",
          "data": {
            "text/plain": [
              "(torch.Size([50, 1]), torch.Size([50]))"
            ]
          },
          "metadata": {},
          "execution_count": 4
        }
      ]
    },
    {
      "cell_type": "markdown",
      "source": [
        "### Dividindo em treino e test"
      ],
      "metadata": {
        "id": "9WYZpyvQcrHJ"
      }
    },
    {
      "cell_type": "code",
      "source": [
        "train_split = int(0.8 * len(X))\n",
        "X_train, y_train = X[:train_split], y[:train_split]\n",
        "X_test, y_test = X[train_split:], y[train_split:]\n",
        "\n",
        "len(X_train), len(y_train), len(X_test), len(y_test)"
      ],
      "metadata": {
        "colab": {
          "base_uri": "https://localhost:8080/"
        },
        "id": "d5a7_jHQcGCD",
        "outputId": "ba49a748-628b-4f13-c293-282fed1c6dea"
      },
      "execution_count": 5,
      "outputs": [
        {
          "output_type": "execute_result",
          "data": {
            "text/plain": [
              "(40, 40, 10, 10)"
            ]
          },
          "metadata": {},
          "execution_count": 5
        }
      ]
    },
    {
      "cell_type": "code",
      "source": [
        "def plot_predictions(train_data=X_train,\n",
        "                     train_labels=y_train,\n",
        "                     test_data=X_test,\n",
        "                     test_labels=y_test,\n",
        "                     predictions=None):\n",
        "  \"\"\"\n",
        "  Plotando os dados de traino, teste e comparando com as predicoes.\n",
        "  \"\"\"\n",
        "  plt.figure(figsize=(10, 7))\n",
        "\n",
        "  # Plot dos dados de treino em azul\n",
        "  plt.scatter(train_data, train_labels, c='b', s=4, label='Dados de Treino')\n",
        "\n",
        "  # Plot dos dados de test em verde\n",
        "  plt.scatter(test_data, test_labels, c='g', s=4, label=\"Dados de Treino\")\n",
        "\n",
        "  # Predicoes, se tiver\n",
        "  if predictions is not None:\n",
        "    # Plot da predicao, caso existe, em vermelho\n",
        "    plt.scatter(X_test, predictions, c='r', s=5, label='Predicoes')\n",
        "\n",
        "  # LEgenda\n",
        "  plt.legend(prop={\"size\": 14});\n",
        "\n"
      ],
      "metadata": {
        "id": "us7EpUjJfUJ8"
      },
      "execution_count": 6,
      "outputs": []
    },
    {
      "cell_type": "code",
      "source": [
        "plot_predictions()"
      ],
      "metadata": {
        "id": "g2edY_QOfcgJ",
        "colab": {
          "base_uri": "https://localhost:8080/",
          "height": 460
        },
        "outputId": "7b8eb065-8894-4834-fa2e-9c67cdba83fc"
      },
      "execution_count": 7,
      "outputs": [
        {
          "output_type": "display_data",
          "data": {
            "text/plain": [
              "<Figure size 1000x700 with 1 Axes>"
            ],
            "image/png": "[encoded data removed]"
          },
          "metadata": {}
        }
      ]
    },
    {
      "cell_type": "markdown",
      "source": [
        "Funcionamento do modelo:\n",
        "* Comeca com valores aleatorios(weight & bias)\n",
        "* Olha para os dados de treino e ajusta os valores aleatorios para melhor representar(ou chegar perto de) os valores ideais.(os valores de weight & bias usads para criar nossos dados)\n",
        "\n",
        "Como eh feito?\n",
        "\n",
        "Por meio de dois algoritmos principais:\n",
        "1. Gradient descent\n",
        "2. Backpropagation"
      ],
      "metadata": {
        "id": "1ebwcbhzksTT"
      }
    },
    {
      "cell_type": "code",
      "source": [
        "# Criando a classe do Modelo de Regressao Linear\n",
        "class LinearRegressionModel(nn.Module): # <- Herda de nn.Module\n",
        "  def __init__(self):\n",
        "    super().__init__()\n",
        "    self.weights = nn.Parameter(torch.randn(1, #COmeca com height aleatorio e tenta se ajudar para o valor idela\n",
        "\n",
        "                                            requires_grad=True, # Esse parametro pode ser atualizado pelo gradiente decendente?\n",
        "                                            dtype=torch.float)) # Tipo de dado padrao do Pytorch float32\n",
        "\n",
        "    self.bias = nn.Parameter(torch.randn(1, #Comeca com o bias aleatorio e tenta se ajustar ao valor ideal\n",
        "                                         requires_grad=True,  # Esse parametro pode ser atualizado pelo gradiente decendente?\n",
        "                                         dtype=torch.float)) # Tipo de dado padrao do Pytorch float32\n",
        "\n",
        "  # Método forward para definir o cálculo no modelo\n",
        "  def forward(self, x: torch.Tensor) -> torch.Tensor: # <- \"x\" e o dado de entrada\n",
        "    return self.weights * x + self.bias # Formula da Regressao Linear\n"
      ],
      "metadata": {
        "id": "xgH4Pp8IkIr0"
      },
      "execution_count": 8,
      "outputs": []
    },
    {
      "cell_type": "markdown",
      "source": [
        "### Checando o conteudo do modelo Pytorch\n",
        "\n",
        "* Para checar os parametros ou o que esta dentro do modelo, use, **.parameters()**."
      ],
      "metadata": {
        "id": "nfS1nQtOB-RL"
      }
    },
    {
      "cell_type": "code",
      "source": [
        "#seed random\n",
        "torch.manual_seed(42)\n",
        "\n",
        "#Instanciando o modelo(isso eh uma subclase do nn.Module)\n",
        "model_0 = LinearRegressionModel()\n",
        "\n",
        "#Chacando os parametros\n",
        "list(model_0.parameters())"
      ],
      "metadata": {
        "colab": {
          "base_uri": "https://localhost:8080/"
        },
        "id": "UymwfDB-B9am",
        "outputId": "9e7950c6-9987-4fe4-e9cd-0f6c9c4a8047"
      },
      "execution_count": 9,
      "outputs": [
        {
          "output_type": "execute_result",
          "data": {
            "text/plain": [
              "[Parameter containing:\n",
              " tensor([0.3367], requires_grad=True),\n",
              " Parameter containing:\n",
              " tensor([0.1288], requires_grad=True)]"
            ]
          },
          "metadata": {},
          "execution_count": 9
        }
      ]
    },
    {
      "cell_type": "code",
      "source": [
        "#LIstando os parametros cm nome(usando dicionarios)\n",
        "model_0.state_dict()"
      ],
      "metadata": {
        "colab": {
          "base_uri": "https://localhost:8080/"
        },
        "id": "EzrCLB7mCTfR",
        "outputId": "65344950-0c7b-4fbc-f61e-8d09871b3934"
      },
      "execution_count": 10,
      "outputs": [
        {
          "output_type": "execute_result",
          "data": {
            "text/plain": [
              "OrderedDict([('weights', tensor([0.3367])), ('bias', tensor([0.1288]))])"
            ]
          },
          "metadata": {},
          "execution_count": 10
        }
      ]
    },
    {
      "cell_type": "markdown",
      "source": [
        "Valor ideal:\n",
        "weight: 0.7\n",
        "bias: 0.3"
      ],
      "metadata": {
        "id": "eHogaqS7Czz4"
      }
    },
    {
      "cell_type": "markdown",
      "source": [
        "### Prevendo usando torch.inference_mode()\n",
        "\n",
        "Para checar o poder de precisao do modelo, prevomos y_test com base no X_test\n",
        "\n",
        "Ao passar dados pelo modelo, eles iram rodar pelo metodo forward("
      ],
      "metadata": {
        "id": "okK_g6GiETyu"
      }
    },
    {
      "cell_type": "code",
      "source": [
        "with torch.inference_mode():\n",
        "  y_preds = model_0(X_test)\n",
        "y_preds"
      ],
      "metadata": {
        "colab": {
          "base_uri": "https://localhost:8080/"
        },
        "id": "CwdoW12IDCF6",
        "outputId": "64aa2388-9928-4e58-fbc6-16b188054493"
      },
      "execution_count": 11,
      "outputs": [
        {
          "output_type": "execute_result",
          "data": {
            "text/plain": [
              "tensor([[0.3982],\n",
              "        [0.4049],\n",
              "        [0.4116],\n",
              "        [0.4184],\n",
              "        [0.4251],\n",
              "        [0.4318],\n",
              "        [0.4386],\n",
              "        [0.4453],\n",
              "        [0.4520],\n",
              "        [0.4588]])"
            ]
          },
          "metadata": {},
          "execution_count": 11
        }
      ]
    },
    {
      "cell_type": "code",
      "source": [
        "y_test"
      ],
      "metadata": {
        "colab": {
          "base_uri": "https://localhost:8080/"
        },
        "id": "drugdVu5E2-9",
        "outputId": "c08279f5-b456-4d4e-f919-3df8d21729c0"
      },
      "execution_count": 12,
      "outputs": [
        {
          "output_type": "execute_result",
          "data": {
            "text/plain": [
              "tensor([[0.8600],\n",
              "        [0.8740],\n",
              "        [0.8880],\n",
              "        [0.9020],\n",
              "        [0.9160],\n",
              "        [0.9300],\n",
              "        [0.9440],\n",
              "        [0.9580],\n",
              "        [0.9720],\n",
              "        [0.9860]])"
            ]
          },
          "metadata": {},
          "execution_count": 12
        }
      ]
    },
    {
      "cell_type": "code",
      "source": [
        "plot_predictions(predictions=y_preds)"
      ],
      "metadata": {
        "colab": {
          "base_uri": "https://localhost:8080/",
          "height": 460
        },
        "id": "kLz5895fFOLo",
        "outputId": "fb31d879-5459-4919-d287-7ce2b1386971"
      },
      "execution_count": 13,
      "outputs": [
        {
          "output_type": "display_data",
          "data": {
            "text/plain": [
              "<Figure size 1000x700 with 1 Axes>"
            ],
            "image/png": "[encoded data removed]"
          },
          "metadata": {}
        }
      ]
    },
    {
      "cell_type": "markdown",
      "source": [
        "### Treinando o modelo\n",
        "\n",
        "A ideia geral do treino eh sair de parametros desconhecidos(talvez aleatorios) para parametros conhecidos.\n",
        "\n",
        "Ou seja para uma representacao que nao condiz com a realidade de nossos dados, para uma que representa a realidade.\n",
        "\n",
        "loss function -> Maneira de mensuarar o quao \"pobre\" ou nao condizente com a realidade as predicoes do nosso modelo sao.\n",
        "\n",
        "loss function = cost function = criterion\n",
        "\n",
        "Coisas necessarias para treinar:\n",
        "\n",
        "* **Loss Function** lower is better\n",
        "* **Optimizer** Leva em consideracao a perca(loss) do modelo e ajusta os parametros(peso e bias, neste caso) para melhorar o perca(perdendo menos)\n",
        "\n",
        "* 'params' - Os parametros do modelo que que gostaria de oxtimizar. EX: \"params=model_0.parameters()\"\n",
        "* lr - O \"Learning Rate\" eh um hyperparametro que define o quao grande/pequena sera o salto de valores dos paramentros a cada passo.\n",
        "\n",
        "Especificamente para Pytorch:\n",
        "\n",
        "* Um loop de treino\n",
        "* Um loop de teste\n"
      ],
      "metadata": {
        "id": "-2zkHI8HOEPW"
      }
    },
    {
      "cell_type": "code",
      "source": [
        "list(model_0.parameters())"
      ],
      "metadata": {
        "id": "fXkNXo7gO5pE",
        "colab": {
          "base_uri": "https://localhost:8080/"
        },
        "outputId": "e6f5396b-a415-427d-e31c-10a518844f8a"
      },
      "execution_count": 14,
      "outputs": [
        {
          "output_type": "execute_result",
          "data": {
            "text/plain": [
              "[Parameter containing:\n",
              " tensor([0.3367], requires_grad=True),\n",
              " Parameter containing:\n",
              " tensor([0.1288], requires_grad=True)]"
            ]
          },
          "metadata": {},
          "execution_count": 14
        }
      ]
    },
    {
      "cell_type": "code",
      "source": [
        "#CHecando os parametros do modelo. Um paramentro eh um valor que o modelo definiu ele mesmo\n",
        "model_0.state_dict()"
      ],
      "metadata": {
        "id": "CWTi6zQSO5nD",
        "colab": {
          "base_uri": "https://localhost:8080/"
        },
        "outputId": "7c6f61b1-d611-425c-9539-2b16d583b6cd"
      },
      "execution_count": 15,
      "outputs": [
        {
          "output_type": "execute_result",
          "data": {
            "text/plain": [
              "OrderedDict([('weights', tensor([0.3367])), ('bias', tensor([0.1288]))])"
            ]
          },
          "metadata": {},
          "execution_count": 15
        }
      ]
    },
    {
      "cell_type": "code",
      "source": [
        "#Loss Function Mede o quao errado o Modelo esta\n",
        "loss_fn = nn.L1Loss()\n",
        "\n",
        "#Optimizer Ajusta esses parametros para reduzir a perca/loss\n",
        "optimizer = torch.optim.SGD(params=model_0.parameters(), #Stochastic Gradient Descent\n",
        "                            lr=0.01) # lr = Learning Rate = Possivelmente o hyperparamentro mais importante que tu pode escolher"
      ],
      "metadata": {
        "id": "dD_ZKu3saFYG"
      },
      "execution_count": 17,
      "outputs": []
    },
    {
      "cell_type": "markdown",
      "source": [
        "Exemplodo lr usando bias\n",
        "Se lr = 0.1 pula o 0.\"1\"288\n",
        "se le =0.01 pula o 0.1\"2\"88\n",
        "Se lr= 0.001 pula 0 0.12\"8\"8\n",
        "pula significa usar o valor p cima ou p baixo \"mudar\" o valor"
      ],
      "metadata": {
        "id": "YSYpYZoWdpvQ"
      }
    },
    {
      "cell_type": "markdown",
      "source": [],
      "metadata": {
        "id": "FJMLLkF4gOxO"
      }
    },
    {
      "cell_type": "code",
      "source": [
        "loss_fn"
      ],
      "metadata": {
        "colab": {
          "base_uri": "https://localhost:8080/"
        },
        "id": "RYiAYxUmbZuF",
        "outputId": "6e7d53fd-84d3-4fe8-bc0c-def53c590402"
      },
      "execution_count": 18,
      "outputs": [
        {
          "output_type": "execute_result",
          "data": {
            "text/plain": [
              "L1Loss()"
            ]
          },
          "metadata": {},
          "execution_count": 18
        }
      ]
    },
    {
      "cell_type": "markdown",
      "source": [
        "*Q* Qual \"loss Function\" e \"Optimizer\" usar?\n",
        " * Depende do problema, com experiencia se pega.\n",
        " * Para regressao pode ser \"Loss function\" = nnL1Loss() e \"optimizer\" = torch.optim.SGD()\n",
        " * Para regressao pode ser \"Loss Function\" = nn.BCELoss()"
      ],
      "metadata": {
        "id": "BUQpSfwkgBX-"
      }
    },
    {
      "cell_type": "markdown",
      "source": [
        "### Construindo o loop de Treino/Teste in Pytorch\n",
        "\n",
        "COisas necessarias para o Loop\n",
        "\n",
        "0. Passar pelos Dados e fazer... Um \"for\" com todos os outros passos dentro\n",
        "1. Forward pass (Envolve passar os dados pelas funcoes \"forward\") para fazer previsoes nos dados - Tambem chamado de \"forward propagation\"\n",
        "2. Calcular a perca/loss (Comparar as \"forward pass\" predicoes com os labekls verdadeiros\n",
        "3. Optimizar \"zero grad\"\n",
        "4. \"Loss backward\" - \"VOlta pra tras pela rede\" para calcular os gradientes de cada um dos arametros com respeito a perca/loss (**backpropagation**)\n",
        "5. Optimizer step - Usa o otimizador para ajustar os paramentros do modelo e tentar melhorar a perca (**gradient descent**)\n"
      ],
      "metadata": {
        "id": "k1jdB7RUjoj3"
      }
    },
    {
      "cell_type": "code",
      "source": [
        "#\"epoch\" e um valor utilizador para a quantidade do loop (eh um hyperparametro, ja que nos definimos)\n",
        "epochs =1\n",
        "\n",
        "# 0.Lood dos dados\n",
        "for epoch in range(epochs)\n",
        "  #Seta o modelo pra modo treino\n",
        "  model_0.train() # Modo treino in Pytorch seta todos os parametros que requerem gradinete para requererem gradient\n",
        "\n",
        "  model_0.eval() # Desligado o rastreamento do gradiente"
      ],
      "metadata": {
        "id": "0FYiejsOmiQJ"
      },
      "execution_count": null,
      "outputs": []
    },
    {
      "cell_type": "markdown",
      "source": [
        "\n",
        "\n"
      ],
      "metadata": {
        "id": "HJ6HkWq3bai0"
      }
    }
  ]
}