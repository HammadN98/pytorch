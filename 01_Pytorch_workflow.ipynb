{
  "nbformat": 4,
  "nbformat_minor": 0,
  "metadata": {
    "colab": {
      "provenance": [],
      "authorship_tag": "ABX9TyMTSlPiIYTZylkvYohl61cz",
      "include_colab_link": true
    },
    "kernelspec": {
      "name": "python3",
      "display_name": "Python 3"
    },
    "language_info": {
      "name": "python"
    }
  },
  "cells": [
    {
      "cell_type": "markdown",
      "metadata": {
        "id": "view-in-github",
        "colab_type": "text"
      },
      "source": [
        "<a href=\"https://colab.research.google.com/github/HammadN98/pytorch/blob/main/01_Pytorch_workflow.ipynb\" target=\"_parent\"><img src=\"https://colab.research.google.com/assets/colab-badge.svg\" alt=\"Open In Colab\"/></a>"
      ]
    },
    {
      "cell_type": "code",
      "execution_count": 1,
      "metadata": {
        "id": "c2FaQs--Kcgt"
      },
      "outputs": [],
      "source": [
        "import torch\n",
        "from torch import nn\n",
        "import matplotlib.pyplot as plt"
      ]
    },
    {
      "cell_type": "code",
      "source": [
        "torch.__version__"
      ],
      "metadata": {
        "colab": {
          "base_uri": "https://localhost:8080/",
          "height": 35
        },
        "id": "QFWqd9LJKuHa",
        "outputId": "4e4e6134-b5a2-4a3e-96e6-00ddbdb50797"
      },
      "execution_count": 2,
      "outputs": [
        {
          "output_type": "execute_result",
          "data": {
            "text/plain": [
              "'2.3.0+cu121'"
            ],
            "application/vnd.google.colaboratory.intrinsic+json": {
              "type": "string"
            }
          },
          "metadata": {},
          "execution_count": 2
        }
      ]
    },
    {
      "cell_type": "markdown",
      "source": [
        "1. Preparacao dos Dados e Carregamento\n",
        "2. Construcao do Modelo\n",
        "3. Fitting modelo e treinamento\n",
        "4. Fzendo previsoes e avaliando o treinamento\n",
        "5. Salvando e carregando o modelo treinado\n",
        "6. Juntando tudo"
      ],
      "metadata": {
        "id": "kdw7zP46RGe_"
      }
    },
    {
      "cell_type": "markdown",
      "source": [
        "### Preparacao dos Dados e Carregamento\n",
        "\n",
        "Dados podem ser quase qualquer coisa em Machine Learn\n",
        "\n",
        "* Planilha Excel\n",
        "* Images of any Kind\n",
        "* Videos(Youtube tem um tiquinho de dados)\n",
        "* Audio\n",
        "* DNA\n",
        "* Texto\n",
        "\n",
        "Machine Learn e divido em duas principais parte:\n",
        "\n",
        "1. Transformar os dados em representacao numerica.\n",
        "2. Construir um modelo para aprender padroes em tal representacao numerica.\n",
        "\n",
        "Vamos demonstrar isso atraves da criacao de dados conhecidos feitos por uma Regressao Linear.\n",
        "\n",
        "A formula da Regressao Linar sera usada para fazer uma linha reta com os **parametros** conhecidos"
      ],
      "metadata": {
        "id": "MUO1uIJRRpNa"
      }
    },
    {
      "cell_type": "code",
      "source": [
        "#Criando Parametros conhecidos\n",
        "weight = 0.7\n",
        "bias = 0.3\n",
        "\n",
        "#Criando a regressao\n",
        "start = 0\n",
        "end = 1\n",
        "step = 0.02\n",
        "X = torch.arange(start, end, step).unsqueeze(dim=1)\n",
        "y = weight * X + bias"
      ],
      "metadata": {
        "id": "nPdjZHZiK0dt"
      },
      "execution_count": 3,
      "outputs": []
    },
    {
      "cell_type": "code",
      "source": [
        "X.shape, X.squeeze().shape"
      ],
      "metadata": {
        "colab": {
          "base_uri": "https://localhost:8080/"
        },
        "id": "YCers_Q7b6Ka",
        "outputId": "a4481799-011e-49b3-cd50-a588f6950151"
      },
      "execution_count": 4,
      "outputs": [
        {
          "output_type": "execute_result",
          "data": {
            "text/plain": [
              "(torch.Size([50, 1]), torch.Size([50]))"
            ]
          },
          "metadata": {},
          "execution_count": 4
        }
      ]
    },
    {
      "cell_type": "markdown",
      "source": [
        "### Dividindo em treino e test"
      ],
      "metadata": {
        "id": "9WYZpyvQcrHJ"
      }
    },
    {
      "cell_type": "code",
      "source": [
        "train_split = int(0.8 * len(X))\n",
        "X_train, y_train = X[:train_split], y[:train_split]\n",
        "X_test, y_test = X[train_split:], y[train_split:]\n",
        "\n",
        "len(X_train), len(y_train), len(X_test), len(y_test)"
      ],
      "metadata": {
        "colab": {
          "base_uri": "https://localhost:8080/"
        },
        "id": "d5a7_jHQcGCD",
        "outputId": "4eb85d01-0247-46f3-e45d-aadb45287170"
      },
      "execution_count": 5,
      "outputs": [
        {
          "output_type": "execute_result",
          "data": {
            "text/plain": [
              "(40, 40, 10, 10)"
            ]
          },
          "metadata": {},
          "execution_count": 5
        }
      ]
    },
    {
      "cell_type": "code",
      "source": [
        "def plot_predictions(train_data=X_train,\n",
        "                     train_labels=y_train,\n",
        "                     test_data=X_test,\n",
        "                     test_labels=y_test,\n",
        "                     predictions=None):\n",
        "  \"\"\"\n",
        "  Plotando os dados de traino, teste e comparando com as predicoes.\n",
        "  \"\"\"\n",
        "  plt.figure(figsize=(10, 7))\n",
        "\n",
        "  # Plot dos dados de treino em azul\n",
        "  plt.scatter(train_data, train_labels, c='b', s=4, label='Dados de Treino')\n",
        "\n",
        "  # Plot dos dados de test em verde\n",
        "  plt.scatter(test_data, test_labels, c='g', s=4, label=\"Dados de Treino\")\n",
        "\n",
        "  # Predicoes, se tiver\n",
        "  if predictions is not None:\n",
        "    # Plot da predicao, caso existe, em vermelho\n",
        "    plt.scatter(X_test, predictions, c='r', s=5, label='Predicoes')\n",
        "\n",
        "  # LEgenda\n",
        "  plt.legend(prop={\"size\": 14});\n",
        "\n"
      ],
      "metadata": {
        "id": "us7EpUjJfUJ8"
      },
      "execution_count": 6,
      "outputs": []
    },
    {
      "cell_type": "code",
      "source": [
        "plot_predictions()"
      ],
      "metadata": {
        "id": "g2edY_QOfcgJ",
        "colab": {
          "base_uri": "https://localhost:8080/",
          "height": 460
        },
        "outputId": "3ce0241e-bdbc-42f5-c866-cf61d9f04040"
      },
      "execution_count": 7,
      "outputs": [
        {
          "output_type": "display_data",
          "data": {
            "text/plain": [
              "<Figure size 1000x700 with 1 Axes>"
            ],
            "image/png": "[encoded data removed]"
          },
          "metadata": {}
        }
      ]
    },
    {
      "cell_type": "markdown",
      "source": [
        "Funcionamento do modelo:\n",
        "* Comeca com valores aleatorios(weight & bias)\n",
        "* Olha para os dados de treino e ajusta os valores aleatorios para melhor representar(ou chegar perto de) os valores ideais.(os valores de weight & bias usads para criar nossos dados)\n",
        "\n",
        "Como eh feito?\n",
        "\n",
        "Por meio de dois algoritmos principais:\n",
        "1. Gradient descent\n",
        "2. Backpropagation"
      ],
      "metadata": {
        "id": "1ebwcbhzksTT"
      }
    },
    {
      "cell_type": "code",
      "source": [
        "# Criando a classe do Modelo de Regressao Linear\n",
        "class LinearRegressionModel(nn.Module): # <- Herda de nn.Module\n",
        "  def __init__(self):\n",
        "    super().__init__()\n",
        "    self.weights = nn.Parameter(torch.randn(1, #COmeca com height aleatorio e tenta se ajudar para o valor idela\n",
        "\n",
        "                                            requires_grad=True, # Esse parametro pode ser atualizado pelo gradiente decendente?\n",
        "                                            dtype=torch.float)) # Tipo de dado padrao do Pytorch float32\n",
        "\n",
        "    self.bias = nn.Parameter(torch.randn(1, #Comeca com o bias aleatorio e tenta se ajustar ao valor ideal\n",
        "                                         requires_grad=True,  # Esse parametro pode ser atualizado pelo gradiente decendente?\n",
        "                                         dtype=torch.float)) # Tipo de dado padrao do Pytorch float32\n",
        "\n",
        "  # Método forward para definir o cálculo no modelo\n",
        "  def forward(self, x: torch.Tensor) -> torch.Tensor: # <- \"x\" e o dado de entrada\n",
        "    return self.weights * x + self.bias # Formula da Regressao Linear\n"
      ],
      "metadata": {
        "id": "xgH4Pp8IkIr0"
      },
      "execution_count": 8,
      "outputs": []
    },
    {
      "cell_type": "markdown",
      "source": [
        "### Checando o conteudo do modelo Pytorch\n",
        "\n",
        "* Para checar os parametros ou o que esta dentro do modelo, use, **.parameters()**."
      ],
      "metadata": {
        "id": "nfS1nQtOB-RL"
      }
    },
    {
      "cell_type": "code",
      "source": [
        "#seed random\n",
        "torch.manual_seed(42)\n",
        "\n",
        "#Instanciando o modelo(isso eh uma subclase do nn.Module)\n",
        "model_0 = LinearRegressionModel()\n",
        "\n",
        "#Chacando os parametros\n",
        "list(model_0.parameters())"
      ],
      "metadata": {
        "colab": {
          "base_uri": "https://localhost:8080/"
        },
        "id": "UymwfDB-B9am",
        "outputId": "ecf0fa0b-6fd5-49a2-da3f-14076c9316a4"
      },
      "execution_count": 9,
      "outputs": [
        {
          "output_type": "execute_result",
          "data": {
            "text/plain": [
              "[Parameter containing:\n",
              " tensor([0.3367], requires_grad=True),\n",
              " Parameter containing:\n",
              " tensor([0.1288], requires_grad=True)]"
            ]
          },
          "metadata": {},
          "execution_count": 9
        }
      ]
    },
    {
      "cell_type": "code",
      "source": [
        "#LIstando os parametros cm nome(usando dicionarios)\n",
        "model_0.state_dict()"
      ],
      "metadata": {
        "colab": {
          "base_uri": "https://localhost:8080/"
        },
        "id": "EzrCLB7mCTfR",
        "outputId": "150808b5-2920-4cd3-a34f-3a234698e82c"
      },
      "execution_count": 10,
      "outputs": [
        {
          "output_type": "execute_result",
          "data": {
            "text/plain": [
              "OrderedDict([('weights', tensor([0.3367])), ('bias', tensor([0.1288]))])"
            ]
          },
          "metadata": {},
          "execution_count": 10
        }
      ]
    },
    {
      "cell_type": "markdown",
      "source": [
        "Valor ideal:\n",
        "weight: 0.7\n",
        "bias: 0.3"
      ],
      "metadata": {
        "id": "eHogaqS7Czz4"
      }
    },
    {
      "cell_type": "markdown",
      "source": [
        "### Prevendo usando torch.inference_mode()\n",
        "\n",
        "Para checar o poder de precisao do modelo, prevomos y_test com base no X_test\n",
        "\n",
        "Ao passar dados pelo modelo, eles iram rodar pelo metodo forward("
      ],
      "metadata": {
        "id": "okK_g6GiETyu"
      }
    },
    {
      "cell_type": "code",
      "source": [
        "with torch.inference_mode():\n",
        "  y_preds = model_0(X_test)\n",
        "y_preds"
      ],
      "metadata": {
        "colab": {
          "base_uri": "https://localhost:8080/"
        },
        "id": "CwdoW12IDCF6",
        "outputId": "59319640-e570-4cc6-d71d-047b3cbd2505"
      },
      "execution_count": 11,
      "outputs": [
        {
          "output_type": "execute_result",
          "data": {
            "text/plain": [
              "tensor([[0.3982],\n",
              "        [0.4049],\n",
              "        [0.4116],\n",
              "        [0.4184],\n",
              "        [0.4251],\n",
              "        [0.4318],\n",
              "        [0.4386],\n",
              "        [0.4453],\n",
              "        [0.4520],\n",
              "        [0.4588]])"
            ]
          },
          "metadata": {},
          "execution_count": 11
        }
      ]
    },
    {
      "cell_type": "code",
      "source": [
        "y_test"
      ],
      "metadata": {
        "colab": {
          "base_uri": "https://localhost:8080/"
        },
        "id": "drugdVu5E2-9",
        "outputId": "a54f5e2d-b449-4081-820f-f26dc8bee146"
      },
      "execution_count": 12,
      "outputs": [
        {
          "output_type": "execute_result",
          "data": {
            "text/plain": [
              "tensor([[0.8600],\n",
              "        [0.8740],\n",
              "        [0.8880],\n",
              "        [0.9020],\n",
              "        [0.9160],\n",
              "        [0.9300],\n",
              "        [0.9440],\n",
              "        [0.9580],\n",
              "        [0.9720],\n",
              "        [0.9860]])"
            ]
          },
          "metadata": {},
          "execution_count": 12
        }
      ]
    },
    {
      "cell_type": "code",
      "source": [
        "plot_predictions(predictions=y_preds)"
      ],
      "metadata": {
        "colab": {
          "base_uri": "https://localhost:8080/",
          "height": 460
        },
        "id": "kLz5895fFOLo",
        "outputId": "c3c84c31-7127-4892-a5b1-ea753c91848b"
      },
      "execution_count": 13,
      "outputs": [
        {
          "output_type": "display_data",
          "data": {
            "text/plain": [
              "<Figure size 1000x700 with 1 Axes>"
            ],
            "image/png": "[encoded data removed]"
          },
          "metadata": {}
        }
      ]
    },
    {
      "cell_type": "markdown",
      "source": [
        "### Treinando o modelo\n",
        "\n",
        "A ideia geral do treino eh sair de parametros desconhecidos(talvez aleatorios) para parametros conhecidos.\n",
        "\n",
        "Ou seja para uma representacao que nao condiz com a realidade de nossos dados, para uma que representa a realidade.\n",
        "\n",
        "loss function -> Maneira de mensuarar o quao \"pobre\" ou nao condizente com a realidade as predicoes do nosso modelo sao.\n",
        "\n",
        "loss function = cost function = criterion\n",
        "\n",
        "Coisas necessarias para treinar:\n",
        "\n",
        "* **Loss Function** lower is better\n",
        "* **Optimizer** Leva em consideracao a perca(loss) do modelo e ajusta os parametros(peso e bias, neste caso) para melhorar o perca(perdendo menos)\n",
        "\n",
        "* 'params' - Os parametros do modelo que que gostaria de oxtimizar. EX: \"params=model_0.parameters()\"\n",
        "* lr - O \"Learning Rate\" eh um hyperparametro que define o quao grande/pequena sera o salto de valores dos paramentros a cada passo.\n",
        "\n",
        "Especificamente para Pytorch:\n",
        "\n",
        "* Um loop de treino\n",
        "* Um loop de teste\n"
      ],
      "metadata": {
        "id": "-2zkHI8HOEPW"
      }
    },
    {
      "cell_type": "code",
      "source": [
        "list(model_0.parameters())"
      ],
      "metadata": {
        "id": "fXkNXo7gO5pE",
        "colab": {
          "base_uri": "https://localhost:8080/"
        },
        "outputId": "19fd93e5-3710-449b-9184-99c5fb60ad74"
      },
      "execution_count": 14,
      "outputs": [
        {
          "output_type": "execute_result",
          "data": {
            "text/plain": [
              "[Parameter containing:\n",
              " tensor([0.3367], requires_grad=True),\n",
              " Parameter containing:\n",
              " tensor([0.1288], requires_grad=True)]"
            ]
          },
          "metadata": {},
          "execution_count": 14
        }
      ]
    },
    {
      "cell_type": "code",
      "source": [
        "#CHecando os parametros do modelo. Um paramentro eh um valor que o modelo definiu ele mesmo\n",
        "model_0.state_dict()"
      ],
      "metadata": {
        "id": "CWTi6zQSO5nD",
        "colab": {
          "base_uri": "https://localhost:8080/"
        },
        "outputId": "e145c99c-dec2-4701-f77e-c9eb4a539db4"
      },
      "execution_count": 15,
      "outputs": [
        {
          "output_type": "execute_result",
          "data": {
            "text/plain": [
              "OrderedDict([('weights', tensor([0.3367])), ('bias', tensor([0.1288]))])"
            ]
          },
          "metadata": {},
          "execution_count": 15
        }
      ]
    },
    {
      "cell_type": "code",
      "source": [
        "#Loss Function Mede o quao errado o Modelo esta\n",
        "loss_fn = nn.L1Loss()\n",
        "\n",
        "#Optimizer Ajusta esses parametros para reduzir a perca/loss\n",
        "optimizer = torch.optim.SGD(params=model_0.parameters(), #Stochastic Gradient Descent\n",
        "                            lr=0.01) # lr = Learning Rate = Possivelmente o hyperparamentro mais importante que tu pode escolher"
      ],
      "metadata": {
        "id": "dD_ZKu3saFYG"
      },
      "execution_count": 16,
      "outputs": []
    },
    {
      "cell_type": "markdown",
      "source": [
        "Exemplodo lr usando bias\n",
        "Se lr = 0.1 pula o 0.\"1\"288\n",
        "se le =0.01 pula o 0.1\"2\"88\n",
        "Se lr= 0.001 pula 0 0.12\"8\"8\n",
        "pula significa usar o valor p cima ou p baixo \"mudar\" o valor"
      ],
      "metadata": {
        "id": "YSYpYZoWdpvQ"
      }
    },
    {
      "cell_type": "markdown",
      "source": [],
      "metadata": {
        "id": "FJMLLkF4gOxO"
      }
    },
    {
      "cell_type": "code",
      "source": [
        "loss_fn"
      ],
      "metadata": {
        "colab": {
          "base_uri": "https://localhost:8080/"
        },
        "id": "RYiAYxUmbZuF",
        "outputId": "517523f4-9ef6-44b1-c2bd-8f5e604d4ca4"
      },
      "execution_count": 17,
      "outputs": [
        {
          "output_type": "execute_result",
          "data": {
            "text/plain": [
              "L1Loss()"
            ]
          },
          "metadata": {},
          "execution_count": 17
        }
      ]
    },
    {
      "cell_type": "markdown",
      "source": [
        "*Q* Qual \"loss Function\" e \"Optimizer\" usar?\n",
        " * Depende do problema, com experiencia se pega.\n",
        " * Para regressao pode ser \"Loss function\" = nnL1Loss() e \"optimizer\" = torch.optim.SGD()\n",
        " * Para regressao pode ser \"Loss Function\" = nn.BCELoss() (binary cross entropy loss)"
      ],
      "metadata": {
        "id": "BUQpSfwkgBX-"
      }
    },
    {
      "cell_type": "markdown",
      "source": [
        "### Construindo o loop de Treino/Teste in Pytorch\n",
        "\n",
        "COisas necessarias para o Loop\n",
        "\n",
        "0. Passar pelos Dados e fazer... Um \"for\" com todos os outros passos dentro\n",
        "1. Forward pass (Envolve passar os dados pelas funcoes \"forward\") para fazer previsoes nos dados - Tambem chamado de \"forward propagation\"\n",
        "2. Calcular a perca/loss (Comparar as \"forward pass\" predicoes com os labekls verdadeiros\n",
        "3. Optimizar \"zero grad\"\n",
        "4. \"Loss backward\" - \"VOlta pra tras pela rede\" para calcular os gradientes de cada um dos arametros com respeito a perca/loss (**backpropagation**)\n",
        "5. Optimizer step - Usa o otimizador para ajustar os paramentros do modelo e tentar melhorar a perca (**gradient descent**)\n"
      ],
      "metadata": {
        "id": "k1jdB7RUjoj3"
      }
    },
    {
      "cell_type": "code",
      "source": [
        "torch.manual_seed(42)\n",
        "\n",
        "#\"epoch\" e um valor utilizador para a quantidade do loop (eh um hyperparametro, ja que nos definimos)\n",
        "#epochs =100 rodas para new_preds\n",
        "#epochs =1000 rodas para new_preds2\n",
        "epochs =1\n",
        "\n",
        "### Treino\n",
        "# 0.Loop dos dados\n",
        "for epoch in range(epochs):\n",
        "  #Seta o modelo pra modo treino\n",
        "  model_0.train() # Modo treino in Pytorch seta todos os parametros que requerem gradinete para requererem gradient\n",
        "\n",
        "  # 1. forward pass\n",
        "  y_pred = model_0(X_train)\n",
        "\n",
        "  #2. Calculo da perca/loss\n",
        "  loss = loss_fn(y_pred, y_train)\n",
        "  print(f\"Loss: {loss}\")\n",
        "\n",
        "  # 3. Optimizer zero grad\n",
        "  optimizer.zero_grad()\n",
        "\n",
        "  # 4. PErforma \"backpropagation\" na perca/loss em relacaoo aos parametros do modelo\n",
        "  loss.backward()\n",
        "\n",
        "  # 5. Step the optimizer(gradient descent)\n",
        "  optimizer.step() #por padrão, como as alterações do otimizador serão acumuladas através do loop... temos que zerar elas acima no passo 3 para a proxzima iteracao do loop\n",
        "\n",
        "\n",
        "  model_0.eval() # Desligado o rastreamento do gradiente\n",
        "\n",
        "  #pirntando o state_dict pra acompanhar o loss (fins didaticos)\n",
        "  #print(model_0.state_dict())"
      ],
      "metadata": {
        "id": "0FYiejsOmiQJ",
        "colab": {
          "base_uri": "https://localhost:8080/"
        },
        "outputId": "39a757e2-bf30-4567-db51-76fc32e4c6a9"
      },
      "execution_count": 18,
      "outputs": [
        {
          "output_type": "stream",
          "name": "stdout",
          "text": [
            "Loss: 0.31288138031959534\n"
          ]
        }
      ]
    },
    {
      "cell_type": "code",
      "source": [
        "model_0.state_dict()"
      ],
      "metadata": {
        "colab": {
          "base_uri": "https://localhost:8080/"
        },
        "id": "L7ncf_TAumbK",
        "outputId": "59cd05e1-7697-43fb-876b-10a68609080f"
      },
      "execution_count": 19,
      "outputs": [
        {
          "output_type": "execute_result",
          "data": {
            "text/plain": [
              "OrderedDict([('weights', tensor([0.3406])), ('bias', tensor([0.1388]))])"
            ]
          },
          "metadata": {},
          "execution_count": 19
        }
      ]
    },
    {
      "cell_type": "code",
      "source": [
        "(model_0.state_dict()), (weight, bias)"
      ],
      "metadata": {
        "colab": {
          "base_uri": "https://localhost:8080/"
        },
        "id": "txb7LhTktpPU",
        "outputId": "3114c53e-16e4-43a3-bb7b-fbcfe9e07486"
      },
      "execution_count": 20,
      "outputs": [
        {
          "output_type": "execute_result",
          "data": {
            "text/plain": [
              "(OrderedDict([('weights', tensor([0.3406])), ('bias', tensor([0.1388]))]),\n",
              " (0.7, 0.3))"
            ]
          },
          "metadata": {},
          "execution_count": 20
        }
      ]
    },
    {
      "cell_type": "code",
      "source": [
        "with torch.inference_mode():\n",
        "  y_preds_new = model_0(X_test)"
      ],
      "metadata": {
        "id": "J702oDH4oMv4"
      },
      "execution_count": 21,
      "outputs": []
    },
    {
      "cell_type": "code",
      "source": [
        "plot_predictions(predictions=y_preds);"
      ],
      "metadata": {
        "id": "XfQNqOjZsUFd",
        "colab": {
          "base_uri": "https://localhost:8080/",
          "height": 460
        },
        "outputId": "a76e96b5-c506-47dc-f824-ae34dea4f938"
      },
      "execution_count": 22,
      "outputs": [
        {
          "output_type": "display_data",
          "data": {
            "text/plain": [
              "<Figure size 1000x700 with 1 Axes>"
            ],
            "image/png": "[encoded data removed]"
          },
          "metadata": {}
        }
      ]
    },
    {
      "cell_type": "code",
      "source": [
        "plot_predictions(predictions=y_preds_new);"
      ],
      "metadata": {
        "colab": {
          "base_uri": "https://localhost:8080/",
          "height": 460
        },
        "id": "rccYxpX7wUEX",
        "outputId": "0a77f32b-d0a8-4ad2-9513-28902845cb46"
      },
      "execution_count": 23,
      "outputs": [
        {
          "output_type": "display_data",
          "data": {
            "text/plain": [
              "<Figure size 1000x700 with 1 Axes>"
            ],
            "image/png": "[encoded data removed]"
          },
          "metadata": {}
        }
      ]
    },
    {
      "cell_type": "code",
      "source": [
        "with torch.inference_mode():\n",
        "  y_preds_new2 = model_0(X_test)\n",
        "\n",
        "plot_predictions(predictions=y_preds_new2);\n"
      ],
      "metadata": {
        "colab": {
          "base_uri": "https://localhost:8080/",
          "height": 460
        },
        "id": "XzROKSSMwk7J",
        "outputId": "b812c1d5-0489-4caf-e3d0-a8a20497ba5b"
      },
      "execution_count": 24,
      "outputs": [
        {
          "output_type": "display_data",
          "data": {
            "text/plain": [
              "<Figure size 1000x700 with 1 Axes>"
            ],
            "image/png": "[encoded data removed]"
          },
          "metadata": {}
        }
      ]
    },
    {
      "cell_type": "code",
      "source": [
        "torch.manual_seed(42)\n",
        "\n",
        "#\"epoch\" e um valor utilizador para a quantidade do loop (eh um hyperparametro, ja que nos definimos)\n",
        "#epochs =100 rodas para new_preds\n",
        "#epochs =1000 rodas para new_preds2\n",
        "epochs =100\n",
        "\n",
        "# Rastreamentos\n",
        "epoch_count = []\n",
        "loss_values = []\n",
        "test_loss_values = []\n",
        "\n",
        "\n",
        "### Treino\n",
        "# 0.Loop dos dados\n",
        "for epoch in range(epochs):\n",
        "  #Seta o modelo pra modo treino\n",
        "  model_0.train() # Modo treino in Pytorch seta todos os parametros que requerem gradinete para requererem gradient\n",
        "\n",
        "  # 1. forward pass\n",
        "  y_pred = model_0(X_train)\n",
        "\n",
        "  #2. Calculo da perca/loss\n",
        "  loss = loss_fn(y_pred, y_train)\n",
        "  #print(f\"Loss: {loss}\")\n",
        "\n",
        "  # 3. Optimizer zero grad\n",
        "  optimizer.zero_grad()\n",
        "\n",
        "  # 4. PErforma \"backpropagation\" na perca/loss em relacaoo aos parametros do modelo\n",
        "  loss.backward()\n",
        "\n",
        "  # 5. Step the optimizer(gradient descent)\n",
        "  optimizer.step() #por padrão, como as alterações do otimizador serão acumuladas através do loop... temos que zerar elas acima no passo 3 para a proxzima iteracao do loop\n",
        "\n",
        "\n",
        "  model_0.eval() #Desligando diferentes configuracoes que o modelo nao precisa para evaluation/testing (dropout/batch norm layers)\n",
        "  with torch.inference_mode():  # Desligado o rastreamento do gradiente | e algumas coisas a mais por tras do panos\n",
        "  # 1. Forward pass\n",
        "    test_pred = model_0(X_test)\n",
        "\n",
        "  # 2. Calculando a perca/loss do teste\n",
        "    test_loss = loss_fn(test_pred, y_test)\n",
        "\n",
        "  #Printando a fins didaticos para ver o que acontece\n",
        "  if epoch % 10 == 0:\n",
        "    epoch_count.append(epoch)\n",
        "    loss_values.append(loss)\n",
        "    test_loss_values.append(test_loss)\n",
        "    print(f\"Epoch: {epoch} | Loss: {loss} | Test {test_loss}\")\n",
        "\n",
        "     #pirntando o state_dict pra acompanhar o loss (fins didaticos)\n",
        "    print(model_0.state_dict())"
      ],
      "metadata": {
        "colab": {
          "base_uri": "https://localhost:8080/"
        },
        "id": "_TnTqLdsxXkv",
        "outputId": "ee213f5f-9b00-4fde-e946-d71a344c64e8"
      },
      "execution_count": 25,
      "outputs": [
        {
          "output_type": "stream",
          "name": "stdout",
          "text": [
            "Epoch: 0 | Loss: 0.3013603389263153 | Test 0.4675942063331604\n",
            "OrderedDict([('weights', tensor([0.3445])), ('bias', tensor([0.1488]))])\n",
            "Epoch: 10 | Loss: 0.18615034222602844 | Test 0.3328842222690582\n",
            "OrderedDict([('weights', tensor([0.3835])), ('bias', tensor([0.2488]))])\n",
            "Epoch: 20 | Loss: 0.08227583020925522 | Test 0.2069590985774994\n",
            "OrderedDict([('weights', tensor([0.4222])), ('bias', tensor([0.3403]))])\n",
            "Epoch: 30 | Loss: 0.05181945487856865 | Test 0.14023718237876892\n",
            "OrderedDict([('weights', tensor([0.4539])), ('bias', tensor([0.3788]))])\n",
            "Epoch: 40 | Loss: 0.04503796249628067 | Test 0.11182951927185059\n",
            "OrderedDict([('weights', tensor([0.4768])), ('bias', tensor([0.3868]))])\n",
            "Epoch: 50 | Loss: 0.04132963344454765 | Test 0.09809747338294983\n",
            "OrderedDict([('weights', tensor([0.4956])), ('bias', tensor([0.3838]))])\n",
            "Epoch: 60 | Loss: 0.03785243630409241 | Test 0.08776430785655975\n",
            "OrderedDict([('weights', tensor([0.5134])), ('bias', tensor([0.3783]))])\n",
            "Epoch: 70 | Loss: 0.03441363573074341 | Test 0.0794917643070221\n",
            "OrderedDict([('weights', tensor([0.5306])), ('bias', tensor([0.3713]))])\n",
            "Epoch: 80 | Loss: 0.030979642644524574 | Test 0.07190609723329544\n",
            "OrderedDict([('weights', tensor([0.5475])), ('bias', tensor([0.3638]))])\n",
            "Epoch: 90 | Loss: 0.02754882536828518 | Test 0.06363357603549957\n",
            "OrderedDict([('weights', tensor([0.5647])), ('bias', tensor([0.3568]))])\n"
          ]
        }
      ]
    },
    {
      "cell_type": "code",
      "source": [
        "plot_predictions(predictions=test_pred);\n"
      ],
      "metadata": {
        "colab": {
          "base_uri": "https://localhost:8080/",
          "height": 460
        },
        "id": "FBa4OdePzfo7",
        "outputId": "3df40745-54a7-4933-d8d9-a12c76cc702a"
      },
      "execution_count": 26,
      "outputs": [
        {
          "output_type": "display_data",
          "data": {
            "text/plain": [
              "<Figure size 1000x700 with 1 Axes>"
            ],
            "image/png": "[encoded data removed]"
          },
          "metadata": {}
        }
      ]
    },
    {
      "cell_type": "code",
      "source": [
        "import numpy as np\n",
        "# Plot the loss curves\n",
        "plt.plot(epoch_count, np.array(torch.tensor(loss_values).numpy()), label='Train loss')\n",
        "plt.plot(epoch_count, test_loss_values, label='Test loss')\n",
        "plt.title(\"Training and Test loss curves\")\n",
        "plt.ylabel(\"Loss\")\n",
        "plt.xlabel(\"Epochs\")\n",
        "plt.legend();\n",
        "# V1 ta cagado pq ja treinei tanto que nem parece mais erro, mas isso nao significa que o modelo ta top!\n"
      ],
      "metadata": {
        "colab": {
          "base_uri": "https://localhost:8080/",
          "height": 472
        },
        "id": "8cR-lNwj0YT4",
        "outputId": "f5aed2db-965a-438c-cf39-bd64f8102fa0"
      },
      "execution_count": 27,
      "outputs": [
        {
          "output_type": "display_data",
          "data": {
            "text/plain": [
              "<Figure size 640x480 with 1 Axes>"
            ],
            "image/png": "[encoded data removed]"
          },
          "metadata": {}
        }
      ]
    },
    {
      "cell_type": "markdown",
      "source": [
        "### SAlvando o modelo no Pytorch\n",
        "\n",
        "3 principais metodos\n",
        "\n",
        "1. `torch.save()` - Permite salvar um oibjeto Pytorch no fomrato pickle\n",
        "\n",
        "2. `torch.load()` - Permite carregar o objeto Pytorch salvo\n",
        "\n",
        "3. `torch.nn.Module.load_state_dict()` - Permite carregar o \"Dicionario de estado\" de um modelo salvo\n",
        "\n",
        "Extra Ler Doc\n",
        "\n",
        "\n"
      ],
      "metadata": {
        "id": "XtXwazk9-2Zv"
      }
    },
    {
      "cell_type": "code",
      "source": [
        "#Salvando nosso modelo\n",
        "from pathlib import Path\n",
        "\n",
        "# 1 Criando o diretorio para modelos\n",
        "MODEL_PATH = Path(\"models\")\n",
        "MODEL_PATH.mkdir(parents=True, exist_ok=True)\n",
        "\n",
        "\n",
        "# 2 Criando o caminho para salvar o modelo\n",
        "MODEL_NAME = \"01_pytorch_workflow_model_0.pth\"\n",
        "MODEL_SAVE_PATH = MODEL_PATH / MODEL_NAME\n",
        "\n",
        "# Salvando o dicionario de estado\n",
        "print(f\"Salvando modelo em {MODEL_SAVE_PATH}\") # VISUALIZACAO DOQ ESTA ACONTECENDO\n",
        "torch.save(obj=model_0.state_dict(),\n",
        "           f=MODEL_SAVE_PATH)"
      ],
      "metadata": {
        "id": "IjR4znDL4THn",
        "colab": {
          "base_uri": "https://localhost:8080/"
        },
        "outputId": "86169db2-de6a-47f0-b669-c377cf5a4647"
      },
      "execution_count": 28,
      "outputs": [
        {
          "output_type": "stream",
          "name": "stdout",
          "text": [
            "Salvando modelo em models/01_pytorch_workflow_model_0.pth\n"
          ]
        }
      ]
    },
    {
      "cell_type": "code",
      "source": [
        "!ls -l models"
      ],
      "metadata": {
        "colab": {
          "base_uri": "https://localhost:8080/"
        },
        "id": "2IVeLgNiDuNp",
        "outputId": "21d7cb43-929f-4263-84c9-1b7f328bcbd2"
      },
      "execution_count": 29,
      "outputs": [
        {
          "output_type": "stream",
          "name": "stdout",
          "text": [
            "total 4\n",
            "-rw-r--r-- 1 root root 1680 Jun 26 18:27 01_pytorch_workflow_model_0.pth\n"
          ]
        }
      ]
    },
    {
      "cell_type": "markdown",
      "source": [
        "### Carregando o modelo Pytorch\n",
        "\n",
        "Como so foi salvo o \"Dicionario de eESTADO\", invez do modelo todo, deve-se criar uma nova instancia para nossa classe do modelo e carregar o dicionario de estado salvo nela."
      ],
      "metadata": {
        "id": "caSGnQLkGb30"
      }
    },
    {
      "cell_type": "code",
      "source": [
        "model_0.state_dict()"
      ],
      "metadata": {
        "colab": {
          "base_uri": "https://localhost:8080/"
        },
        "id": "6Q_z9Pc-DwUp",
        "outputId": "ea2fe2db-5728-4d8a-a3ba-b2ec8f94357a"
      },
      "execution_count": 30,
      "outputs": [
        {
          "output_type": "execute_result",
          "data": {
            "text/plain": [
              "OrderedDict([('weights', tensor([0.5800])), ('bias', tensor([0.3503]))])"
            ]
          },
          "metadata": {},
          "execution_count": 30
        }
      ]
    },
    {
      "cell_type": "code",
      "source": [
        "# Para carregar o \"Dicionario de Estado\" tem que isntanciar uma nova instancia da classe modelo\n",
        "loaded_model_0 = LinearRegressionModel()\n",
        "\n",
        "#Carregando o \"Dicionario de estado\" salvo do modelo_0 (Isso vai atualizar a nova instancia com os parametros atualizados)\n",
        "loaded_model_0.load_state_dict(torch.load(f=MODEL_SAVE_PATH))\n"
      ],
      "metadata": {
        "colab": {
          "base_uri": "https://localhost:8080/"
        },
        "id": "ZKK9atPEHIac",
        "outputId": "7f414e17-3e8b-4aca-95e5-367423144ea9"
      },
      "execution_count": 31,
      "outputs": [
        {
          "output_type": "execute_result",
          "data": {
            "text/plain": [
              "<All keys matched successfully>"
            ]
          },
          "metadata": {},
          "execution_count": 31
        }
      ]
    },
    {
      "cell_type": "code",
      "source": [
        "loaded_model_0.state_dict()"
      ],
      "metadata": {
        "colab": {
          "base_uri": "https://localhost:8080/"
        },
        "id": "805Et35UIom6",
        "outputId": "645b04c3-aa27-47c1-b34b-cc77a9acd188"
      },
      "execution_count": 32,
      "outputs": [
        {
          "output_type": "execute_result",
          "data": {
            "text/plain": [
              "OrderedDict([('weights', tensor([0.5800])), ('bias', tensor([0.3503]))])"
            ]
          },
          "metadata": {},
          "execution_count": 32
        }
      ]
    },
    {
      "cell_type": "code",
      "source": [
        "# Previsoes com o modelo salvo\n",
        "loaded_model_0.eval()\n",
        "with torch.inference_mode():\n",
        "  loaded_model_preds = loaded_model_0(X_test)\n",
        "\n",
        "loaded_model_preds"
      ],
      "metadata": {
        "colab": {
          "base_uri": "https://localhost:8080/"
        },
        "id": "C-79TYyoIuBb",
        "outputId": "59b22f3b-543b-417f-8eda-57edacc665fa"
      },
      "execution_count": 33,
      "outputs": [
        {
          "output_type": "execute_result",
          "data": {
            "text/plain": [
              "tensor([[0.8143],\n",
              "        [0.8259],\n",
              "        [0.8375],\n",
              "        [0.8491],\n",
              "        [0.8607],\n",
              "        [0.8723],\n",
              "        [0.8839],\n",
              "        [0.8955],\n",
              "        [0.9071],\n",
              "        [0.9187]])"
            ]
          },
          "metadata": {},
          "execution_count": 33
        }
      ]
    },
    {
      "cell_type": "code",
      "source": [
        "# Previsoes com o modelo base\n",
        "model_0.eval()\n",
        "with torch.inference_mode():\n",
        "  y_preds = model_0(X_test)\n",
        "\n",
        "y_preds"
      ],
      "metadata": {
        "colab": {
          "base_uri": "https://localhost:8080/"
        },
        "id": "PVPMn209Ji-l",
        "outputId": "469d4506-9faf-450e-9fd4-d98379061c37"
      },
      "execution_count": 34,
      "outputs": [
        {
          "output_type": "execute_result",
          "data": {
            "text/plain": [
              "tensor([[0.8143],\n",
              "        [0.8259],\n",
              "        [0.8375],\n",
              "        [0.8491],\n",
              "        [0.8607],\n",
              "        [0.8723],\n",
              "        [0.8839],\n",
              "        [0.8955],\n",
              "        [0.9071],\n",
              "        [0.9187]])"
            ]
          },
          "metadata": {},
          "execution_count": 34
        }
      ]
    },
    {
      "cell_type": "code",
      "source": [
        "#Comparando o carregado com o original\n",
        "y_preds == loaded_model_preds"
      ],
      "metadata": {
        "colab": {
          "base_uri": "https://localhost:8080/"
        },
        "id": "cQp6xAo9JT0P",
        "outputId": "3d226e18-70dd-4280-c081-10d4eb75407e"
      },
      "execution_count": 35,
      "outputs": [
        {
          "output_type": "execute_result",
          "data": {
            "text/plain": [
              "tensor([[True],\n",
              "        [True],\n",
              "        [True],\n",
              "        [True],\n",
              "        [True],\n",
              "        [True],\n",
              "        [True],\n",
              "        [True],\n",
              "        [True],\n",
              "        [True]])"
            ]
          },
          "metadata": {},
          "execution_count": 35
        }
      ]
    },
    {
      "cell_type": "markdown",
      "source": [
        "### Tudo junto e misturado\n",
        "\n",
        "Todos os passos juntos"
      ],
      "metadata": {
        "id": "9Fvb5XcpHLkk"
      }
    },
    {
      "cell_type": "code",
      "source": [
        "#import torch\n",
        "#import matplotlib.pyplot as plt\n",
        "#from torch import nn\n",
        "\n",
        "#Versao torch\n",
        "torch.__version__"
      ],
      "metadata": {
        "id": "YM2xzIaQJl5_",
        "colab": {
          "base_uri": "https://localhost:8080/",
          "height": 35
        },
        "outputId": "97142d52-5578-4850-a5f2-21d68477e612"
      },
      "execution_count": 36,
      "outputs": [
        {
          "output_type": "execute_result",
          "data": {
            "text/plain": [
              "'2.3.0+cu121'"
            ],
            "application/vnd.google.colaboratory.intrinsic+json": {
              "type": "string"
            }
          },
          "metadata": {},
          "execution_count": 36
        }
      ]
    },
    {
      "cell_type": "markdown",
      "source": [
        "Diagnostico de dispositivo\n",
        "\n",
        "Se tiver GPU usa, se nao CPU"
      ],
      "metadata": {
        "id": "vmgJ9czIIta2"
      }
    },
    {
      "cell_type": "code",
      "source": [
        "device ='cuda' if torch.cuda.is_available() else 'cpu'\n",
        "print(f'Usando: {device}')"
      ],
      "metadata": {
        "colab": {
          "base_uri": "https://localhost:8080/"
        },
        "id": "xzYoY4tVJI5S",
        "outputId": "ba914edc-4748-4d1b-a5d1-511699a8157a"
      },
      "execution_count": 37,
      "outputs": [
        {
          "output_type": "stream",
          "name": "stdout",
          "text": [
            "Usando: cpu\n"
          ]
        }
      ]
    },
    {
      "cell_type": "markdown",
      "source": [
        "#### Dados"
      ],
      "metadata": {
        "id": "uCikKVNfHR57"
      }
    },
    {
      "cell_type": "code",
      "source": [
        "# Criando dados usando a formula da Regressao Linear\n",
        "weight = 0.8\n",
        "bias = 0.4\n",
        "\n",
        "# Range dos valores\n",
        "start = 0\n",
        "end = 1\n",
        "step = 0.02\n",
        "\n",
        "# Criando as features e labels (X e y)\n",
        "X = torch.arange(start, end, step).unsqueeze(dim=1) #Sem unsqueeze da erro\n",
        "y = weight * X + bias\n",
        "X[:10], y[:10]"
      ],
      "metadata": {
        "colab": {
          "base_uri": "https://localhost:8080/"
        },
        "id": "CpRyROYtKImg",
        "outputId": "2b7836cd-504a-447c-e525-6ccf554938fc"
      },
      "execution_count": 38,
      "outputs": [
        {
          "output_type": "execute_result",
          "data": {
            "text/plain": [
              "(tensor([[0.0000],\n",
              "         [0.0200],\n",
              "         [0.0400],\n",
              "         [0.0600],\n",
              "         [0.0800],\n",
              "         [0.1000],\n",
              "         [0.1200],\n",
              "         [0.1400],\n",
              "         [0.1600],\n",
              "         [0.1800]]),\n",
              " tensor([[0.4000],\n",
              "         [0.4160],\n",
              "         [0.4320],\n",
              "         [0.4480],\n",
              "         [0.4640],\n",
              "         [0.4800],\n",
              "         [0.4960],\n",
              "         [0.5120],\n",
              "         [0.5280],\n",
              "         [0.5440]]))"
            ]
          },
          "metadata": {},
          "execution_count": 38
        }
      ]
    },
    {
      "cell_type": "code",
      "source": [
        "#Seprando os dados(train test spILT)\n",
        "train_split = int(0.8 * len(X))\n",
        "X_train, y_train = X[:train_split], y [:train_split]\n",
        "X_test, y_test = X[train_split:], y[train_split:]\n",
        "len(X_train), len(y_train), len(X_test), len(y_test)"
      ],
      "metadata": {
        "colab": {
          "base_uri": "https://localhost:8080/"
        },
        "id": "nMSv_vxLWXm_",
        "outputId": "c976528a-7132-450f-8332-5a4501fbb6bb"
      },
      "execution_count": 39,
      "outputs": [
        {
          "output_type": "execute_result",
          "data": {
            "text/plain": [
              "(40, 40, 10, 10)"
            ]
          },
          "metadata": {},
          "execution_count": 39
        }
      ]
    },
    {
      "cell_type": "code",
      "source": [
        "#plot\n",
        "plot_predictions(X_train, y_train, X_test, y_test) #Funcao criada se nao tiver vai dar erro"
      ],
      "metadata": {
        "colab": {
          "base_uri": "https://localhost:8080/",
          "height": 460
        },
        "id": "UqVuUCaVXKER",
        "outputId": "c50475fb-ff18-4650-fc3c-fdf193360130"
      },
      "execution_count": 40,
      "outputs": [
        {
          "output_type": "display_data",
          "data": {
            "text/plain": [
              "<Figure size 1000x700 with 1 Axes>"
            ],
            "image/png": "[encoded data removed]"
          },
          "metadata": {}
        }
      ]
    },
    {
      "cell_type": "code",
      "source": [
        "#Criando um modelo Linear subclasse de nn.Module\n",
        "class LinearRegressionModelV2(nn.Module):\n",
        "  def __init__(self):\n",
        "    super().__init__()\n",
        "    # Usando nn.Linear()para criar os parametros do modelo / tbm chamda de linear trasform\n",
        "    self.linear_layer = nn.Linear(in_features =1,\n",
        "                                  out_features=1)\n",
        "\n",
        "  def forward(self, x: torch.Tensor) -> torch.Tensor:\n",
        "    return self.linear_layer(x)\n",
        "\n",
        "#seed manual\n",
        "torch.manual_seed(42)\n",
        "model_1 = LinearRegressionModelV2()\n",
        "\n",
        ""
      ],
      "metadata": {
        "id": "5RuDZZKaXcWk"
      },
      "execution_count": 47,
      "outputs": []
    },
    {
      "cell_type": "code",
      "source": [
        "model_1"
      ],
      "metadata": {
        "colab": {
          "base_uri": "https://localhost:8080/"
        },
        "id": "OueH09XK4fYB",
        "outputId": "a3624e8f-3750-4a84-aee3-0d80a4eb130a"
      },
      "execution_count": 48,
      "outputs": [
        {
          "output_type": "execute_result",
          "data": {
            "text/plain": [
              "LinearRegressionModelV2(\n",
              "  (linear_layer): Linear(in_features=1, out_features=1, bias=True)\n",
              ")"
            ]
          },
          "metadata": {},
          "execution_count": 48
        }
      ]
    },
    {
      "cell_type": "code",
      "source": [
        "model_1.state_dict()"
      ],
      "metadata": {
        "colab": {
          "base_uri": "https://localhost:8080/"
        },
        "id": "c6dT2S9B4ql4",
        "outputId": "b76972d1-6d30-4492-c72e-4708eb135bf8"
      },
      "execution_count": 49,
      "outputs": [
        {
          "output_type": "execute_result",
          "data": {
            "text/plain": [
              "OrderedDict([('linear_layer.weight', tensor([[0.7645]])),\n",
              "             ('linear_layer.bias', tensor([0.8300]))])"
            ]
          },
          "metadata": {},
          "execution_count": 49
        }
      ]
    },
    {
      "cell_type": "code",
      "source": [
        "#8:06"
      ],
      "metadata": {
        "id": "rh42RXvJ4xLr"
      },
      "execution_count": null,
      "outputs": []
    }
  ]
}