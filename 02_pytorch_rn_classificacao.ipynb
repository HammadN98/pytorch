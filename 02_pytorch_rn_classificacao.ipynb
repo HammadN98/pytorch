{
  "nbformat": 4,
  "nbformat_minor": 0,
  "metadata": {
    "colab": {
      "provenance": [],
      "authorship_tag": "ABX9TyMX9U1RgsKsAonejN1PSl0W",
      "include_colab_link": true
    },
    "kernelspec": {
      "name": "python3",
      "display_name": "Python 3"
    },
    "language_info": {
      "name": "python"
    }
  },
  "cells": [
    {
      "cell_type": "markdown",
      "metadata": {
        "id": "view-in-github",
        "colab_type": "text"
      },
      "source": [
        "<a href=\"https://colab.research.google.com/github/HammadN98/pytorch/blob/main/02_pytorch_rn_classificacao.ipynb\" target=\"_parent\"><img src=\"https://colab.research.google.com/assets/colab-badge.svg\" alt=\"Open In Colab\"/></a>"
      ]
    },
    {
      "cell_type": "markdown",
      "source": [
        "# 02 Redes Neurais de Classificacao com Pytorch\n",
        "\n",
        "O porblema de classificacao preve se algo, eh uma coisa ou outra coisa(Pode haver varias coisas entre as opcoes). (Explicacao mais concisa que tu vai ver na vida)"
      ],
      "metadata": {
        "id": "C6NROGYuDv1i"
      }
    },
    {
      "cell_type": "markdown",
      "source": [
        "## 1. Criando os dados para classificacao e preparar-los para usar"
      ],
      "metadata": {
        "id": "pFnhyubIE--r"
      }
    },
    {
      "cell_type": "code",
      "execution_count": 1,
      "metadata": {
        "id": "3FzK3a7i4t1y"
      },
      "outputs": [],
      "source": [
        "from sklearn.datasets import make_circles\n",
        "import pandas as pd\n",
        "import matplotlib.pyplot as plt\n",
        "import torch\n",
        "from sklearn.model_selection import train_test_split\n",
        "from torch import nn\n",
        "from sklearn import datasets\n",
        "import numpy as np\n"
      ]
    },
    {
      "cell_type": "code",
      "source": [
        "# Fazendo 1000 circulos\n",
        "n_samples = 1000\n",
        "\n",
        "#CCriando os circulos\n",
        "X, y = make_circles(n_samples,\n",
        "                    noise=0.03,\n",
        "                    random_state=42)\n"
      ],
      "metadata": {
        "id": "ly1RER2RFUbO"
      },
      "execution_count": 2,
      "outputs": []
    },
    {
      "cell_type": "code",
      "source": [
        "len(X), len(y)"
      ],
      "metadata": {
        "colab": {
          "base_uri": "https://localhost:8080/"
        },
        "id": "DgRD3lpdFPp0",
        "outputId": "4a91fab2-5645-4ee6-bbcc-8f54d4adce97"
      },
      "execution_count": 3,
      "outputs": [
        {
          "output_type": "execute_result",
          "data": {
            "text/plain": [
              "(1000, 1000)"
            ]
          },
          "metadata": {},
          "execution_count": 3
        }
      ]
    },
    {
      "cell_type": "code",
      "source": [
        "print(f\"5 Primeiros elementos de X:\\n {X[:5]}\")\n",
        "print(f\"5 Primeiros elementos de y:\\n {y[:5]}\")"
      ],
      "metadata": {
        "colab": {
          "base_uri": "https://localhost:8080/"
        },
        "id": "2TBlQyZ5FOyA",
        "outputId": "2f6a90b9-b076-4075-a0c9-0363612cb6c7"
      },
      "execution_count": 4,
      "outputs": [
        {
          "output_type": "stream",
          "name": "stdout",
          "text": [
            "5 Primeiros elementos de X:\n",
            " [[ 0.75424625  0.23148074]\n",
            " [-0.75615888  0.15325888]\n",
            " [-0.81539193  0.17328203]\n",
            " [-0.39373073  0.69288277]\n",
            " [ 0.44220765 -0.89672343]]\n",
            "5 Primeiros elementos de y:\n",
            " [1 1 1 1 0]\n"
          ]
        }
      ]
    },
    {
      "cell_type": "code",
      "source": [
        "y"
      ],
      "metadata": {
        "colab": {
          "base_uri": "https://localhost:8080/"
        },
        "id": "KcbecIGHGj8U",
        "outputId": "99c87aa4-69a0-44ae-b562-53cafebe2f7b"
      },
      "execution_count": 5,
      "outputs": [
        {
          "output_type": "execute_result",
          "data": {
            "text/plain": [
              "array([1, 1, 1, 1, 0, 1, 1, 1, 1, 0, 1, 0, 1, 1, 1, 1, 0, 1, 1, 0, 1, 0,\n",
              "       0, 1, 0, 0, 0, 1, 1, 1, 0, 0, 1, 0, 0, 0, 1, 1, 1, 0, 0, 0, 0, 1,\n",
              "       0, 0, 1, 1, 0, 1, 1, 1, 0, 1, 0, 0, 1, 0, 0, 1, 0, 0, 1, 0, 1, 1,\n",
              "       1, 1, 0, 1, 0, 0, 1, 1, 0, 0, 1, 0, 1, 0, 1, 0, 0, 0, 0, 1, 1, 1,\n",
              "       1, 0, 0, 0, 1, 0, 1, 0, 1, 0, 0, 1, 1, 0, 1, 0, 1, 1, 1, 1, 0, 1,\n",
              "       1, 1, 1, 1, 0, 0, 0, 1, 1, 0, 1, 0, 1, 0, 0, 1, 1, 0, 1, 1, 1, 1,\n",
              "       0, 1, 1, 0, 0, 0, 0, 0, 0, 0, 1, 0, 1, 1, 1, 0, 1, 0, 1, 0, 1, 0,\n",
              "       1, 0, 0, 1, 0, 1, 1, 1, 1, 1, 1, 1, 0, 1, 0, 0, 0, 0, 0, 1, 0, 0,\n",
              "       0, 0, 1, 1, 0, 1, 0, 1, 1, 0, 0, 0, 1, 1, 1, 1, 1, 0, 0, 0, 0, 0,\n",
              "       1, 0, 0, 1, 1, 1, 1, 1, 0, 1, 0, 1, 0, 0, 1, 1, 1, 0, 1, 0, 1, 1,\n",
              "       0, 1, 1, 0, 1, 0, 1, 0, 1, 1, 0, 1, 0, 1, 0, 0, 0, 1, 0, 0, 0, 0,\n",
              "       1, 1, 0, 0, 0, 0, 0, 0, 0, 1, 1, 1, 0, 0, 1, 1, 1, 0, 1, 0, 0, 0,\n",
              "       0, 1, 1, 0, 1, 0, 0, 0, 1, 0, 1, 0, 0, 1, 0, 1, 1, 1, 0, 0, 0, 1,\n",
              "       0, 0, 0, 1, 1, 1, 1, 0, 0, 0, 1, 0, 0, 0, 1, 0, 0, 0, 1, 1, 0, 1,\n",
              "       1, 1, 1, 1, 1, 1, 0, 0, 0, 0, 1, 0, 0, 0, 0, 1, 1, 1, 0, 0, 1, 0,\n",
              "       1, 0, 1, 1, 0, 0, 1, 1, 1, 1, 0, 0, 0, 0, 0, 0, 1, 1, 0, 1, 0, 0,\n",
              "       1, 0, 0, 0, 0, 0, 0, 0, 0, 1, 0, 0, 0, 0, 1, 0, 0, 1, 0, 1, 0, 0,\n",
              "       0, 1, 0, 0, 1, 1, 0, 0, 1, 0, 0, 1, 1, 0, 1, 1, 0, 0, 1, 0, 1, 0,\n",
              "       0, 0, 1, 1, 0, 0, 1, 1, 1, 1, 1, 0, 0, 1, 1, 1, 1, 0, 1, 1, 1, 1,\n",
              "       1, 0, 0, 1, 0, 1, 0, 0, 0, 0, 1, 0, 0, 0, 0, 0, 0, 0, 0, 0, 1, 1,\n",
              "       0, 1, 1, 1, 1, 1, 1, 0, 1, 1, 1, 1, 0, 0, 0, 1, 1, 1, 0, 0, 0, 0,\n",
              "       1, 1, 0, 0, 0, 0, 1, 0, 0, 0, 1, 0, 0, 1, 1, 1, 1, 1, 1, 0, 0, 0,\n",
              "       1, 0, 0, 0, 0, 0, 1, 1, 1, 0, 0, 0, 0, 0, 1, 1, 1, 0, 0, 1, 1, 1,\n",
              "       1, 0, 1, 1, 0, 1, 0, 0, 0, 1, 0, 0, 1, 0, 0, 1, 1, 0, 0, 1, 1, 0,\n",
              "       1, 0, 1, 0, 1, 0, 1, 0, 0, 0, 1, 0, 0, 0, 0, 0, 0, 1, 1, 1, 1, 0,\n",
              "       0, 0, 1, 0, 1, 1, 0, 0, 0, 0, 0, 1, 1, 1, 0, 0, 1, 0, 0, 1, 0, 0,\n",
              "       1, 0, 0, 1, 0, 0, 0, 1, 0, 0, 1, 1, 1, 0, 1, 1, 0, 0, 0, 1, 1, 1,\n",
              "       1, 0, 0, 1, 1, 1, 0, 0, 0, 0, 1, 1, 0, 0, 1, 1, 0, 0, 1, 1, 1, 1,\n",
              "       1, 1, 1, 0, 1, 0, 1, 0, 0, 1, 0, 1, 1, 1, 1, 0, 0, 1, 1, 0, 0, 1,\n",
              "       0, 1, 0, 0, 0, 1, 0, 0, 1, 1, 1, 1, 0, 1, 1, 1, 1, 1, 1, 1, 0, 1,\n",
              "       0, 1, 1, 1, 0, 0, 1, 0, 0, 0, 1, 1, 1, 1, 0, 0, 0, 0, 1, 0, 1, 1,\n",
              "       1, 0, 1, 0, 0, 1, 0, 0, 1, 1, 1, 1, 1, 0, 1, 0, 0, 0, 1, 1, 1, 1,\n",
              "       1, 0, 0, 0, 1, 1, 1, 1, 0, 0, 0, 0, 0, 1, 1, 0, 1, 0, 1, 0, 0, 0,\n",
              "       0, 0, 0, 0, 0, 0, 1, 1, 1, 1, 1, 0, 1, 0, 1, 1, 1, 1, 0, 1, 1, 1,\n",
              "       1, 1, 1, 1, 1, 0, 1, 1, 0, 1, 0, 0, 0, 1, 0, 1, 1, 1, 0, 1, 1, 0,\n",
              "       1, 1, 0, 1, 0, 1, 1, 0, 0, 1, 1, 1, 0, 0, 0, 0, 1, 1, 0, 0, 1, 1,\n",
              "       1, 1, 1, 1, 1, 1, 1, 1, 1, 1, 1, 1, 0, 0, 1, 0, 1, 0, 1, 0, 1, 1,\n",
              "       1, 1, 1, 1, 0, 1, 0, 1, 1, 1, 0, 1, 1, 0, 0, 1, 0, 1, 1, 0, 0, 1,\n",
              "       1, 1, 1, 1, 1, 1, 1, 0, 1, 1, 1, 0, 1, 0, 0, 1, 1, 0, 0, 0, 1, 0,\n",
              "       0, 1, 0, 0, 0, 1, 0, 1, 0, 0, 0, 0, 1, 0, 1, 1, 1, 1, 0, 1, 0, 0,\n",
              "       0, 0, 0, 0, 1, 0, 1, 0, 1, 0, 1, 1, 1, 0, 1, 0, 1, 0, 0, 1, 1, 1,\n",
              "       0, 0, 0, 1, 1, 0, 1, 0, 1, 1, 0, 1, 0, 0, 1, 1, 1, 0, 0, 0, 1, 1,\n",
              "       0, 0, 0, 0, 0, 1, 1, 0, 1, 0, 0, 0, 1, 0, 0, 0, 1, 1, 1, 1, 0, 1,\n",
              "       1, 1, 0, 1, 1, 1, 1, 0, 1, 1, 0, 1, 1, 0, 0, 1, 1, 1, 0, 0, 0, 0,\n",
              "       0, 0, 1, 0, 0, 1, 0, 0, 0, 1, 0, 1, 0, 1, 1, 0, 0, 0, 0, 0, 0, 0,\n",
              "       0, 1, 0, 1, 0, 0, 0, 1, 0, 0])"
            ]
          },
          "metadata": {},
          "execution_count": 5
        }
      ]
    },
    {
      "cell_type": "code",
      "source": [
        "# Crinado um DF para os dados de circulos\n",
        "circles = pd.DataFrame({\"X1\" : X[:, 0],\n",
        "                       \"X2\" : X[:, 1],\n",
        "                       \"label\": y})\n",
        "\n",
        "circles.head(7)"
      ],
      "metadata": {
        "colab": {
          "base_uri": "https://localhost:8080/",
          "height": 269
        },
        "id": "sK7lKVKJGmMy",
        "outputId": "61264556-6b33-4526-e64b-16f1e5679de8"
      },
      "execution_count": 6,
      "outputs": [
        {
          "output_type": "execute_result",
          "data": {
            "text/plain": [
              "         X1        X2  label\n",
              "0  0.754246  0.231481      1\n",
              "1 -0.756159  0.153259      1\n",
              "2 -0.815392  0.173282      1\n",
              "3 -0.393731  0.692883      1\n",
              "4  0.442208 -0.896723      0\n",
              "5 -0.479646  0.676435      1\n",
              "6 -0.013648  0.803349      1"
            ],
            "text/html": [
              "\n",
              "  <div id=\"df-03e13507-6c78-4a1e-80fe-f6623b85177e\" class=\"colab-df-container\">\n",
              "    <div>\n",
              "<style scoped>\n",
              "    .dataframe tbody tr th:only-of-type {\n",
              "        vertical-align: middle;\n",
              "    }\n",
              "\n",
              "    .dataframe tbody tr th {\n",
              "        vertical-align: top;\n",
              "    }\n",
              "\n",
              "    .dataframe thead th {\n",
              "        text-align: right;\n",
              "    }\n",
              "</style>\n",
              "<table border=\"1\" class=\"dataframe\">\n",
              "  <thead>\n",
              "    <tr style=\"text-align: right;\">\n",
              "      <th></th>\n",
              "      <th>X1</th>\n",
              "      <th>X2</th>\n",
              "      <th>label</th>\n",
              "    </tr>\n",
              "  </thead>\n",
              "  <tbody>\n",
              "    <tr>\n",
              "      <th>0</th>\n",
              "      <td>0.754246</td>\n",
              "      <td>0.231481</td>\n",
              "      <td>1</td>\n",
              "    </tr>\n",
              "    <tr>\n",
              "      <th>1</th>\n",
              "      <td>-0.756159</td>\n",
              "      <td>0.153259</td>\n",
              "      <td>1</td>\n",
              "    </tr>\n",
              "    <tr>\n",
              "      <th>2</th>\n",
              "      <td>-0.815392</td>\n",
              "      <td>0.173282</td>\n",
              "      <td>1</td>\n",
              "    </tr>\n",
              "    <tr>\n",
              "      <th>3</th>\n",
              "      <td>-0.393731</td>\n",
              "      <td>0.692883</td>\n",
              "      <td>1</td>\n",
              "    </tr>\n",
              "    <tr>\n",
              "      <th>4</th>\n",
              "      <td>0.442208</td>\n",
              "      <td>-0.896723</td>\n",
              "      <td>0</td>\n",
              "    </tr>\n",
              "    <tr>\n",
              "      <th>5</th>\n",
              "      <td>-0.479646</td>\n",
              "      <td>0.676435</td>\n",
              "      <td>1</td>\n",
              "    </tr>\n",
              "    <tr>\n",
              "      <th>6</th>\n",
              "      <td>-0.013648</td>\n",
              "      <td>0.803349</td>\n",
              "      <td>1</td>\n",
              "    </tr>\n",
              "  </tbody>\n",
              "</table>\n",
              "</div>\n",
              "    <div class=\"colab-df-buttons\">\n",
              "\n",
              "  <div class=\"colab-df-container\">\n",
              "    <button class=\"colab-df-convert\" onclick=\"convertToInteractive('df-03e13507-6c78-4a1e-80fe-f6623b85177e')\"\n",
              "            title=\"Convert this dataframe to an interactive table.\"\n",
              "            style=\"display:none;\">\n",
              "\n",
              "  <svg xmlns=\"http://www.w3.org/2000/svg\" height=\"24px\" viewBox=\"0 -960 960 960\">\n",
              "    <path d=\"M120-120v-720h720v720H120Zm60-500h600v-160H180v160Zm220 220h160v-160H400v160Zm0 220h160v-160H400v160ZM180-400h160v-160H180v160Zm440 0h160v-160H620v160ZM180-180h160v-160H180v160Zm440 0h160v-160H620v160Z\"/>\n",
              "  </svg>\n",
              "    </button>\n",
              "\n",
              "  <style>\n",
              "    .colab-df-container {\n",
              "      display:flex;\n",
              "      gap: 12px;\n",
              "    }\n",
              "\n",
              "    .colab-df-convert {\n",
              "      background-color: #E8F0FE;\n",
              "      border: none;\n",
              "      border-radius: 50%;\n",
              "      cursor: pointer;\n",
              "      display: none;\n",
              "      fill: #1967D2;\n",
              "      height: 32px;\n",
              "      padding: 0 0 0 0;\n",
              "      width: 32px;\n",
              "    }\n",
              "\n",
              "    .colab-df-convert:hover {\n",
              "      background-color: #E2EBFA;\n",
              "      box-shadow: 0px 1px 2px rgba(60, 64, 67, 0.3), 0px 1px 3px 1px rgba(60, 64, 67, 0.15);\n",
              "      fill: #174EA6;\n",
              "    }\n",
              "\n",
              "    .colab-df-buttons div {\n",
              "      margin-bottom: 4px;\n",
              "    }\n",
              "\n",
              "    [theme=dark] .colab-df-convert {\n",
              "      background-color: #3B4455;\n",
              "      fill: #D2E3FC;\n",
              "    }\n",
              "\n",
              "    [theme=dark] .colab-df-convert:hover {\n",
              "      background-color: #434B5C;\n",
              "      box-shadow: 0px 1px 3px 1px rgba(0, 0, 0, 0.15);\n",
              "      filter: drop-shadow(0px 1px 2px rgba(0, 0, 0, 0.3));\n",
              "      fill: #FFFFFF;\n",
              "    }\n",
              "  </style>\n",
              "\n",
              "    <script>\n",
              "      const buttonEl =\n",
              "        document.querySelector('#df-03e13507-6c78-4a1e-80fe-f6623b85177e button.colab-df-convert');\n",
              "      buttonEl.style.display =\n",
              "        google.colab.kernel.accessAllowed ? 'block' : 'none';\n",
              "\n",
              "      async function convertToInteractive(key) {\n",
              "        const element = document.querySelector('#df-03e13507-6c78-4a1e-80fe-f6623b85177e');\n",
              "        const dataTable =\n",
              "          await google.colab.kernel.invokeFunction('convertToInteractive',\n",
              "                                                    [key], {});\n",
              "        if (!dataTable) return;\n",
              "\n",
              "        const docLinkHtml = 'Like what you see? Visit the ' +\n",
              "          '<a target=\"_blank\" href=https://colab.research.google.com/notebooks/data_table.ipynb>data table notebook</a>'\n",
              "          + ' to learn more about interactive tables.';\n",
              "        element.innerHTML = '';\n",
              "        dataTable['output_type'] = 'display_data';\n",
              "        await google.colab.output.renderOutput(dataTable, element);\n",
              "        const docLink = document.createElement('div');\n",
              "        docLink.innerHTML = docLinkHtml;\n",
              "        element.appendChild(docLink);\n",
              "      }\n",
              "    </script>\n",
              "  </div>\n",
              "\n",
              "\n",
              "<div id=\"df-6e84ad1d-7c9c-430c-9302-e8bb7e16157e\">\n",
              "  <button class=\"colab-df-quickchart\" onclick=\"quickchart('df-6e84ad1d-7c9c-430c-9302-e8bb7e16157e')\"\n",
              "            title=\"Suggest charts\"\n",
              "            style=\"display:none;\">\n",
              "\n",
              "<svg xmlns=\"http://www.w3.org/2000/svg\" height=\"24px\"viewBox=\"0 0 24 24\"\n",
              "     width=\"24px\">\n",
              "    <g>\n",
              "        <path d=\"M19 3H5c-1.1 0-2 .9-2 2v14c0 1.1.9 2 2 2h14c1.1 0 2-.9 2-2V5c0-1.1-.9-2-2-2zM9 17H7v-7h2v7zm4 0h-2V7h2v10zm4 0h-2v-4h2v4z\"/>\n",
              "    </g>\n",
              "</svg>\n",
              "  </button>\n",
              "\n",
              "<style>\n",
              "  .colab-df-quickchart {\n",
              "      --bg-color: #E8F0FE;\n",
              "      --fill-color: #1967D2;\n",
              "      --hover-bg-color: #E2EBFA;\n",
              "      --hover-fill-color: #174EA6;\n",
              "      --disabled-fill-color: #AAA;\n",
              "      --disabled-bg-color: #DDD;\n",
              "  }\n",
              "\n",
              "  [theme=dark] .colab-df-quickchart {\n",
              "      --bg-color: #3B4455;\n",
              "      --fill-color: #D2E3FC;\n",
              "      --hover-bg-color: #434B5C;\n",
              "      --hover-fill-color: #FFFFFF;\n",
              "      --disabled-bg-color: #3B4455;\n",
              "      --disabled-fill-color: #666;\n",
              "  }\n",
              "\n",
              "  .colab-df-quickchart {\n",
              "    background-color: var(--bg-color);\n",
              "    border: none;\n",
              "    border-radius: 50%;\n",
              "    cursor: pointer;\n",
              "    display: none;\n",
              "    fill: var(--fill-color);\n",
              "    height: 32px;\n",
              "    padding: 0;\n",
              "    width: 32px;\n",
              "  }\n",
              "\n",
              "  .colab-df-quickchart:hover {\n",
              "    background-color: var(--hover-bg-color);\n",
              "    box-shadow: 0 1px 2px rgba(60, 64, 67, 0.3), 0 1px 3px 1px rgba(60, 64, 67, 0.15);\n",
              "    fill: var(--button-hover-fill-color);\n",
              "  }\n",
              "\n",
              "  .colab-df-quickchart-complete:disabled,\n",
              "  .colab-df-quickchart-complete:disabled:hover {\n",
              "    background-color: var(--disabled-bg-color);\n",
              "    fill: var(--disabled-fill-color);\n",
              "    box-shadow: none;\n",
              "  }\n",
              "\n",
              "  .colab-df-spinner {\n",
              "    border: 2px solid var(--fill-color);\n",
              "    border-color: transparent;\n",
              "    border-bottom-color: var(--fill-color);\n",
              "    animation:\n",
              "      spin 1s steps(1) infinite;\n",
              "  }\n",
              "\n",
              "  @keyframes spin {\n",
              "    0% {\n",
              "      border-color: transparent;\n",
              "      border-bottom-color: var(--fill-color);\n",
              "      border-left-color: var(--fill-color);\n",
              "    }\n",
              "    20% {\n",
              "      border-color: transparent;\n",
              "      border-left-color: var(--fill-color);\n",
              "      border-top-color: var(--fill-color);\n",
              "    }\n",
              "    30% {\n",
              "      border-color: transparent;\n",
              "      border-left-color: var(--fill-color);\n",
              "      border-top-color: var(--fill-color);\n",
              "      border-right-color: var(--fill-color);\n",
              "    }\n",
              "    40% {\n",
              "      border-color: transparent;\n",
              "      border-right-color: var(--fill-color);\n",
              "      border-top-color: var(--fill-color);\n",
              "    }\n",
              "    60% {\n",
              "      border-color: transparent;\n",
              "      border-right-color: var(--fill-color);\n",
              "    }\n",
              "    80% {\n",
              "      border-color: transparent;\n",
              "      border-right-color: var(--fill-color);\n",
              "      border-bottom-color: var(--fill-color);\n",
              "    }\n",
              "    90% {\n",
              "      border-color: transparent;\n",
              "      border-bottom-color: var(--fill-color);\n",
              "    }\n",
              "  }\n",
              "</style>\n",
              "\n",
              "  <script>\n",
              "    async function quickchart(key) {\n",
              "      const quickchartButtonEl =\n",
              "        document.querySelector('#' + key + ' button');\n",
              "      quickchartButtonEl.disabled = true;  // To prevent multiple clicks.\n",
              "      quickchartButtonEl.classList.add('colab-df-spinner');\n",
              "      try {\n",
              "        const charts = await google.colab.kernel.invokeFunction(\n",
              "            'suggestCharts', [key], {});\n",
              "      } catch (error) {\n",
              "        console.error('Error during call to suggestCharts:', error);\n",
              "      }\n",
              "      quickchartButtonEl.classList.remove('colab-df-spinner');\n",
              "      quickchartButtonEl.classList.add('colab-df-quickchart-complete');\n",
              "    }\n",
              "    (() => {\n",
              "      let quickchartButtonEl =\n",
              "        document.querySelector('#df-6e84ad1d-7c9c-430c-9302-e8bb7e16157e button');\n",
              "      quickchartButtonEl.style.display =\n",
              "        google.colab.kernel.accessAllowed ? 'block' : 'none';\n",
              "    })();\n",
              "  </script>\n",
              "</div>\n",
              "\n",
              "    </div>\n",
              "  </div>\n"
            ],
            "application/vnd.google.colaboratory.intrinsic+json": {
              "type": "dataframe",
              "variable_name": "circles",
              "summary": "{\n  \"name\": \"circles\",\n  \"rows\": 1000,\n  \"fields\": [\n    {\n      \"column\": \"X1\",\n      \"properties\": {\n        \"dtype\": \"number\",\n        \"std\": 0.6398365674574613,\n        \"min\": -1.0595024599098635,\n        \"max\": 1.0337117525463373,\n        \"num_unique_values\": 1000,\n        \"samples\": [\n          -0.3751930206933384,\n          0.015380346701456493,\n          -0.7027835978832848\n        ],\n        \"semantic_type\": \"\",\n        \"description\": \"\"\n      }\n    },\n    {\n      \"column\": \"X2\",\n      \"properties\": {\n        \"dtype\": \"number\",\n        \"std\": 0.6411559581015384,\n        \"min\": -1.0677683182718436,\n        \"max\": 1.0360036756154805,\n        \"num_unique_values\": 1000,\n        \"samples\": [\n          0.6826597225888621,\n          0.9600260220697324,\n          -0.3147169925147762\n        ],\n        \"semantic_type\": \"\",\n        \"description\": \"\"\n      }\n    },\n    {\n      \"column\": \"label\",\n      \"properties\": {\n        \"dtype\": \"number\",\n        \"std\": 0,\n        \"min\": 0,\n        \"max\": 1,\n        \"num_unique_values\": 2,\n        \"samples\": [\n          0,\n          1\n        ],\n        \"semantic_type\": \"\",\n        \"description\": \"\"\n      }\n    }\n  ]\n}"
            }
          },
          "metadata": {},
          "execution_count": 6
        }
      ]
    },
    {
      "cell_type": "code",
      "source": [
        "plt.scatter(x=X[:,0],\n",
        "            y=X[:,1],\n",
        "            c=y,\n",
        "            cmap=plt.cm.RdYlBu);"
      ],
      "metadata": {
        "colab": {
          "base_uri": "https://localhost:8080/",
          "height": 430
        },
        "id": "jWOapHeqHdfC",
        "outputId": "9eb1cf51-03dd-4f40-8bd4-e854a7f7b2c1"
      },
      "execution_count": 7,
      "outputs": [
        {
          "output_type": "display_data",
          "data": {
            "text/plain": [
              "<Figure size 640x480 with 1 Axes>"
            ],
            "image/png": "[encoded data removed]"
          },
          "metadata": {}
        }
      ]
    },
    {
      "cell_type": "markdown",
      "source": [
        "#Nota: Os dados que estao sendo usados, sao referidos como \"Toy dataset\", que remete a dataset de brinquedo, devido ao fato de ele  ser pequeno o suficiente para experimentar e ainda ser de um tamanho razoavel para praticar os fundamentos"
      ],
      "metadata": {
        "id": "XP79-21PIftS"
      }
    },
    {
      "cell_type": "markdown",
      "source": [
        "### Checando o formato dos dados de entrada e saida"
      ],
      "metadata": {
        "id": "ZQl6qwGUM2NO"
      }
    },
    {
      "cell_type": "code",
      "source": [
        "X.shape, y.shape"
      ],
      "metadata": {
        "colab": {
          "base_uri": "https://localhost:8080/"
        },
        "id": "F0dekEt7IKAQ",
        "outputId": "c16335f8-b876-4218-f714-26116e77543a"
      },
      "execution_count": 8,
      "outputs": [
        {
          "output_type": "execute_result",
          "data": {
            "text/plain": [
              "((1000, 2), (1000,))"
            ]
          },
          "metadata": {},
          "execution_count": 8
        }
      ]
    },
    {
      "cell_type": "code",
      "source": [
        "X"
      ],
      "metadata": {
        "colab": {
          "base_uri": "https://localhost:8080/"
        },
        "id": "1NDOLgAlM4y3",
        "outputId": "aa1e28f1-6862-441b-989f-7e22bcc6eb40"
      },
      "execution_count": 9,
      "outputs": [
        {
          "output_type": "execute_result",
          "data": {
            "text/plain": [
              "array([[ 0.75424625,  0.23148074],\n",
              "       [-0.75615888,  0.15325888],\n",
              "       [-0.81539193,  0.17328203],\n",
              "       ...,\n",
              "       [-0.13690036, -0.81001183],\n",
              "       [ 0.67036156, -0.76750154],\n",
              "       [ 0.28105665,  0.96382443]])"
            ]
          },
          "metadata": {},
          "execution_count": 9
        }
      ]
    },
    {
      "cell_type": "code",
      "source": [
        "# Vizualizando o primeiro valor das features e labels\n",
        "X_sample = X[0]\n",
        "y_sample = y[0]\n",
        "\n",
        "print(f\"Valor da 1 amostra de X: {X_sample} e valor da primeira amostra para y: {y_sample}\")\n",
        "print(f\"Formato da 1 amostra de X: {X_sample.shape} e Formato da primeira amostra para y: {y_sample.shape}\")"
      ],
      "metadata": {
        "colab": {
          "base_uri": "https://localhost:8080/"
        },
        "id": "dCZo8K0QNFiE",
        "outputId": "b5420e0c-6a91-42a7-d407-f197838b3eb7"
      },
      "execution_count": 10,
      "outputs": [
        {
          "output_type": "stream",
          "name": "stdout",
          "text": [
            "Valor da 1 amostra de X: [0.75424625 0.23148074] e valor da primeira amostra para y: 1\n",
            "Formato da 1 amostra de X: (2,) e Formato da primeira amostra para y: ()\n"
          ]
        }
      ]
    },
    {
      "cell_type": "code",
      "source": [
        "type(X), X.dtype"
      ],
      "metadata": {
        "colab": {
          "base_uri": "https://localhost:8080/"
        },
        "id": "0g38RDPxN_q7",
        "outputId": "11886c38-caaf-4950-e519-de942129f1a4"
      },
      "execution_count": 11,
      "outputs": [
        {
          "output_type": "execute_result",
          "data": {
            "text/plain": [
              "(numpy.ndarray, dtype('float64'))"
            ]
          },
          "metadata": {},
          "execution_count": 11
        }
      ]
    },
    {
      "cell_type": "code",
      "source": [
        "#Transformando em Tensor\n",
        "X = torch.from_numpy(X).type(torch.float) #.type(torch.float) pq apesar de tranformar em tensor com o \".from_numpy\" eles estariam em tensor64, e queremos o default float32\n",
        "y = torch.from_numpy(y).type(torch.float)\n",
        "\n",
        "X[:5], y[:5]"
      ],
      "metadata": {
        "colab": {
          "base_uri": "https://localhost:8080/"
        },
        "id": "uhK42W7pQjGN",
        "outputId": "0fb85a4c-f490-40d1-ec86-7312336d25ef"
      },
      "execution_count": 12,
      "outputs": [
        {
          "output_type": "execute_result",
          "data": {
            "text/plain": [
              "(tensor([[ 0.7542,  0.2315],\n",
              "         [-0.7562,  0.1533],\n",
              "         [-0.8154,  0.1733],\n",
              "         [-0.3937,  0.6929],\n",
              "         [ 0.4422, -0.8967]]),\n",
              " tensor([1., 1., 1., 1., 0.]))"
            ]
          },
          "metadata": {},
          "execution_count": 12
        }
      ]
    },
    {
      "cell_type": "code",
      "source": [
        "type(X), X.dtype, y.dtype"
      ],
      "metadata": {
        "colab": {
          "base_uri": "https://localhost:8080/"
        },
        "id": "T_NC4EwwRSXB",
        "outputId": "6b7df03b-c0df-4b89-a3b1-c17581859621"
      },
      "execution_count": 13,
      "outputs": [
        {
          "output_type": "execute_result",
          "data": {
            "text/plain": [
              "(torch.Tensor, torch.float32, torch.float32)"
            ]
          },
          "metadata": {},
          "execution_count": 13
        }
      ]
    },
    {
      "cell_type": "code",
      "source": [
        "# Ate 7:30\n",
        "X_train, X_test, y_train, y_test = train_test_split(X,\n",
        "                                                    y,\n",
        "                                                    test_size=0.2,\n",
        "                                                    random_state=42)"
      ],
      "metadata": {
        "id": "3zQblFoGRhl9"
      },
      "execution_count": 14,
      "outputs": []
    },
    {
      "cell_type": "code",
      "source": [
        "len(X_train), len(X_test), len(y_train), len(y_test), n_samples"
      ],
      "metadata": {
        "colab": {
          "base_uri": "https://localhost:8080/"
        },
        "id": "0aRKkCIxA_xf",
        "outputId": "042579b0-239e-470f-b7cf-6f1fd2ff01ad"
      },
      "execution_count": 15,
      "outputs": [
        {
          "output_type": "execute_result",
          "data": {
            "text/plain": [
              "(800, 200, 800, 200, 1000)"
            ]
          },
          "metadata": {},
          "execution_count": 15
        }
      ]
    },
    {
      "cell_type": "markdown",
      "source": [
        "## 2. Construir modelo\n",
        "\n",
        "Modelo de classificacao para os pontos vermelhor e azuis.\n",
        "\n",
        "Para isso:\n",
        "\n",
        "1. Fazer um diagnostico de dispositivo para verificar se tem gpu habilitada\n",
        "2.  Construir o modelo ussando a subclasse nn.Module\n",
        "3. Define a loss function and a optimizer\n",
        "4. Create a training and test loop"
      ],
      "metadata": {
        "id": "ESG8qlbID6SF"
      }
    },
    {
      "cell_type": "code",
      "source": [
        "# 1. Diagnostico de GPU\n",
        "device = 'cuda' if torch.cuda.is_available() else 'cpu'\n",
        "device"
      ],
      "metadata": {
        "colab": {
          "base_uri": "https://localhost:8080/",
          "height": 36
        },
        "id": "pARbaaYDCtZK",
        "outputId": "0cbf6642-bb23-4f3a-e5b2-ea9f1fee5fe4"
      },
      "execution_count": 16,
      "outputs": [
        {
          "output_type": "execute_result",
          "data": {
            "text/plain": [
              "'cpu'"
            ],
            "application/vnd.google.colaboratory.intrinsic+json": {
              "type": "string"
            }
          },
          "metadata": {},
          "execution_count": 16
        }
      ]
    },
    {
      "cell_type": "code",
      "source": [
        "X_train"
      ],
      "metadata": {
        "colab": {
          "base_uri": "https://localhost:8080/"
        },
        "id": "6rsrII5qFsPP",
        "outputId": "27f9ed5e-ae39-406d-d9dd-32e3864e501c"
      },
      "execution_count": 17,
      "outputs": [
        {
          "output_type": "execute_result",
          "data": {
            "text/plain": [
              "tensor([[ 0.6579, -0.4651],\n",
              "        [ 0.6319, -0.7347],\n",
              "        [-1.0086, -0.1240],\n",
              "        ...,\n",
              "        [ 0.0157, -1.0300],\n",
              "        [ 1.0110,  0.1680],\n",
              "        [ 0.5578, -0.5709]])"
            ]
          },
          "metadata": {},
          "execution_count": 17
        }
      ]
    },
    {
      "cell_type": "markdown",
      "source": [
        "Para criar o modelo,\n",
        "\n",
        "1. Subclasse nn.Module(quase todos os modulos Pytorch estao nela, nn.Module)\n",
        "2. Criar 2 camads `nn.Linear()` capazes de lidar com o formato dos nossos dados\n",
        "3. Definir um metodo `forward()` que passa os dados pelo modelo (computacao para frente)\n",
        "4. Isntanciar uma instancia do modelo criado e mandar para o dispositivo desejado\n"
      ],
      "metadata": {
        "id": "_ZKxMaB0GaEt"
      }
    },
    {
      "cell_type": "code",
      "source": [
        "# 1. Construir um modelo que seja subclasse de nn.Module\n",
        "class CircleModelV0(nn.Module):\n",
        "  def __init__(self):\n",
        "    super().__init__()\n",
        "    # 2. Cirnado as duas camadas nn.linear capazes de lidar com o nosso formato de dados\n",
        "    self.layer_1 = nn.Linear(in_features=2, out_features=5) #Recebe 2 features e uperscale para 5 features, para a rede ter mais valores aonde acahr padrao\n",
        "    self.layer_2 = nn.Linear(in_features=5, out_features=1) # recebe as 5 que sairam da camada anterior e trasforma no aotput da rede\n",
        "\n",
        "  # 3. Definindo o metodo forward() que passara os dados pra frente\n",
        "  def forward(self, x):\n",
        "    return self.layer_2(self.layer_1(x)) # x -> layer-1 -> layer_2 -> output\n",
        "\n",
        "# 4. Instanciando a instancia do modelo e mandando para o dspositivo \"querido\"\n",
        "model_0 = CircleModelV0().to(device)"
      ],
      "metadata": {
        "id": "VSZ-NC6xFvm7"
      },
      "execution_count": 18,
      "outputs": []
    },
    {
      "cell_type": "code",
      "source": [
        "model_0"
      ],
      "metadata": {
        "colab": {
          "base_uri": "https://localhost:8080/"
        },
        "id": "ZUgMy7ttLBVF",
        "outputId": "d9eded4d-3231-47f0-fd39-28065ea8a6f7"
      },
      "execution_count": 19,
      "outputs": [
        {
          "output_type": "execute_result",
          "data": {
            "text/plain": [
              "CircleModelV0(\n",
              "  (layer_1): Linear(in_features=2, out_features=5, bias=True)\n",
              "  (layer_2): Linear(in_features=5, out_features=1, bias=True)\n",
              ")"
            ]
          },
          "metadata": {},
          "execution_count": 19
        }
      ]
    },
    {
      "cell_type": "code",
      "source": [
        "device"
      ],
      "metadata": {
        "colab": {
          "base_uri": "https://localhost:8080/",
          "height": 36
        },
        "id": "v5C_hCmJXMUG",
        "outputId": "bdb41339-c179-4784-dc33-6778c622fbef"
      },
      "execution_count": 20,
      "outputs": [
        {
          "output_type": "execute_result",
          "data": {
            "text/plain": [
              "'cpu'"
            ],
            "application/vnd.google.colaboratory.intrinsic+json": {
              "type": "string"
            }
          },
          "metadata": {},
          "execution_count": 20
        }
      ]
    },
    {
      "cell_type": "code",
      "source": [
        "next(model_0.parameters()).device"
      ],
      "metadata": {
        "colab": {
          "base_uri": "https://localhost:8080/"
        },
        "id": "zoflSRxzXPf9",
        "outputId": "131fc413-3ff8-4aee-fe49-6fe59714181f"
      },
      "execution_count": 21,
      "outputs": [
        {
          "output_type": "execute_result",
          "data": {
            "text/plain": [
              "device(type='cpu')"
            ]
          },
          "metadata": {},
          "execution_count": 21
        }
      ]
    },
    {
      "cell_type": "code",
      "source": [
        "#Replicando o modelo_0 usando nn.Sequentia()\n",
        "model_0 = nn.Sequential(\n",
        "    nn.Linear(in_features=2, out_features=5),\n",
        "    nn.Linear(in_features=5, out_features=1)\n",
        ").to(device)\n",
        "\n",
        "model_0"
      ],
      "metadata": {
        "id": "EKYmxFcTXXbu",
        "colab": {
          "base_uri": "https://localhost:8080/"
        },
        "outputId": "31c93faa-2afc-41eb-ed01-227dddfe91f7"
      },
      "execution_count": 22,
      "outputs": [
        {
          "output_type": "execute_result",
          "data": {
            "text/plain": [
              "Sequential(\n",
              "  (0): Linear(in_features=2, out_features=5, bias=True)\n",
              "  (1): Linear(in_features=5, out_features=1, bias=True)\n",
              ")"
            ]
          },
          "metadata": {},
          "execution_count": 22
        }
      ]
    },
    {
      "cell_type": "code",
      "source": [
        "#So usou de exemplo e escluiu, vou deixar p saber que da p usar a nn.Squencial dentro da classe\n",
        "# e q nn.sequencial eh um jeito maissimples de fazer, quando passa de uma camada p outra\n",
        "# 1. Construir um modelo que seja subclasse de nn.Module\n",
        "class CircleModelV0(nn.Module):\n",
        "  def __init__(self):\n",
        "    super().__init__()\n",
        "    # 2. Cirnado as duas camadas nn.linear capazes de lidar com o nosso formato de dados\n",
        "    #self.layer_1 = nn.Linear(in_features=2, out_features=5) #Recebe 2 features e uperscale para 5 features, para a rede ter mais valores aonde acahr padrao\n",
        "    #self.layer_2 = nn.Linear(in_features=5, out_features=1) # recebe as 5 que sairam da camada anterior e trasforma no aotput da rede\n",
        "    self.two_linear_layers = nn.Sequential(\n",
        "        nn.Linear(in_features=2, out_features=5),\n",
        "        nn.Linear(in_features=5, out_features=1)\n",
        "    )\n",
        "  # 3. Definindo o metodo forward() que passara os dados pra frente\n",
        "  def forward(self, x):\n",
        "    #return self.layer_2(self.layer_1(x)) # x -> layer-1 -> layer_2 -> output\n",
        "    return two_linear_layers\n",
        "# 4. Instanciando a instancia do modelo e mandando para o dspositivo \"querido\"\n",
        "model_0_ex = CircleModelV0().to(device)\n",
        "model_0_ex"
      ],
      "metadata": {
        "colab": {
          "base_uri": "https://localhost:8080/"
        },
        "id": "lPSn4WVj_SjO",
        "outputId": "44a5ad07-1ae9-47c3-9483-0f5fa2aa81b3"
      },
      "execution_count": 23,
      "outputs": [
        {
          "output_type": "execute_result",
          "data": {
            "text/plain": [
              "CircleModelV0(\n",
              "  (two_linear_layers): Sequential(\n",
              "    (0): Linear(in_features=2, out_features=5, bias=True)\n",
              "    (1): Linear(in_features=5, out_features=1, bias=True)\n",
              "  )\n",
              ")"
            ]
          },
          "metadata": {},
          "execution_count": 23
        }
      ]
    },
    {
      "cell_type": "code",
      "source": [
        "model_0.state_dict()"
      ],
      "metadata": {
        "colab": {
          "base_uri": "https://localhost:8080/"
        },
        "id": "N5HlJ6-aAPpX",
        "outputId": "935e8aa5-54bd-4d1a-ef14-8d0694d5b96d"
      },
      "execution_count": 24,
      "outputs": [
        {
          "output_type": "execute_result",
          "data": {
            "text/plain": [
              "OrderedDict([('0.weight',\n",
              "              tensor([[-0.4910, -0.0601],\n",
              "                      [ 0.1322,  0.2918],\n",
              "                      [ 0.6761,  0.1171],\n",
              "                      [ 0.1702,  0.0899],\n",
              "                      [ 0.4562,  0.4783]])),\n",
              "             ('0.bias', tensor([-0.0959,  0.0480,  0.1297, -0.6823,  0.6434])),\n",
              "             ('1.weight',\n",
              "              tensor([[ 0.3422, -0.0814, -0.2199,  0.2953,  0.1113]])),\n",
              "             ('1.bias', tensor([0.4236]))])"
            ]
          },
          "metadata": {},
          "execution_count": 24
        }
      ]
    },
    {
      "cell_type": "code",
      "source": [
        "#Fazendo predicoes\n",
        "with torch.inference_mode():\n",
        "  semtreino = model_0(X_test.to(device))\n",
        "print(f\"Comprimento das predicoes: {len(semtreino)}, shape: {semtreino.shape}\")\n",
        "print(f\"Comprimento da amostra de Teste: {len(X_test)}, shape: {X_test.shape}\")\n",
        "#print(f\"\\n10 Primeiras predicoes:\\n{semtreino[:10]}\")\n",
        "print(f\"\\n10 Primeiras predicoes:\\n{torch.round(semtreino[:10])}\")\n",
        "\n",
        "print(f\"\\n10 Lables:\\n{y_test[:10]}\")"
      ],
      "metadata": {
        "colab": {
          "base_uri": "https://localhost:8080/"
        },
        "id": "yTQGWRP3AvzE",
        "outputId": "bc8d823a-1dd7-4e55-bd3d-9e64f1556195"
      },
      "execution_count": 25,
      "outputs": [
        {
          "output_type": "stream",
          "name": "stdout",
          "text": [
            "Comprimento das predicoes: 200, shape: torch.Size([200, 1])\n",
            "Comprimento da amostra de Teste: 200, shape: torch.Size([200, 2])\n",
            "\n",
            "10 Primeiras predicoes:\n",
            "tensor([[0.],\n",
            "        [0.],\n",
            "        [0.],\n",
            "        [0.],\n",
            "        [0.],\n",
            "        [0.],\n",
            "        [0.],\n",
            "        [0.],\n",
            "        [0.],\n",
            "        [0.]])\n",
            "\n",
            "10 Lables:\n",
            "tensor([1., 0., 1., 0., 1., 1., 0., 0., 1., 0.])\n"
          ]
        }
      ]
    },
    {
      "cell_type": "code",
      "source": [
        "X_test[:10], y_test[:10]"
      ],
      "metadata": {
        "id": "49-O5xaVTHsM",
        "colab": {
          "base_uri": "https://localhost:8080/"
        },
        "outputId": "8f36231a-1b26-434a-b75e-4a222677fc9c"
      },
      "execution_count": 26,
      "outputs": [
        {
          "output_type": "execute_result",
          "data": {
            "text/plain": [
              "(tensor([[-0.3752,  0.6827],\n",
              "         [ 0.0154,  0.9600],\n",
              "         [-0.7028, -0.3147],\n",
              "         [-0.2853,  0.9664],\n",
              "         [ 0.4024, -0.7438],\n",
              "         [ 0.6323, -0.5711],\n",
              "         [ 0.8561,  0.5499],\n",
              "         [ 1.0034,  0.1903],\n",
              "         [-0.7489, -0.2951],\n",
              "         [ 0.0538,  0.9739]]),\n",
              " tensor([1., 0., 1., 0., 1., 1., 0., 0., 1., 0.]))"
            ]
          },
          "metadata": {},
          "execution_count": 26
        }
      ]
    },
    {
      "cell_type": "markdown",
      "source": [
        "## Cirando o funcao de loss e otimizador\n",
        "\n",
        "QUal funcao loss e otimizador escolher? Depende do problema\n",
        "\n",
        "Por ex: PAra Regressao, pode ser MAE ou MSE (mean absolute error ou mean squared error)\n",
        "\n",
        "Para classificacao pode ser: Binary cross entropy ou categorical cross entropy(cros entropy)\n",
        "\n",
        "Binary cross entropy - https://towardsdatascience.com/understanding-binary-cross-entropy-log-loss-a-visual-explanation-a3ac6025181a\n",
        "\n",
        "Relembrando que a funcao de loss, mede o quao errado a predicao do modelo esta.\n",
        "\n",
        "Para otimizadores, alem de varias outras que o pytorch tem pre-prontas, as duas mais comum sao SGD e Adam\n"
      ],
      "metadata": {
        "id": "_Ph9mVsrdojV"
      }
    },
    {
      "cell_type": "code",
      "source": [
        "# Criando a loss function\n",
        "# loss_fn= nn.BCELoss = Requer que as entradas tenham passado pela função de ativação sigmoid antes de serem passadas para a BCELoss\n",
        "loss_fn = nn.BCEWithLogitsLoss() #BCEWithLogitsLoss = sigmoid activation function bult-in\n",
        "\n",
        "optimizer = torch.optim.SGD(params=model_0.parameters(),\n",
        "                            lr= 0.1)"
      ],
      "metadata": {
        "id": "sMu1NRQKdUQp"
      },
      "execution_count": 27,
      "outputs": []
    },
    {
      "cell_type": "code",
      "source": [
        "# Calculando a precissao\n",
        "#Precisao eh True Positive / (True Positive + True Negative) * 100"
      ],
      "metadata": {
        "id": "9exxmvDOhXGV"
      },
      "execution_count": 28,
      "outputs": []
    },
    {
      "cell_type": "code",
      "source": [
        "def accuracy_fn(y_true, y_pred):\n",
        "  correct = torch.eq(y_true, y_pred).sum().item() # Converte o tensor com esse único valor em um escalar Python\n",
        "  acc = (correct/len(y_pred)) * 100\n",
        "  return acc"
      ],
      "metadata": {
        "id": "0OaeSLCtiQNa"
      },
      "execution_count": 29,
      "outputs": []
    },
    {
      "cell_type": "markdown",
      "source": [
        "## 3 Train model\n",
        "\n",
        "Para treinar o modelo, precisamos criar o loop de treino com os seguintes passos:\n",
        "\n",
        "1. Forward passs\n",
        "2. Calculate de loss\n",
        "3. Optimizer zero grad\n",
        "4. Loss backward (Backpropagation)\n",
        "5. Optimizer step(gradinet descent)\n"
      ],
      "metadata": {
        "id": "em7x5W9NosZ7"
      }
    },
    {
      "cell_type": "markdown",
      "source": [
        "### 3.1 Going from raw logist -> prediction probabilitis -> prediction lables\n",
        "\n",
        "(Das saidas cruas(randomicas) -> para a as probabilidades de predcoes (onde o valor de porbabilidde ira indicar a probabilidade da saida ser determinada classe) -> Para Predicoes das classes(usando o valor gerado das probabilidades para determinar a classe)\n",
        "\n",
        "As saidas do Model_0 sera as \"raw logits\"\n",
        "\n",
        "Nos podemos converter os **logits** nas **probabilidades de predicoes**  passando eles por uma funcao de ativacao(ex Sigmoid para classificacao binaria e Softmax para classificacao multiclasse).\n",
        "\n",
        "Entao podemos converter as probalibilidade de predicao do nosso modelo nas **labels preditas**, ou aredondando eles ou passando por `argmax()`."
      ],
      "metadata": {
        "id": "SDgxh-61pJCE"
      }
    },
    {
      "cell_type": "code",
      "source": [
        "# Vendo as 5 primeiras saidas do forward pass nos dados de teste\n",
        "model_0.eval()\n",
        "with torch.inference_mode():\n",
        "  y_logits = model_0(X_test.to(device))[:5]\n",
        "y_logits"
      ],
      "metadata": {
        "colab": {
          "base_uri": "https://localhost:8080/"
        },
        "id": "LAIbBcUnjs6b",
        "outputId": "740cb7a5-282d-4a10-b824-92480dd950de"
      },
      "execution_count": 30,
      "outputs": [
        {
          "output_type": "execute_result",
          "data": {
            "text/plain": [
              "tensor([[0.3201],\n",
              "        [0.2343],\n",
              "        [0.3846],\n",
              "        [0.3025],\n",
              "        [0.1302]])"
            ]
          },
          "metadata": {},
          "execution_count": 30
        }
      ]
    },
    {
      "cell_type": "code",
      "source": [
        "y_test[:5]"
      ],
      "metadata": {
        "colab": {
          "base_uri": "https://localhost:8080/"
        },
        "id": "YraGIFeKrtpr",
        "outputId": "23d79a85-c9b2-40dd-eac5-101b2daeedf4"
      },
      "execution_count": 31,
      "outputs": [
        {
          "output_type": "execute_result",
          "data": {
            "text/plain": [
              "tensor([1., 0., 1., 0., 1.])"
            ]
          },
          "metadata": {},
          "execution_count": 31
        }
      ]
    },
    {
      "cell_type": "code",
      "source": [
        "# Usando a funcao de ativaocao Sigmoid nos \"logits\" do modelo para tranfomalos em Probabilidade de Predicoes\n",
        "y_pred_probs = torch.sigmoid(y_logits)\n",
        "y_pred_probs"
      ],
      "metadata": {
        "colab": {
          "base_uri": "https://localhost:8080/"
        },
        "id": "wEf2-kjHru1O",
        "outputId": "5048b6b6-ee29-4b1c-937e-febe43a2e91f"
      },
      "execution_count": 32,
      "outputs": [
        {
          "output_type": "execute_result",
          "data": {
            "text/plain": [
              "tensor([[0.5793],\n",
              "        [0.5583],\n",
              "        [0.5950],\n",
              "        [0.5750],\n",
              "        [0.5325]])"
            ]
          },
          "metadata": {},
          "execution_count": 32
        }
      ]
    },
    {
      "cell_type": "markdown",
      "source": [
        "Para nossos valores de Porbabilidade de Predicoes, precisamos performar uma especie de intervalo para arrendoar os numeros para classes.\n",
        "\n",
        "EX\n",
        "* y_pred_probs >= 0.5, y=1 (classe 1)\n",
        "* y_pred_probs < 0.5, y=0 (classe 0)"
      ],
      "metadata": {
        "id": "_Tsul0MYsRuj"
      }
    },
    {
      "cell_type": "code",
      "source": [
        "torch.round(y_pred_probs)"
      ],
      "metadata": {
        "colab": {
          "base_uri": "https://localhost:8080/"
        },
        "id": "HQyXpEGnsF5h",
        "outputId": "85df11fe-4867-4bc9-8446-2f06d4ba1014"
      },
      "execution_count": 33,
      "outputs": [
        {
          "output_type": "execute_result",
          "data": {
            "text/plain": [
              "tensor([[1.],\n",
              "        [1.],\n",
              "        [1.],\n",
              "        [1.],\n",
              "        [1.]])"
            ]
          },
          "metadata": {},
          "execution_count": 33
        }
      ]
    },
    {
      "cell_type": "code",
      "source": [
        "# Achando o Labels de predicao\n",
        "y_preds = torch.round(y_pred_probs)\n",
        "\n",
        "# Toda opercao, de novo, p comparar os resultyados\n",
        "y_pred_labels = torch.round(torch.sigmoid(model_0(X_test.to(device))[:5]))\n",
        "\n",
        "#Checando a igualdade das saidas\n",
        "print(torch.eq(y_preds.squeeze(), y_pred_labels.squeeze()))\n",
        "\n",
        "#Tirando a dimensao extra\n",
        "y_preds.squeeze()"
      ],
      "metadata": {
        "colab": {
          "base_uri": "https://localhost:8080/"
        },
        "id": "vgtfLM1esRc5",
        "outputId": "c10cabf5-4928-4eaf-c5dc-14c11633e75f"
      },
      "execution_count": 34,
      "outputs": [
        {
          "output_type": "stream",
          "name": "stdout",
          "text": [
            "tensor([True, True, True, True, True])\n"
          ]
        },
        {
          "output_type": "execute_result",
          "data": {
            "text/plain": [
              "tensor([1., 1., 1., 1., 1.])"
            ]
          },
          "metadata": {},
          "execution_count": 34
        }
      ]
    },
    {
      "cell_type": "code",
      "source": [
        "y_test[:5]"
      ],
      "metadata": {
        "colab": {
          "base_uri": "https://localhost:8080/"
        },
        "id": "bxy_mWVfsPm1",
        "outputId": "4449b46d-7cce-4427-ac92-db5a9efb8c6c"
      },
      "execution_count": 35,
      "outputs": [
        {
          "output_type": "execute_result",
          "data": {
            "text/plain": [
              "tensor([1., 0., 1., 0., 1.])"
            ]
          },
          "metadata": {},
          "execution_count": 35
        }
      ]
    },
    {
      "cell_type": "markdown",
      "source": [
        "## Criando o loop de teste e treino"
      ],
      "metadata": {
        "id": "s-N_pB02NhDN"
      }
    },
    {
      "cell_type": "code",
      "source": [
        "torch.manual_seed(42)\n",
        "#torch.cuda.manual_seed(42)\n",
        "\n",
        "# Definindo o numero de \"epochs\"\n",
        "epochs = 1000\n",
        "\n",
        "# Colocando os dados no dispositivo que esta sendo usado\n",
        "X_train, y_train = X_train.to(device), y_train.to(device)\n",
        "X_test, y_test = X_test.to(device), y_test.to(device)\n",
        "\n",
        "#Contruindo o loop de treino e \"eval\"\n",
        "for epoch in range(epochs):\n",
        "\n",
        "  #treino\n",
        "  model_0.train()\n",
        "\n",
        "  # 1. forward pass\n",
        "  y_logits = model_0(X_train).squeeze()\n",
        "  y_pred = torch.round(torch.sigmoid(y_logits)) #turn logits -> pred probs -> pred labels\n",
        "\n",
        "  # 2. Calculate loss/accuracy\n",
        "  #loss = loss_fn(torch.sigmoid(y_logits), #nn.BCELoos espera probnabilidades de predicoes com entrada\n",
        "  #                y_train)\n",
        "  loss = loss_fn(y_logits, #nn.BCEWithLogitsLoss espera as \"saidas cru do modelo sem treinamento previo\" como entrada\n",
        "                 y_train)\n",
        "  acc = accuracy_fn(y_true=y_train,\n",
        "                    y_pred=y_pred)\n",
        "\n",
        "  # 3. Optimizer zero grad\n",
        "  optimizer.zero_grad()\n",
        "\n",
        "  # 4. Loss backward(backpropagation)\n",
        "  loss.backward()\n",
        "\n",
        "  # 5. Optimizer step (gradient descent)\n",
        "  optimizer.step()\n",
        "\n",
        "  ### Testing\n",
        "  model_0.eval()\n",
        "  with torch.inference_mode():\n",
        "    # 1. Forward pass\n",
        "    test_logits = model_0(X_test).squeeze()\n",
        "    test_pred = torch.round(torch.sigmoid(test_logits))\n",
        "\n",
        "    # 2. Calculate test loss/acc\n",
        "    test_loss = loss_fn(test_logits,\n",
        "                        y_test)\n",
        "    test_acc = accuracy_fn(y_true=y_test,\n",
        "                           y_pred=test_pred)\n",
        "\n",
        "  #Jogando na tela os acontecimentos\n",
        "  if epoch % 20 == 0:\n",
        "    print(f\"Epoch: {epoch} | Loss: {loss:.5f}, Acc: {acc:.2f}% | Test loss: {test_loss:.5f}, Test acc: {test_acc:.2f}%\")"
      ],
      "metadata": {
        "id": "_uUYEmn0t2xw",
        "colab": {
          "base_uri": "https://localhost:8080/"
        },
        "outputId": "53a91cb7-2176-4215-d9f6-ee1715b14b88"
      },
      "execution_count": 36,
      "outputs": [
        {
          "output_type": "stream",
          "name": "stdout",
          "text": [
            "Epoch: 0 | Loss: 0.70275, Acc: 51.00% | Test loss: 0.69932, Test acc: 52.00%\n",
            "Epoch: 20 | Loss: 0.69625, Acc: 51.38% | Test loss: 0.69401, Test acc: 55.50%\n",
            "Epoch: 40 | Loss: 0.69467, Acc: 50.12% | Test loss: 0.69336, Test acc: 53.00%\n",
            "Epoch: 60 | Loss: 0.69397, Acc: 50.38% | Test loss: 0.69343, Test acc: 52.00%\n",
            "Epoch: 80 | Loss: 0.69358, Acc: 49.12% | Test loss: 0.69366, Test acc: 55.00%\n",
            "Epoch: 100 | Loss: 0.69335, Acc: 49.38% | Test loss: 0.69390, Test acc: 51.50%\n",
            "Epoch: 120 | Loss: 0.69321, Acc: 50.38% | Test loss: 0.69413, Test acc: 50.00%\n",
            "Epoch: 140 | Loss: 0.69313, Acc: 50.62% | Test loss: 0.69431, Test acc: 51.00%\n",
            "Epoch: 160 | Loss: 0.69308, Acc: 50.88% | Test loss: 0.69446, Test acc: 47.50%\n",
            "Epoch: 180 | Loss: 0.69305, Acc: 51.00% | Test loss: 0.69458, Test acc: 49.00%\n",
            "Epoch: 200 | Loss: 0.69303, Acc: 51.25% | Test loss: 0.69466, Test acc: 46.50%\n",
            "Epoch: 220 | Loss: 0.69301, Acc: 51.00% | Test loss: 0.69472, Test acc: 46.00%\n",
            "Epoch: 240 | Loss: 0.69300, Acc: 50.75% | Test loss: 0.69477, Test acc: 46.00%\n",
            "Epoch: 260 | Loss: 0.69300, Acc: 50.88% | Test loss: 0.69480, Test acc: 47.50%\n",
            "Epoch: 280 | Loss: 0.69299, Acc: 50.88% | Test loss: 0.69482, Test acc: 47.50%\n",
            "Epoch: 300 | Loss: 0.69299, Acc: 51.25% | Test loss: 0.69483, Test acc: 47.00%\n",
            "Epoch: 320 | Loss: 0.69299, Acc: 51.00% | Test loss: 0.69483, Test acc: 47.00%\n",
            "Epoch: 340 | Loss: 0.69299, Acc: 50.88% | Test loss: 0.69483, Test acc: 47.00%\n",
            "Epoch: 360 | Loss: 0.69299, Acc: 51.25% | Test loss: 0.69483, Test acc: 47.00%\n",
            "Epoch: 380 | Loss: 0.69299, Acc: 51.25% | Test loss: 0.69483, Test acc: 47.00%\n",
            "Epoch: 400 | Loss: 0.69298, Acc: 51.12% | Test loss: 0.69482, Test acc: 47.00%\n",
            "Epoch: 420 | Loss: 0.69298, Acc: 51.38% | Test loss: 0.69481, Test acc: 46.50%\n",
            "Epoch: 440 | Loss: 0.69298, Acc: 51.12% | Test loss: 0.69481, Test acc: 46.50%\n",
            "Epoch: 460 | Loss: 0.69298, Acc: 50.88% | Test loss: 0.69480, Test acc: 46.50%\n",
            "Epoch: 480 | Loss: 0.69298, Acc: 51.12% | Test loss: 0.69479, Test acc: 46.50%\n",
            "Epoch: 500 | Loss: 0.69298, Acc: 51.00% | Test loss: 0.69478, Test acc: 46.50%\n",
            "Epoch: 520 | Loss: 0.69298, Acc: 51.00% | Test loss: 0.69478, Test acc: 46.00%\n",
            "Epoch: 540 | Loss: 0.69298, Acc: 51.00% | Test loss: 0.69477, Test acc: 46.00%\n",
            "Epoch: 560 | Loss: 0.69298, Acc: 51.25% | Test loss: 0.69476, Test acc: 46.00%\n",
            "Epoch: 580 | Loss: 0.69298, Acc: 51.38% | Test loss: 0.69476, Test acc: 46.00%\n",
            "Epoch: 600 | Loss: 0.69298, Acc: 51.38% | Test loss: 0.69475, Test acc: 46.00%\n",
            "Epoch: 620 | Loss: 0.69298, Acc: 51.38% | Test loss: 0.69474, Test acc: 46.00%\n",
            "Epoch: 640 | Loss: 0.69298, Acc: 51.50% | Test loss: 0.69474, Test acc: 46.00%\n",
            "Epoch: 660 | Loss: 0.69298, Acc: 51.38% | Test loss: 0.69473, Test acc: 46.00%\n",
            "Epoch: 680 | Loss: 0.69298, Acc: 51.50% | Test loss: 0.69473, Test acc: 46.00%\n",
            "Epoch: 700 | Loss: 0.69298, Acc: 51.50% | Test loss: 0.69473, Test acc: 46.00%\n",
            "Epoch: 720 | Loss: 0.69298, Acc: 51.62% | Test loss: 0.69472, Test acc: 46.00%\n",
            "Epoch: 740 | Loss: 0.69298, Acc: 51.50% | Test loss: 0.69472, Test acc: 45.50%\n",
            "Epoch: 760 | Loss: 0.69298, Acc: 51.38% | Test loss: 0.69472, Test acc: 45.50%\n",
            "Epoch: 780 | Loss: 0.69298, Acc: 51.38% | Test loss: 0.69471, Test acc: 45.00%\n",
            "Epoch: 800 | Loss: 0.69298, Acc: 51.38% | Test loss: 0.69471, Test acc: 44.50%\n",
            "Epoch: 820 | Loss: 0.69298, Acc: 51.50% | Test loss: 0.69471, Test acc: 44.50%\n",
            "Epoch: 840 | Loss: 0.69298, Acc: 51.50% | Test loss: 0.69470, Test acc: 44.50%\n",
            "Epoch: 860 | Loss: 0.69298, Acc: 51.50% | Test loss: 0.69470, Test acc: 44.50%\n",
            "Epoch: 880 | Loss: 0.69298, Acc: 51.50% | Test loss: 0.69470, Test acc: 45.00%\n",
            "Epoch: 900 | Loss: 0.69298, Acc: 51.50% | Test loss: 0.69470, Test acc: 45.00%\n",
            "Epoch: 920 | Loss: 0.69298, Acc: 51.62% | Test loss: 0.69470, Test acc: 45.00%\n",
            "Epoch: 940 | Loss: 0.69298, Acc: 51.38% | Test loss: 0.69470, Test acc: 45.00%\n",
            "Epoch: 960 | Loss: 0.69298, Acc: 51.38% | Test loss: 0.69469, Test acc: 45.00%\n",
            "Epoch: 980 | Loss: 0.69298, Acc: 51.50% | Test loss: 0.69469, Test acc: 45.00%\n"
          ]
        }
      ]
    },
    {
      "cell_type": "markdown",
      "source": [
        "## 4. Fazendo predicoes e avaliacoes do modelo\n",
        "\n",
        "Aparentemnte as metricas mostram que noss modelo nao esta avaliando bem\n",
        "\n",
        "Para investigar nada melhor que algumas predicoes e faze-las visualmente\n",
        "\n",
        "\"Visualize, Visualize, Visualize\"\n",
        "\n",
        "para isso, importar a funcao: `plot_decision_boundary()`"
      ],
      "metadata": {
        "id": "kYdm_8Rv7zkN"
      }
    },
    {
      "cell_type": "code",
      "source": [
        "import requests\n",
        "from pathlib import Path\n",
        "# Download helper functions from Learn Pytorch(repositorio do curso) (caos nao tenha baixado ainda no ambiente)\n",
        "if Path(\"helper_functions.py\").is_file():\n",
        "  print(\"helper_function.py ja existe no ambiente, pulando download\")\n",
        "else:\n",
        "  print(\"Baixando helper_functions.py\")\n",
        "  request = requests.get(\"https://raw.githubusercontent.com/mrdbourke/pytorch-deep-learning/main/helper_functions.py\")\n",
        "  with open(\"helper_functions.py\", \"wb\") as f:\n",
        "    f.write(request.content)\n",
        "# nao funfou\n",
        "#from helper_functions import plot_predictions, plot_decision_boundary"
      ],
      "metadata": {
        "id": "o9UW6DHKWcYW",
        "colab": {
          "base_uri": "https://localhost:8080/"
        },
        "outputId": "69d3e149-a4cc-415b-effd-87a23e09dfb5"
      },
      "execution_count": 37,
      "outputs": [
        {
          "output_type": "stream",
          "name": "stdout",
          "text": [
            "Baixando helper_functions.py\n"
          ]
        }
      ]
    },
    {
      "cell_type": "code",
      "source": [
        "#ja que enao funfou vou copir as duas funcoes.\n",
        "def plot_decision_boundary(model: torch.nn.Module, X: torch.Tensor, y: torch.Tensor):\n",
        "    \"\"\"Plots decision boundaries of model predicting on X in comparison to y.\n",
        "\n",
        "    Source - https://madewithml.com/courses/foundations/neural-networks/ (with modifications)\n",
        "    \"\"\"\n",
        "    # Put everything to CPU (works better with NumPy + Matplotlib)\n",
        "    model.to(\"cpu\")\n",
        "    X, y = X.to(\"cpu\"), y.to(\"cpu\")\n",
        "\n",
        "    # Setup prediction boundaries and grid\n",
        "    x_min, x_max = X[:, 0].min() - 0.1, X[:, 0].max() + 0.1\n",
        "    y_min, y_max = X[:, 1].min() - 0.1, X[:, 1].max() + 0.1\n",
        "    xx, yy = np.meshgrid(np.linspace(x_min, x_max, 101), np.linspace(y_min, y_max, 101))\n",
        "\n",
        "    # Make features\n",
        "    X_to_pred_on = torch.from_numpy(np.column_stack((xx.ravel(), yy.ravel()))).float()\n",
        "\n",
        "    # Make predictions\n",
        "    model.eval()\n",
        "    with torch.inference_mode():\n",
        "        y_logits = model(X_to_pred_on)\n",
        "\n",
        "    # Test for multi-class or binary and adjust logits to prediction labels\n",
        "    if len(torch.unique(y)) > 2:\n",
        "        y_pred = torch.softmax(y_logits, dim=1).argmax(dim=1)  # mutli-class\n",
        "    else:\n",
        "        y_pred = torch.round(torch.sigmoid(y_logits))  # binary\n",
        "\n",
        "    # Reshape preds and plot\n",
        "    y_pred = y_pred.reshape(xx.shape).detach().numpy()\n",
        "    plt.contourf(xx, yy, y_pred, cmap=plt.cm.RdYlBu, alpha=0.7)\n",
        "    plt.scatter(X[:, 0], X[:, 1], c=y, s=40, cmap=plt.cm.RdYlBu)\n",
        "    plt.xlim(xx.min(), xx.max())\n",
        "    plt.ylim(yy.min(), yy.max())"
      ],
      "metadata": {
        "id": "A07IQ9Kc--6p"
      },
      "execution_count": 38,
      "outputs": []
    },
    {
      "cell_type": "code",
      "source": [
        "def plot_decision_boundary(model: torch.nn.Module, X: torch.Tensor, y: torch.Tensor):\n",
        "    \"\"\"Plots decision boundaries of model predicting on X in comparison to y.\n",
        "\n",
        "    Source - https://madewithml.com/courses/foundations/neural-networks/ (with modifications)\n",
        "    \"\"\"\n",
        "    # Put everything to CPU (works better with NumPy + Matplotlib)\n",
        "    model.to(\"cpu\")\n",
        "    X, y = X.to(\"cpu\"), y.to(\"cpu\")\n",
        "\n",
        "    # Setup prediction boundaries and grid\n",
        "    x_min, x_max = X[:, 0].min() - 0.1, X[:, 0].max() + 0.1\n",
        "    y_min, y_max = X[:, 1].min() - 0.1, X[:, 1].max() + 0.1\n",
        "    xx, yy = np.meshgrid(np.linspace(x_min, x_max, 101), np.linspace(y_min, y_max, 101))\n",
        "\n",
        "    # Make features\n",
        "    X_to_pred_on = torch.from_numpy(np.column_stack((xx.ravel(), yy.ravel()))).float()\n",
        "\n",
        "    # Make predictions\n",
        "    model.eval()\n",
        "    with torch.inference_mode():\n",
        "        y_logits = model(X_to_pred_on)\n",
        "\n",
        "    # Test for multi-class or binary and adjust logits to prediction labels\n",
        "    if len(torch.unique(y)) > 2:\n",
        "        y_pred = torch.softmax(y_logits, dim=1).argmax(dim=1)  # mutli-class\n",
        "    else:\n",
        "        y_pred = torch.round(torch.sigmoid(y_logits))  # binary\n",
        "\n",
        "    # Reshape preds and plot\n",
        "    y_pred = y_pred.reshape(xx.shape).detach().numpy()\n",
        "    plt.contourf(xx, yy, y_pred, cmap=plt.cm.RdYlBu, alpha=0.7)\n",
        "    plt.scatter(X[:, 0], X[:, 1], c=y, s=40, cmap=plt.cm.RdYlBu)\n",
        "    plt.xlim(xx.min(), xx.max())\n",
        "    plt.ylim(yy.min(), yy.max())"
      ],
      "metadata": {
        "id": "SFLa0SOVApCF"
      },
      "execution_count": 39,
      "outputs": []
    },
    {
      "cell_type": "code",
      "source": [
        "#Plot decision boundary do modelo\n",
        "plt.figure(figsize=(12, 6))\n",
        "plt.subplot(1, 2, 1)\n",
        "plt.title(\"Train\")\n",
        "plot_decision_boundary(model_0, X_train, y_train)\n",
        "plt.subplot(1, 2, 2)\n",
        "plt.title(\"Test\")\n",
        "plot_decision_boundary(model_0, X_test, y_test)\n"
      ],
      "metadata": {
        "colab": {
          "base_uri": "https://localhost:8080/",
          "height": 352
        },
        "id": "5pToectWCAx4",
        "outputId": "506e4367-2f0e-4a26-c63c-911a24b54774"
      },
      "execution_count": 40,
      "outputs": [
        {
          "output_type": "display_data",
          "data": {
            "text/plain": [
              "<Figure size 1200x600 with 2 Axes>"
            ],
            "image/png": "[encoded data removed]"
          },
          "metadata": {}
        }
      ]
    },
    {
      "cell_type": "markdown",
      "source": [
        "## Melhorando o modelo (pela perspectiva do modelo)\n",
        "\n",
        "* Adicionar mais camada, dar mais chance para o modelo aprender sobre os padroes nos dados\n",
        "* Adicionar mais unidades escondidas (out_features -> in_features) - \"Ir de 5 para 10 unidades\"\n",
        "* Fir por mais tempo/epocas\n",
        "* Mudando a funcao de ativacao\n",
        "* Mudando o \"Learning Rate\"\n",
        "* Mudando a loss function\n",
        "\n",
        "EU -> pela perspectiva do modelo = coisa que se pode fazer para melhorar o mecanismo do modelo, mas nesse caso nao ira acontecer nada pois o modelo est errado para nosso tipo de problema.\n",
        "\n",
        "Prof -> pela perspectiva do modelo = As opcoes acima da da perpectiva do modelo pois lidam diretamento com o modelo e nao com os dados.\n",
        "\n",
        " E por causa que essas opcoes sao valores que nos podemos muda(como engenheiro de Machine Learn e/ou como Cientista de dados) eles sao chamados de **Hyperparametros**"
      ],
      "metadata": {
        "id": "Aewsrzz-HXyk"
      }
    },
    {
      "cell_type": "markdown",
      "source": [
        "Lista da modificaoes:\n",
        "* Add unidades escondidas: 5 -> 10\n",
        "* Aumentando o numero de camadas: 2 -> 3\n",
        "* Aumentando o numero de epocas 100 -> 1000"
      ],
      "metadata": {
        "id": "WxS4Z1TxYuVK"
      }
    },
    {
      "cell_type": "code",
      "source": [
        "class CircleModelV1(nn.Module):\n",
        "  def __init__(self):\n",
        "    super().__init__()\n",
        "    self.layer_1 = nn.Linear(in_features=2, out_features=10)\n",
        "    self.layer_2 = nn.Linear(in_features=10, out_features=10)\n",
        "    self.layer_3 = nn.Linear(in_features=10, out_features=1)\n",
        "\n",
        "  def forward(self, x):\n",
        "    # z = self.layer_1(x)\n",
        "    # z = self.layer_2(z)\n",
        "    # z = self.layer_3(z)\n",
        "    # return z\n",
        "    return self.layer_3(self.layer_2(self.layer_1(x))) # Escrever operações dessa maneira aproveita acelerações onde possível nos bastidores\n",
        "\n",
        "model_1 = CircleModelV1().to(device)\n",
        "model_1"
      ],
      "metadata": {
        "id": "SN9w7HE7H0Bt",
        "colab": {
          "base_uri": "https://localhost:8080/"
        },
        "outputId": "c8acb21b-50b2-4904-ed21-0de1ddb348a3"
      },
      "execution_count": 42,
      "outputs": [
        {
          "output_type": "execute_result",
          "data": {
            "text/plain": [
              "CircleModelV1(\n",
              "  (layer_1): Linear(in_features=2, out_features=10, bias=True)\n",
              "  (layer_2): Linear(in_features=10, out_features=10, bias=True)\n",
              "  (layer_3): Linear(in_features=10, out_features=1, bias=True)\n",
              ")"
            ]
          },
          "metadata": {},
          "execution_count": 42
        }
      ]
    },
    {
      "cell_type": "code",
      "source": [
        "# Create a loss function\n",
        "\n",
        "# Create a optimizer\n"
      ],
      "metadata": {
        "id": "NURJqFF6F6LY"
      },
      "execution_count": 41,
      "outputs": []
    },
    {
      "cell_type": "code",
      "source": [
        "# \\Write a training and evaluation loop for model_1"
      ],
      "metadata": {
        "id": "Tt700dSRHz_Y"
      },
      "execution_count": 40,
      "outputs": []
    }
  ]
}