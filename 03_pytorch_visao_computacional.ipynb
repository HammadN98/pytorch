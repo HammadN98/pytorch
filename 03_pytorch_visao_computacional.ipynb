{
  "nbformat": 4,
  "nbformat_minor": 0,
  "metadata": {
    "colab": {
      "provenance": [],
      "authorship_tag": "ABX9TyP87QWTZnHPYEYMY+hj/Q/4",
      "include_colab_link": true
    },
    "kernelspec": {
      "name": "python3",
      "display_name": "Python 3"
    },
    "language_info": {
      "name": "python"
    }
  },
  "cells": [
    {
      "cell_type": "markdown",
      "metadata": {
        "id": "view-in-github",
        "colab_type": "text"
      },
      "source": [
        "<a href=\"https://colab.research.google.com/github/HammadN98/pytorch/blob/main/03_pytorch_visao_computacional.ipynb\" target=\"_parent\"><img src=\"https://colab.research.google.com/assets/colab-badge.svg\" alt=\"Open In Colab\"/></a>"
      ]
    },
    {
      "cell_type": "markdown",
      "source": [
        "# Visao Computacional"
      ],
      "metadata": {
        "id": "OrPWE1p2wQQN"
      }
    },
    {
      "cell_type": "markdown",
      "source": [
        "\n",
        "\n",
        "\n",
        "## 0. Bibliotecas do Pytorch para visao computacional\n",
        "\n",
        "* `torchvision` - Biblioteca base para visao computacional\n",
        "* `torchvision.datasets` - dados e funcoes de carregaemnto para visao computacional\n",
        "* `torch.models` - Modelos pre-treinados com transfering-learning\n",
        "* `torchvision.transforms` - funces para a manipulacao dos dados( visao computacional(imagens, videos)) para \"couber\" nos modelos de ML\n",
        "* `torch.utils.data.Dataset` - classe base para dataset em Pytorch\n",
        "* `torch.utils.data.DataLoader` - Cria iteraveis python para percorrer datasets\n",
        "\n"
      ],
      "metadata": {
        "id": "YmcF1a2lzNoH"
      }
    },
    {
      "cell_type": "code",
      "source": [
        "#Pytorch\n",
        "import torch\n",
        "from torch import nn\n",
        "\n",
        "#TorchVision\n",
        "import torchvision\n",
        "from torchvision import datasets\n",
        "from torchvision import transforms\n",
        "from torchvision.transforms import ToTensor\n",
        "\n",
        "#matplotlib para visualizar, visualizar, visualizar\n",
        "import matplotlib.pyplot as plt\n",
        "\n",
        "#Checando veroses\n",
        "print(torch.__version__)\n",
        "print(torchvision.__version__)\n"
      ],
      "metadata": {
        "colab": {
          "base_uri": "https://localhost:8080/"
        },
        "id": "MlIYZBUOzaLT",
        "outputId": "fda5050a-f5ae-49ca-c5e0-39c8a2ba8444"
      },
      "execution_count": 3,
      "outputs": [
        {
          "output_type": "stream",
          "name": "stdout",
          "text": [
            "2.3.1+cu121\n",
            "0.18.1+cu121\n"
          ]
        }
      ]
    },
    {
      "cell_type": "code",
      "source": [],
      "metadata": {
        "id": "FLPJeclL56G1"
      },
      "execution_count": null,
      "outputs": []
    }
  ]
}