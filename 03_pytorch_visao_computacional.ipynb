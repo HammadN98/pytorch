{
  "nbformat": 4,
  "nbformat_minor": 0,
  "metadata": {
    "colab": {
      "provenance": [],
      "authorship_tag": "ABX9TyMTQQbAEjPqjHY68EL9Tqqf",
      "include_colab_link": true
    },
    "kernelspec": {
      "name": "python3",
      "display_name": "Python 3"
    },
    "language_info": {
      "name": "python"
    }
  },
  "cells": [
    {
      "cell_type": "markdown",
      "metadata": {
        "id": "view-in-github",
        "colab_type": "text"
      },
      "source": [
        "<a href=\"https://colab.research.google.com/github/HammadN98/pytorch/blob/main/03_pytorch_visao_computacional.ipynb\" target=\"_parent\"><img src=\"https://colab.research.google.com/assets/colab-badge.svg\" alt=\"Open In Colab\"/></a>"
      ]
    },
    {
      "cell_type": "markdown",
      "source": [
        "# Visao Computacional"
      ],
      "metadata": {
        "id": "OrPWE1p2wQQN"
      }
    },
    {
      "cell_type": "markdown",
      "source": [
        "\n",
        "\n",
        "\n",
        "## 0. Bibliotecas do Pytorch para visao computacional\n",
        "\n",
        "* `torchvision` - Biblioteca base para visao computacional\n",
        "* `torchvision.datasets` - dados e funcoes de carregaemnto para visao computacional\n",
        "* `torch.models` - Modelos pre-treinados com transfering-learning\n",
        "* `torchvision.transforms` - funces para a manipulacao dos dados( visao computacional(imagens, videos)) para \"couber\" nos modelos de ML\n",
        "* `torch.utils.data.Dataset` - classe base para dataset em Pytorch\n",
        "* `torch.utils.data.DataLoader` - Cria iteraveis python para percorrer datasets\n",
        "\n"
      ],
      "metadata": {
        "id": "YmcF1a2lzNoH"
      }
    },
    {
      "cell_type": "code",
      "source": [
        "#Pytorch\n",
        "import torch\n",
        "from torch import nn\n",
        "\n",
        "#TorchVision\n",
        "import torchvision\n",
        "from torchvision import datasets\n",
        "from torchvision import transforms\n",
        "from torchvision.transforms import ToTensor\n",
        "\n",
        "#matplotlib para visualizar, visualizar, visualizar\n",
        "import matplotlib.pyplot as plt\n",
        "\n",
        "#Checando veroses\n",
        "print(torch.__version__)\n",
        "print(torchvision.__version__)\n"
      ],
      "metadata": {
        "colab": {
          "base_uri": "https://localhost:8080/"
        },
        "id": "MlIYZBUOzaLT",
        "outputId": "21a4ed22-2873-421e-fce0-706972a14202"
      },
      "execution_count": 2,
      "outputs": [
        {
          "output_type": "stream",
          "name": "stdout",
          "text": [
            "2.3.1+cu121\n",
            "0.18.1+cu121\n"
          ]
        }
      ]
    },
    {
      "cell_type": "markdown",
      "source": [
        "## Pegando os dados\n",
        "\n",
        "FashionMNIST dataset direto do pytorch\n",
        "\n"
      ],
      "metadata": {
        "id": "Mo8gW8z0MgGy"
      }
    },
    {
      "cell_type": "code",
      "source": [
        "#Confugurando os dados de treino\n",
        "from torchvision import datasets\n",
        "train_data = datasets.FashionMNIST(\n",
        "    root='data', #Aonde realizar o download\n",
        "    train=True, # Quero os dados de treino ou teste? Train = True\n",
        "    download=True, # Quero realizar o download?\n",
        "    transform=torchvision.transforms.ToTensor(), #Como queremos transformar os dados?\n",
        "    target_transform = None # COmo queremos tranformar os lables/targets?\n",
        "    )\n",
        "\n",
        "test_data = datasets.FashionMNIST(\n",
        "    root='data',\n",
        "    train=False,\n",
        "    download=True,\n",
        "    transform=ToTensor(),\n",
        "    target_transform=None\n",
        ")"
      ],
      "metadata": {
        "id": "FLPJeclL56G1"
      },
      "execution_count": 4,
      "outputs": []
    },
    {
      "cell_type": "code",
      "source": [
        "len(train_data), len(test_data)"
      ],
      "metadata": {
        "colab": {
          "base_uri": "https://localhost:8080/"
        },
        "id": "6Fbl-VHbPgtK",
        "outputId": "45b9d9ec-fea0-4872-ead1-82f68f9709be"
      },
      "execution_count": 5,
      "outputs": [
        {
          "output_type": "execute_result",
          "data": {
            "text/plain": [
              "(60000, 10000)"
            ]
          },
          "metadata": {},
          "execution_count": 5
        }
      ]
    }
  ]
}