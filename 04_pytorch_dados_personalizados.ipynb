{
  "nbformat": 4,
  "nbformat_minor": 0,
  "metadata": {
    "colab": {
      "provenance": [],
      "authorship_tag": "ABX9TyMH8q3IhEph4RhNfDeQZaEV",
      "include_colab_link": true
    },
    "kernelspec": {
      "name": "python3",
      "display_name": "Python 3"
    },
    "language_info": {
      "name": "python"
    }
  },
  "cells": [
    {
      "cell_type": "markdown",
      "metadata": {
        "id": "view-in-github",
        "colab_type": "text"
      },
      "source": [
        "<a href=\"https://colab.research.google.com/github/HammadN98/pytorch/blob/main/04_pytorch_dados_personalizados.ipynb\" target=\"_parent\"><img src=\"https://colab.research.google.com/assets/colab-badge.svg\" alt=\"Open In Colab\"/></a>"
      ]
    },
    {
      "cell_type": "markdown",
      "source": [
        "# 04. Pytorch para datasets proprios\n",
        "\n",
        "## Cada tipo tem um \"pytorch\" proprio\n",
        "\n",
        "* Texto - torchtext\n",
        "* Audio - torchaudio\n",
        "* Sistema de Recomendacao - torchrec\n",
        "* Visao computacional - torchvision\n",
        "\n",
        "Cada tipo tem uma biblioteca para funcoes de carregamento de dados e funcoes customizadas para o mesmo"
      ],
      "metadata": {
        "id": "KuCwuhiqML0t"
      }
    },
    {
      "cell_type": "markdown",
      "source": [
        "## 0. Importando Pytorch e fazendo o selecionador de dispositivo"
      ],
      "metadata": {
        "id": "EZ7C-JNhMkdv"
      }
    },
    {
      "cell_type": "code",
      "execution_count": 1,
      "metadata": {
        "colab": {
          "base_uri": "https://localhost:8080/",
          "height": 36
        },
        "id": "WJeAxwJ5MLVx",
        "outputId": "fefa419b-3efb-4c40-aadc-1ecf941847ba"
      },
      "outputs": [
        {
          "output_type": "execute_result",
          "data": {
            "text/plain": [
              "'2.3.1+cu121'"
            ],
            "application/vnd.google.colaboratory.intrinsic+json": {
              "type": "string"
            }
          },
          "metadata": {},
          "execution_count": 1
        }
      ],
      "source": [
        "import torch\n",
        "from torch import nn\n",
        "\n",
        "torch.__version__"
      ]
    },
    {
      "cell_type": "code",
      "source": [
        "#Diagnostico de dispositivo\n",
        "device = \"cuda\" if torch.cuda.is_available() else \"cpu\"\n",
        "device"
      ],
      "metadata": {
        "colab": {
          "base_uri": "https://localhost:8080/",
          "height": 36
        },
        "id": "XNLTRKj5NSyh",
        "outputId": "822cbbd7-1fbb-4e3b-aaef-f43fe6fe81db"
      },
      "execution_count": 4,
      "outputs": [
        {
          "output_type": "execute_result",
          "data": {
            "text/plain": [
              "'cpu'"
            ],
            "application/vnd.google.colaboratory.intrinsic+json": {
              "type": "string"
            }
          },
          "metadata": {},
          "execution_count": 4
        }
      ]
    },
    {
      "cell_type": "code",
      "source": [],
      "metadata": {
        "id": "zk1MTOTGNe5G"
      },
      "execution_count": null,
      "outputs": []
    }
  ]
}