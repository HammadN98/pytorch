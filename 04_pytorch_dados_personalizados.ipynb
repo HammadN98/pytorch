{
  "nbformat": 4,
  "nbformat_minor": 0,
  "metadata": {
    "colab": {
      "provenance": [],
      "authorship_tag": "ABX9TyM8srv80TAq2ZNelE7EMxcL",
      "include_colab_link": true
    },
    "kernelspec": {
      "name": "python3",
      "display_name": "Python 3"
    },
    "language_info": {
      "name": "python"
    }
  },
  "cells": [
    {
      "cell_type": "markdown",
      "metadata": {
        "id": "view-in-github",
        "colab_type": "text"
      },
      "source": [
        "<a href=\"https://colab.research.google.com/github/HammadN98/pytorch/blob/main/04_pytorch_dados_personalizados.ipynb\" target=\"_parent\"><img src=\"https://colab.research.google.com/assets/colab-badge.svg\" alt=\"Open In Colab\"/></a>"
      ]
    },
    {
      "cell_type": "markdown",
      "source": [
        "# 04. Pytorch para datasets proprios\n",
        "\n",
        "## Cada tipo tem um \"pytorch\" proprio\n",
        "\n",
        "* Texto - torchtext\n",
        "* Audio - torchaudio\n",
        "* Sistema de Recomendacao - torchrec\n",
        "* Visao computacional - torchvision\n",
        "\n",
        "Cada tipo tem uma biblioteca para funcoes de carregamento de dados e funcoes customizadas para o mesmo"
      ],
      "metadata": {
        "id": "KuCwuhiqML0t"
      }
    },
    {
      "cell_type": "markdown",
      "source": [
        "## 0. Importando Pytorch e fazendo o selecionador de dispositivo"
      ],
      "metadata": {
        "id": "EZ7C-JNhMkdv"
      }
    },
    {
      "cell_type": "code",
      "execution_count": 1,
      "metadata": {
        "colab": {
          "base_uri": "https://localhost:8080/",
          "height": 36
        },
        "id": "WJeAxwJ5MLVx",
        "outputId": "35fffa7c-80ab-4bb1-9acf-6a0c7c96dfd5"
      },
      "outputs": [
        {
          "output_type": "execute_result",
          "data": {
            "text/plain": [
              "'2.3.1+cu121'"
            ],
            "application/vnd.google.colaboratory.intrinsic+json": {
              "type": "string"
            }
          },
          "metadata": {},
          "execution_count": 1
        }
      ],
      "source": [
        "import torch\n",
        "from torch import nn\n",
        "\n",
        "torch.__version__"
      ]
    },
    {
      "cell_type": "code",
      "source": [
        "#Diagnostico de dispositivo\n",
        "device = \"cuda\" if torch.cuda.is_available() else \"cpu\"\n",
        "device"
      ],
      "metadata": {
        "colab": {
          "base_uri": "https://localhost:8080/",
          "height": 36
        },
        "id": "XNLTRKj5NSyh",
        "outputId": "ed00e9d3-4d69-4f04-e8f6-dd2c292ba74f"
      },
      "execution_count": 2,
      "outputs": [
        {
          "output_type": "execute_result",
          "data": {
            "text/plain": [
              "'cpu'"
            ],
            "application/vnd.google.colaboratory.intrinsic+json": {
              "type": "string"
            }
          },
          "metadata": {},
          "execution_count": 2
        }
      ]
    },
    {
      "cell_type": "markdown",
      "source": [
        "## 1. Conseguindo os dados\n",
        "\n",
        "O dataset usado eh um sub dataset do Food101\n",
        "\n",
        "O conjunto original possui 101 classes diferentes e 1000 imagens por classe, sendo 750 de treino e 250 para teste.\n",
        "O sub conjunto possui apenas 3 classes(stake, pizza, sushi) e apenas 10% de imagens. +-75 para treino e =-25 para teste.\n",
        "O Pq disso?\n",
        "Segundo o professor, e importnte comecar projetos de ML de maineira pequena e ir incrementando conforme necessidade. Tal tecnica de da pela velocidade que se pode experimentar coisas novas com um conjunto pequeno que nao demora para ser processado e tranformado e treinando, bem como testado."
      ],
      "metadata": {
        "id": "6Ri98acaKD_I"
      }
    },
    {
      "cell_type": "code",
      "source": [
        "import requests\n",
        "import zipfile\n",
        "from pathlib import Path\n",
        "#COnfigurando o caminho para a pasta \"data\"\n",
        "data_path = Path(\"data/\")\n",
        "image_path = data_path / \"pizza_stake_sushi\"\n",
        "\n",
        "#Se a pasta das imagens nao existe, iremos criar e baixar os dados d github\n",
        "if image_path.is_dir():\n",
        "  print(f\"{image_path} Diretorio existente, pulando download...\")\n",
        "else:\n",
        "  print(f\"{image_path} nao existe, criando...\")\n",
        "  image_path.mkdir(parents=True, exist_ok=True)\n",
        "\n",
        "#Baixzando os dados pizza, steak, sushi\n",
        "with open(data_path / \"pizza_steak_sushi.zip\", \"wb\") as f:\n",
        "  request = requests.get(\"https://github.com/HammadN98/pytorch-deep-learning/raw/main/data/pizza_steak_sushi.zip\")\n",
        "  print(\"Baixando os dados...\")\n",
        "  f.write(request.content)\n",
        "\n",
        "#Descompactando os dados\n",
        "with zipfile.ZipFile(data_path / \"pizza_steak_sushi.zip\", \"r\") as zip_ref:\n",
        "  print(\"Descompactando\")\n",
        "  zip_ref.extractall(image_path)"
      ],
      "metadata": {
        "id": "zk1MTOTGNe5G",
        "colab": {
          "base_uri": "https://localhost:8080/"
        },
        "outputId": "435d7ddd-7b91-4d39-88cc-d90a42651de7"
      },
      "execution_count": 9,
      "outputs": [
        {
          "output_type": "stream",
          "name": "stdout",
          "text": [
            "data/pizza_stake_sushi Diretorio existente, pulando download...\n",
            "Baixando os dados...\n",
            "Descompactando\n"
          ]
        }
      ]
    },
    {
      "cell_type": "markdown",
      "source": [
        "## 2. Tornando-se um com os dados(preparacao e exploracao)\n"
      ],
      "metadata": {
        "id": "gPHta2lKN1D_"
      }
    },
    {
      "cell_type": "code",
      "source": [
        "import os\n",
        "def walk_through_dir(dir_path):\n",
        "  \"\"\"Passa por todo o diretorio e retorna o conteudo\"\"\"\n",
        "  for dirpath, dirnames, filenames in os.walk(dir_path):\n",
        "    print(f\"Tem {len(dirnames)} diretorios e {len(filenames)} imagens no '{dirpath}\")"
      ],
      "metadata": {
        "id": "3A-2KzxOLHC7"
      },
      "execution_count": 10,
      "outputs": []
    },
    {
      "cell_type": "code",
      "source": [
        "walk_through_dir(image_path)"
      ],
      "metadata": {
        "colab": {
          "base_uri": "https://localhost:8080/"
        },
        "id": "Gjvml3obOezn",
        "outputId": "87ed282d-690c-4156-9182-72f25df774f2"
      },
      "execution_count": 11,
      "outputs": [
        {
          "output_type": "stream",
          "name": "stdout",
          "text": [
            "Tem 2 diretorios e 0 imagens no 'data/pizza_stake_sushi\n",
            "Tem 3 diretorios e 0 imagens no 'data/pizza_stake_sushi/train\n",
            "Tem 0 diretorios e 78 imagens no 'data/pizza_stake_sushi/train/pizza\n",
            "Tem 0 diretorios e 75 imagens no 'data/pizza_stake_sushi/train/steak\n",
            "Tem 0 diretorios e 72 imagens no 'data/pizza_stake_sushi/train/sushi\n",
            "Tem 3 diretorios e 0 imagens no 'data/pizza_stake_sushi/test\n",
            "Tem 0 diretorios e 25 imagens no 'data/pizza_stake_sushi/test/pizza\n",
            "Tem 0 diretorios e 19 imagens no 'data/pizza_stake_sushi/test/steak\n",
            "Tem 0 diretorios e 31 imagens no 'data/pizza_stake_sushi/test/sushi\n"
          ]
        }
      ]
    },
    {
      "cell_type": "code",
      "source": [
        "#Configurando os caminhos de treino e teste\n",
        "train_dir = image_path / \"train\"\n",
        "test_dir = image_path / \"test\"\n",
        "\n",
        "train_dir, test_dir"
      ],
      "metadata": {
        "colab": {
          "base_uri": "https://localhost:8080/"
        },
        "id": "q6vkBS1tOjS8",
        "outputId": "ee896710-0aad-477f-a91e-9651dcfa0973"
      },
      "execution_count": 12,
      "outputs": [
        {
          "output_type": "execute_result",
          "data": {
            "text/plain": [
              "(PosixPath('data/pizza_stake_sushi/train'),\n",
              " PosixPath('data/pizza_stake_sushi/test'))"
            ]
          },
          "metadata": {},
          "execution_count": 12
        }
      ]
    }
  ]
}