{
  "nbformat": 4,
  "nbformat_minor": 0,
  "metadata": {
    "colab": {
      "provenance": [],
      "authorship_tag": "ABX9TyPxTVpE64WyXgfLbDmgbDD4",
      "include_colab_link": true
    },
    "kernelspec": {
      "name": "python3",
      "display_name": "Python 3"
    },
    "language_info": {
      "name": "python"
    }
  },
  "cells": [
    {
      "cell_type": "markdown",
      "metadata": {
        "id": "view-in-github",
        "colab_type": "text"
      },
      "source": [
        "<a href=\"https://colab.research.google.com/github/HammadN98/pytorch/blob/main/06_pytorch_transfer_learning.ipynb\" target=\"_parent\"><img src=\"https://colab.research.google.com/assets/colab-badge.svg\" alt=\"Open In Colab\"/></a>"
      ]
    },
    {
      "cell_type": "markdown",
      "source": [
        "# 6. Pytorch Tranfer Learning\n",
        "\n",
        "O que eh Transfer Learning?\n",
        "\n",
        "Transfer Learning envolve pegar os parametros de um modelo que foi trainado em outros dataset e aplicar-los no nosso proprio ploblema\n",
        "\n",
        "* Pretrained model = foundation models"
      ],
      "metadata": {
        "id": "lWioe9vzMUNw"
      }
    },
    {
      "cell_type": "code",
      "execution_count": null,
      "metadata": {
        "colab": {
          "base_uri": "https://localhost:8080/"
        },
        "id": "_-3d4Vg6KfHc",
        "outputId": "e49f67cd-f0c8-4807-e7e8-6eb9c405dda6"
      },
      "outputs": [
        {
          "output_type": "stream",
          "name": "stdout",
          "text": [
            "2.4.1+cu121\n",
            "0.19.1+cu121\n"
          ]
        }
      ],
      "source": [
        "import torch\n",
        "import torchvision\n",
        "\n",
        "print(torch.__version__)\n",
        "print(torchvision.__version__)\n"
      ]
    },
    {
      "cell_type": "code",
      "source": [
        "#COpiado da estrutura do curso, modificado apenas para manter a pasta \"data\" ao baixar o repositorio para o collab\n",
        "# Continue with regular imports\n",
        "import matplotlib.pyplot as plt\n",
        "import torch\n",
        "import torchvision\n",
        "\n",
        "from torch import nn\n",
        "from torchvision import transforms\n",
        "\n",
        "# Try to get torchinfo, install it if it doesn't work\n",
        "try:\n",
        "    from torchinfo import summary\n",
        "except:\n",
        "    print(\"[INFO] Couldn't find torchinfo... installing it.\")\n",
        "    !pip install -q torchinfo\n",
        "    from torchinfo import summary\n",
        "\n",
        "# Try to import the going_modular directory, download it from GitHub if it doesn't work\n",
        "try:\n",
        "    from going_modular.going_modular import data_setup, engine\n",
        "except:\n",
        "    # Get the going_modular scripts\n",
        "    print(\"[INFO] Couldn't find going_modular scripts... downloading them from GitHub.\")\n",
        "    !git clone https://github.com/mrdbourke/pytorch-deep-learning\n",
        "    !mv pytorch-deep-learning/going_modular .\n",
        "\n",
        "    #!mv pytorch-deep-learning/data .\n",
        "\n",
        "    !rm -rf pytorch-deep-learning\n",
        "    from going_modular.going_modular import data_setup, engine"
      ],
      "metadata": {
        "id": "AgbfwRWPMS7H",
        "colab": {
          "base_uri": "https://localhost:8080/"
        },
        "outputId": "3e006602-13cd-4ace-a799-6240ef1eb9da"
      },
      "execution_count": null,
      "outputs": [
        {
          "output_type": "stream",
          "name": "stdout",
          "text": [
            "[INFO] Couldn't find torchinfo... installing it.\n",
            "[INFO] Couldn't find going_modular scripts... downloading them from GitHub.\n",
            "Cloning into 'pytorch-deep-learning'...\n",
            "remote: Enumerating objects: 4356, done.\u001b[K\n",
            "remote: Counting objects: 100% (321/321), done.\u001b[K\n",
            "remote: Compressing objects: 100% (143/143), done.\u001b[K\n",
            "remote: Total 4356 (delta 213), reused 253 (delta 177), pack-reused 4035 (from 1)\u001b[K\n",
            "Receiving objects: 100% (4356/4356), 654.51 MiB | 29.81 MiB/s, done.\n",
            "Resolving deltas: 100% (2584/2584), done.\n",
            "Updating files: 100% (248/248), done.\n"
          ]
        }
      ]
    },
    {
      "cell_type": "code",
      "source": [
        "#COnfigurando o dispositivo\n",
        "device = \"cuda\" if torch.cuda.is_available() else \"cpu\"\n",
        "device"
      ],
      "metadata": {
        "colab": {
          "base_uri": "https://localhost:8080/",
          "height": 36
        },
        "id": "K47oC0RB_fFP",
        "outputId": "8d0dd83f-7e2f-4855-a79c-fcae960c8fdd"
      },
      "execution_count": null,
      "outputs": [
        {
          "output_type": "execute_result",
          "data": {
            "text/plain": [
              "'cpu'"
            ],
            "application/vnd.google.colaboratory.intrinsic+json": {
              "type": "string"
            }
          },
          "metadata": {},
          "execution_count": 3
        }
      ]
    },
    {
      "cell_type": "markdown",
      "source": [
        "# 1. Conseguindo os dados\n",
        "\n",
        "Baixandoi os dados: Pizza, Steak, Sushi para construir um modelo com transfer learning"
      ],
      "metadata": {
        "id": "If43qLSxAOYl"
      }
    },
    {
      "cell_type": "code",
      "source": [
        "import os\n",
        "import zipfile\n",
        "import requests\n",
        "\n",
        "from pathlib import Path\n",
        "\n",
        "\n",
        "\n",
        "#Configurando o caminho\n",
        "data_path = Path(\"data/\")\n",
        "image_path = data_path / \"pizza_steak_sushi\"\n",
        "\n",
        "#Se a pasta das imagens nao existe, baixar e prepara\n",
        "if image_path.is_dir():\n",
        "  print(f\"Diretrio {image_path} existe, pulando download...\")\n",
        "else:\n",
        "  print(f\"O diretorio {image_path} nao foi encontrado, baixando...\")\n",
        "  image_path.mkdir(parents=True, exist_ok=True)\n",
        "\n",
        "  #Baixando dados -> pizza, steak, sushi\n",
        "  with open(data_path / \"pizza_steak_sushi.zip\", \"wb\") as f:\n",
        "    request = requests.get(\"https://github.com/mrdbourke/pytorch-deep-learning/raw/main/data/pizza_steak_sushi.zip\")\n",
        "    print(\"Baixando pizza, steak, sushi...\")\n",
        "    f.write(request.content)\n",
        "\n",
        "  # Unzip pizza, steak, sushi\n",
        "  with zipfile.ZipFile(data_path / \"pizza_steak_sushi.zip\", \"r\") as zip_ref:\n",
        "      print(\"Unzipping pizza, steak, sushi data...\")\n",
        "      zip_ref.extractall(image_path)\n",
        "\n",
        "  # Remove .zip\n",
        "  os.remove(data_path / \"pizza_steak_sushi.zip\")\n"
      ],
      "metadata": {
        "colab": {
          "base_uri": "https://localhost:8080/"
        },
        "id": "r-GyJash_8dM",
        "outputId": "14c1a51d-0743-48c4-e41f-d9e273c6da4d"
      },
      "execution_count": null,
      "outputs": [
        {
          "output_type": "stream",
          "name": "stdout",
          "text": [
            "O diretorio data/pizza_steak_sushi nao foi encontrado, baixando...\n",
            "Baixando pizza, steak, sushi...\n",
            "Unzipping pizza, steak, sushi data...\n"
          ]
        }
      ]
    },
    {
      "cell_type": "code",
      "source": [
        "#Configurando caminho dos diretorios\n",
        "train_dir = image_path / \"train\"\n",
        "test_dir = image_path / \"test\"\n",
        "\n",
        "train_dir, test_dir"
      ],
      "metadata": {
        "colab": {
          "base_uri": "https://localhost:8080/"
        },
        "id": "YUdWz8AzDrNO",
        "outputId": "1b9c720c-69ae-472c-cb37-6393c1b0fe0b"
      },
      "execution_count": null,
      "outputs": [
        {
          "output_type": "execute_result",
          "data": {
            "text/plain": [
              "(PosixPath('data/pizza_steak_sushi/train'),\n",
              " PosixPath('data/pizza_steak_sushi/test'))"
            ]
          },
          "metadata": {},
          "execution_count": 5
        }
      ]
    },
    {
      "cell_type": "markdown",
      "source": [
        "# 2. Criando Datasets e DataLoaders\n",
        "\n",
        "Agora que se tem os dados, vamos precisar transformar em DataLoaders Pytorch, e para isso sera utilizado o `datas_setup.py` e a funcao `create_dataloaders()`, que foi feita no modulo passado.\n",
        "\n",
        "Uma coisa para se pensar eh, como iremos **transformar** os dados?\n",
        "\n",
        "Apartir da versao 0.13+ do torchvision eh possivel fazer de duas maneiras:\n",
        "\n",
        "1. Criar os transforms de maneira manual - Aonde definimos por quais trnasforms queremos que os dados passem.\n",
        "2. De maneira automatica: Com base no modelo que sera usado, ele definira os transforms.\n",
        "\n",
        "**NOTE** Quando usado um modelo pre-treinado, eh importante que os dados(incluindo os custom proprios) que iremos usar sejam trnassformados do mesma menira que os dados em que o modelo foi originalmente treinado."
      ],
      "metadata": {
        "id": "1B-NGVTYMcSW"
      }
    },
    {
      "cell_type": "markdown",
      "source": [
        "## 2.1 Crianado transforms com `torchvision.models` (Maneira manual)\n",
        "\n",
        "`torchvision.models` contem modelos pre-treinados(ou seja modelos pronto para transfer learning) direto no torchvision.\n",
        "\n",
        ">All pre-trained models expect input images normalized in the same way, i.e. mini-batches of 3-channel RGB images of shape (3 x H x W), where H and W are expected to be at least 224.\n",
        ">The images have to be loaded in to a range of [0, 1] and then normalized using mean = [0.485, 0.456, 0.406] and std = [0.229, 0.224, 0.225].\n",
        ">\n",
        ">"
      ],
      "metadata": {
        "id": "BHyPrXXgOyk_"
      }
    },
    {
      "cell_type": "code",
      "source": [
        "from torchvision import transforms\n",
        "normalize = transforms.Normalize(mean=[0.485, 0.456, 0.406],\n",
        "                                 std=[0.229, 0.224, 0.225])\n",
        "manual_transforms = transforms.Compose([\n",
        "                                        transforms.Resize((224, 224)), #Tamanho para 224 224 (altura x largura)\n",
        "                                        transforms.ToTensor(), # Transforma em range [0, 1]\n",
        "                                        normalize]) #Garante que as imagnes tenham a mesma distribuicao do ImageNet(AOnde nosso modelo foi treinado)\n"
      ],
      "metadata": {
        "id": "TLtbcu2BGWZk"
      },
      "execution_count": null,
      "outputs": []
    },
    {
      "cell_type": "code",
      "source": [
        "from going_modular.going_modular import data_setup\n",
        "train_dataloader, test_dataloader, class_names = data_setup.create_dataloaders(train_dir=train_dir,\n",
        "                                                                               test_dir=test_dir,\n",
        "                                                                               transform=manual_transforms,\n",
        "                                                                               batch_size=32)\n",
        "train_dataloader, test_dataloader, class_names"
      ],
      "metadata": {
        "colab": {
          "base_uri": "https://localhost:8080/"
        },
        "id": "MFkSOtSVPSpm",
        "outputId": "e1699082-604a-438c-e411-d1727331f210"
      },
      "execution_count": null,
      "outputs": [
        {
          "output_type": "execute_result",
          "data": {
            "text/plain": [
              "(<torch.utils.data.dataloader.DataLoader at 0x7ca52067f310>,\n",
              " <torch.utils.data.dataloader.DataLoader at 0x7ca5205ce980>,\n",
              " ['pizza', 'steak', 'sushi'])"
            ]
          },
          "metadata": {},
          "execution_count": 7
        }
      ]
    },
    {
      "cell_type": "markdown",
      "source": [
        "## 2.2 Criando transforms com `torchvision.models` (Automatico)"
      ],
      "metadata": {
        "id": "ioYxKZ7ZRGtE"
      }
    },
    {
      "cell_type": "code",
      "source": [
        "#PEgando um set do pesos do modelo pre treinado\n",
        "weights = torchvision.models.EfficientNet_B0_Weights.DEFAULT #DEAFOULT = melhores pesos disponiveis\n",
        "weights"
      ],
      "metadata": {
        "colab": {
          "base_uri": "https://localhost:8080/"
        },
        "id": "sWOhWa7wU7F8",
        "outputId": "22295616-86a1-4683-cc9e-bd19e6bd33f9"
      },
      "execution_count": null,
      "outputs": [
        {
          "output_type": "execute_result",
          "data": {
            "text/plain": [
              "EfficientNet_B0_Weights.IMAGENET1K_V1"
            ]
          },
          "metadata": {},
          "execution_count": 8
        }
      ]
    },
    {
      "cell_type": "code",
      "source": [
        "#Conseguindo o transforms que foi usado para criar os pesos do modelo pre-treinado\n",
        "auto_transforms = weights.transforms()\n",
        "auto_transforms"
      ],
      "metadata": {
        "colab": {
          "base_uri": "https://localhost:8080/"
        },
        "id": "LjGIQjk5XN_G",
        "outputId": "bbcb43e7-d6e6-40ad-d785-f6efbc4ea60e"
      },
      "execution_count": null,
      "outputs": [
        {
          "output_type": "execute_result",
          "data": {
            "text/plain": [
              "ImageClassification(\n",
              "    crop_size=[224]\n",
              "    resize_size=[256]\n",
              "    mean=[0.485, 0.456, 0.406]\n",
              "    std=[0.229, 0.224, 0.225]\n",
              "    interpolation=InterpolationMode.BICUBIC\n",
              ")"
            ]
          },
          "metadata": {},
          "execution_count": 9
        }
      ]
    },
    {
      "cell_type": "code",
      "source": [
        "#Criando dataloaders usando o transforms automatico\n",
        "train_dataloader, test_dataloader, class_names = data_setup.create_dataloaders(train_dir=train_dir,\n",
        "                                                                               test_dir=test_dir,\n",
        "                                                                               transform=auto_transforms,\n",
        "                                                                               batch_size=32)\n",
        "train_dataloader, test_dataloader, class_names"
      ],
      "metadata": {
        "colab": {
          "base_uri": "https://localhost:8080/"
        },
        "id": "OwzhEDvdYKR6",
        "outputId": "a50fce02-0596-429a-e9fe-8b7aa1badf30"
      },
      "execution_count": null,
      "outputs": [
        {
          "output_type": "execute_result",
          "data": {
            "text/plain": [
              "(<torch.utils.data.dataloader.DataLoader at 0x7ca5205ce590>,\n",
              " <torch.utils.data.dataloader.DataLoader at 0x7ca52067f970>,\n",
              " ['pizza', 'steak', 'sushi'])"
            ]
          },
          "metadata": {},
          "execution_count": 10
        }
      ]
    },
    {
      "cell_type": "markdown",
      "source": [
        "# 3. Modelos Pre-Treinados\n",
        "\n",
        "Lugares para conseguir modelos pre-treinados\n",
        "\n",
        "1. PyTorch\n",
        "2. Bibliotecas como a `timm` (torch image models)\n",
        "3. HuggingFace Hub (PAra uma diversidade de modelos)\n",
        "4. Paperswithcode (P modelo de tudo que eh tipo e cor)\n"
      ],
      "metadata": {
        "id": "VEb-LQZp10Xg"
      }
    },
    {
      "cell_type": "markdown",
      "source": [
        "## 3.1 Qual modelo pre-treinado usar?\n",
        "\n",
        "Descobrir por meio da experimentacao\n",
        "\n",
        "*Experiment, Experiment, Experiment*\n",
        "\n",
        "A idea geral de usar **Transder Learning** que eh pegar um modelo ja validade para um problema similar ao nosso e customizar para o nosso problema.\n",
        "\n",
        "Tres coisas a considerar:\n",
        "1. Velocidade - O quao rapido roda?\n",
        "2. Tamanho - O quao grande eh o modelo?\n",
        "3. Performace - Quao bem os modelo se encaixa no problema a ser resolvido(E.G O quao bem o modelo classficia imagens? Para o FoodVision Mini)?\n",
        "\n",
        "Levar em conta - AOnde o modelo vive(esta armazenado)?\n",
        "  No dispositivo? Como um carreo autonomo? Ou em servidores?\n",
        "\n",
        "O modelo escolhido para o nosso problema(Deploy do FoodVision Mini para dispositivos mobile), parece que a EffNetB0 eh uma das melhores opcoes em termos de Performace X Tamanho\n",
        "\n",
        "Porem sempre vale lembrar, que se dinheiro nao for um problema pega o mais caro e azar."
      ],
      "metadata": {
        "id": "X8fsBslC2Ppl"
      }
    },
    {
      "cell_type": "code",
      "source": [],
      "metadata": {
        "id": "msY0rGkmYeeo"
      },
      "execution_count": null,
      "outputs": []
    }
  ]
}