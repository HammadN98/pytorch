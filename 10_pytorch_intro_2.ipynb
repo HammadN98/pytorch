{
  "nbformat": 4,
  "nbformat_minor": 0,
  "metadata": {
    "colab": {
      "provenance": [],
      "gpuType": "T4",
      "authorship_tag": "ABX9TyOv/z2X29k9bUA/Bo3hHFxs",
      "include_colab_link": true
    },
    "kernelspec": {
      "name": "python3",
      "display_name": "Python 3"
    },
    "language_info": {
      "name": "python"
    },
    "accelerator": "GPU"
  },
  "cells": [
    {
      "cell_type": "markdown",
      "metadata": {
        "id": "view-in-github",
        "colab_type": "text"
      },
      "source": [
        "<a href=\"https://colab.research.google.com/github/HammadN98/pytorch/blob/main/10_pytorch_intro_2.ipynb\" target=\"_parent\"><img src=\"https://colab.research.google.com/assets/colab-badge.svg\" alt=\"Open In Colab\"/></a>"
      ]
    },
    {
      "cell_type": "markdown",
      "source": [
        "# Introducao ao Pytorch 2"
      ],
      "metadata": {
        "id": "oTHNKMWJtVPx"
      }
    },
    {
      "cell_type": "code",
      "execution_count": 1,
      "metadata": {
        "colab": {
          "base_uri": "https://localhost:8080/"
        },
        "id": "MPJN3Z6StQJe",
        "outputId": "83170381-6796-4ca1-bdfa-9950303fe379"
      },
      "outputs": [
        {
          "output_type": "stream",
          "name": "stdout",
          "text": [
            "2.5.1+cu121\n"
          ]
        }
      ],
      "source": [
        "import torch\n",
        "print(torch.__version__)"
      ]
    },
    {
      "cell_type": "markdown",
      "source": [
        "## Pytorch 1.X"
      ],
      "metadata": {
        "id": "U6OXAsjmzsjX"
      }
    },
    {
      "cell_type": "code",
      "source": [
        "import torch\n",
        "import torchvision\n",
        "\n",
        "model = torchvision.models.vgg16()"
      ],
      "metadata": {
        "id": "BKDw175stzjF"
      },
      "execution_count": 2,
      "outputs": []
    },
    {
      "cell_type": "markdown",
      "source": [
        "## Com a chegada do Pytorch 2.X"
      ],
      "metadata": {
        "id": "djwyXfCAz9li"
      }
    },
    {
      "cell_type": "code",
      "source": [
        "import torch\n",
        "import torchvision\n",
        "\n",
        "model_vgg = torchvision.models.vgg16() #QUase todos os modelos\n",
        "\n",
        "compiled_model = torch.compile(model_vgg)\n",
        "\n",
        "### Treino\n",
        "\n",
        "\n",
        "###Teste"
      ],
      "metadata": {
        "id": "L4ngk9bSz8qV"
      },
      "execution_count": 3,
      "outputs": []
    },
    {
      "cell_type": "markdown",
      "source": [
        "## 0. Configurando o ambiente"
      ],
      "metadata": {
        "id": "bQQF34LA0_s9"
      }
    },
    {
      "cell_type": "code",
      "source": [
        "## Versao recente ja"
      ],
      "metadata": {
        "id": "elZKiKmz0nlI"
      },
      "execution_count": 4,
      "outputs": []
    },
    {
      "cell_type": "markdown",
      "source": [
        "## 1. Informacoes da GPU\n",
        "\n",
        "PQ pegar info da GPU?\n",
        "Pq o Pytorch 2 funciona melhor nas novas GPUs NVIDIA, foi criado para isso\n",
        "\n",
        "* Ter uma GPU com score de +8.0 o bagulho fica doido"
      ],
      "metadata": {
        "id": "HXXnoQYt1VkK"
      }
    },
    {
      "cell_type": "code",
      "source": [
        "!nvidia-smi"
      ],
      "metadata": {
        "colab": {
          "base_uri": "https://localhost:8080/"
        },
        "id": "upn-aOqV1VLl",
        "outputId": "1e660729-ab5c-49f3-8df7-6379354b9c07"
      },
      "execution_count": 5,
      "outputs": [
        {
          "output_type": "stream",
          "name": "stdout",
          "text": [
            "Fri Dec  6 18:43:28 2024       \n",
            "+---------------------------------------------------------------------------------------+\n",
            "| NVIDIA-SMI 535.104.05             Driver Version: 535.104.05   CUDA Version: 12.2     |\n",
            "|-----------------------------------------+----------------------+----------------------+\n",
            "| GPU  Name                 Persistence-M | Bus-Id        Disp.A | Volatile Uncorr. ECC |\n",
            "| Fan  Temp   Perf          Pwr:Usage/Cap |         Memory-Usage | GPU-Util  Compute M. |\n",
            "|                                         |                      |               MIG M. |\n",
            "|=========================================+======================+======================|\n",
            "|   0  Tesla T4                       Off | 00000000:00:04.0 Off |                    0 |\n",
            "| N/A   39C    P8              10W /  70W |      0MiB / 15360MiB |      0%      Default |\n",
            "|                                         |                      |                  N/A |\n",
            "+-----------------------------------------+----------------------+----------------------+\n",
            "                                                                                         \n",
            "+---------------------------------------------------------------------------------------+\n",
            "| Processes:                                                                            |\n",
            "|  GPU   GI   CI        PID   Type   Process name                            GPU Memory |\n",
            "|        ID   ID                                                             Usage      |\n",
            "|=======================================================================================|\n",
            "|  No running processes found                                                           |\n",
            "+---------------------------------------------------------------------------------------+\n"
          ]
        }
      ]
    },
    {
      "cell_type": "markdown",
      "source": [
        "### 1.1 Configurando o dispositivo de maneira global\n",
        "\n",
        "Antigamente tinha que configurar o dispositivo dos tensor/modelos:\n",
        "\n",
        "* `tensor.to(device)`\n",
        "* `model.to(device)`\n",
        "\n",
        "Porem com o pytorch 2.X e possivel configurar com \"Context manager\" e tambem de maneira global.\n"
      ],
      "metadata": {
        "id": "pg58wt-D6PZa"
      }
    },
    {
      "cell_type": "code",
      "source": [
        "import torch\n",
        "\n",
        "device = \"cuda\" if torch.cuda.is_available() else \"cpu\"\n",
        "\n",
        "#Configurando com \"context manager\"\n",
        "with torch.device(device):\n",
        "  layer = torch.nn.Linear(20, 30)\n",
        "  print(f\"Pessos da camada estao no dispositivo: {layer.weight.device}\")\n",
        "  print(f\"Camada criada no dispositivo: {layer(torch.randn(128, 20)).device}\")\n"
      ],
      "metadata": {
        "id": "Ryvv9YQ22_Xp",
        "colab": {
          "base_uri": "https://localhost:8080/"
        },
        "outputId": "b54d1023-cdb8-450b-8830-25e8b33aac17"
      },
      "execution_count": 6,
      "outputs": [
        {
          "output_type": "stream",
          "name": "stdout",
          "text": [
            "Pessos da camada estao no dispositivo: cuda:0\n",
            "Camada criada no dispositivo: cuda:0\n"
          ]
        }
      ]
    },
    {
      "cell_type": "code",
      "source": [
        "import torch\n",
        "\n",
        "c\n",
        "\n",
        "#COnfigurando o disopositivo de maneira global\n",
        "torch.set_default_device(device)\n",
        "\n",
        "#Todos os tensors e objetos Pytorch criados apartir daqui estaram no dispositivo configurado sem a necessidade de usar o .to()\n",
        "layer = torch.nn.Linear(20, 30)\n",
        "print(f\"Pessos da camada estao no dispositivo: {layer.weight.device}\")\n",
        "print(f\"Camada criada no dispositivo: {layer(torch.randn(128, 20)).device}\")\n"
      ],
      "metadata": {
        "colab": {
          "base_uri": "https://localhost:8080/"
        },
        "id": "W9RRXyQK7cRV",
        "outputId": "06506acf-aa84-4305-beb9-55873c874309"
      },
      "execution_count": 7,
      "outputs": [
        {
          "output_type": "stream",
          "name": "stdout",
          "text": [
            "Pessos da camada estao no dispositivo: cuda:0\n",
            "Camada criada no dispositivo: cuda:0\n"
          ]
        }
      ]
    },
    {
      "cell_type": "markdown",
      "source": [
        "## 2. Configurnado experimentos\n",
        "\n",
        "Para testar a \"nova\" velocidade do pytorch, serao realizados 4 experimentos, sendo eles com:\n",
        " * Modelo: ResNet50\n",
        " * Dados: CIFAR10 do torchvision\n",
        " * Epochs: 5 e 3x5(Com calculo da media)\n",
        " * Batch size 128\n",
        " * Iamge size 224"
      ],
      "metadata": {
        "id": "TlZJqz5cSDK0"
      }
    },
    {
      "cell_type": "code",
      "source": [
        "import torch\n",
        "import torchvision\n",
        "\n",
        "print(f\"Versao do Pytorch: {torch.__version__}\")\n",
        "print(f\"Versao do Torchvision: {torchvision.__version__}\")\n",
        "\n",
        "device = \"cuda\" if torch.cuda.is_available() else \"cpu\"\n",
        "print(f\"Usando: {device}\")\n"
      ],
      "metadata": {
        "id": "9kFpxs6C8Fji",
        "colab": {
          "base_uri": "https://localhost:8080/"
        },
        "outputId": "1698be07-77b8-47ba-860c-9467e634ea31"
      },
      "execution_count": 8,
      "outputs": [
        {
          "output_type": "stream",
          "name": "stdout",
          "text": [
            "Versao do Pytorch: 2.5.1+cu121\n",
            "Versao do Torchvision: 0.20.1+cu121\n",
            "Usando: cuda\n"
          ]
        }
      ]
    },
    {
      "cell_type": "code",
      "source": [],
      "metadata": {
        "id": "8BrCG4y3Tckp"
      },
      "execution_count": null,
      "outputs": []
    }
  ]
}