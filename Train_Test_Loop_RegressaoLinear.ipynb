{
  "nbformat": 4,
  "nbformat_minor": 0,
  "metadata": {
    "colab": {
      "provenance": [],
      "authorship_tag": "ABX9TyNz4GVweSKiMYdAKL0nI6PD",
      "include_colab_link": true
    },
    "kernelspec": {
      "name": "python3",
      "display_name": "Python 3"
    },
    "language_info": {
      "name": "python"
    }
  },
  "cells": [
    {
      "cell_type": "markdown",
      "metadata": {
        "id": "view-in-github",
        "colab_type": "text"
      },
      "source": [
        "<a href=\"https://colab.research.google.com/github/HammadN98/pytorch/blob/main/Train_Test_Loop_RegressaoLinear.ipynb\" target=\"_parent\"><img src=\"https://colab.research.google.com/assets/colab-badge.svg\" alt=\"Open In Colab\"/></a>"
      ]
    },
    {
      "cell_type": "code",
      "execution_count": 1,
      "metadata": {
        "id": "hTGW7AY-GHqq"
      },
      "outputs": [],
      "source": [
        "import torch\n",
        "from torch import nn\n",
        "import matplotlib.pyplot as plt"
      ]
    },
    {
      "cell_type": "code",
      "source": [
        "torch.__version__"
      ],
      "metadata": {
        "colab": {
          "base_uri": "https://localhost:8080/",
          "height": 36
        },
        "id": "n2RzLfIyGUWB",
        "outputId": "e4a919a2-a105-4d08-b830-0bef43f3d0f0"
      },
      "execution_count": 2,
      "outputs": [
        {
          "output_type": "execute_result",
          "data": {
            "text/plain": [
              "'2.3.0+cu121'"
            ],
            "application/vnd.google.colaboratory.intrinsic+json": {
              "type": "string"
            }
          },
          "metadata": {},
          "execution_count": 2
        }
      ]
    },
    {
      "cell_type": "code",
      "source": [
        "device = 'cuda' if torch.cuda.is_available() else 'cpu'\n",
        "print(f\"Dispositivo Utilizadop: {device}\")"
      ],
      "metadata": {
        "colab": {
          "base_uri": "https://localhost:8080/"
        },
        "id": "nC_zK6DJGWrc",
        "outputId": "f0fab51a-6eaa-45f0-e7ce-eef82b73aad9"
      },
      "execution_count": 3,
      "outputs": [
        {
          "output_type": "stream",
          "name": "stdout",
          "text": [
            "Dispositivo Utilizadop: cpu\n"
          ]
        }
      ]
    },
    {
      "cell_type": "code",
      "source": [
        "def cria_dados(weight, bias, start, end, step):\n",
        "  X = torch.arange(start, end, step).unsqueeze(dim=1)\n",
        "  y = weight * X + bias\n",
        "  return X, y\n"
      ],
      "metadata": {
        "id": "qat8y08qG_87"
      },
      "execution_count": 4,
      "outputs": []
    },
    {
      "cell_type": "code",
      "source": [
        "X, y = cria_dados(0.7, 0.3, 0, 1, 0.02)"
      ],
      "metadata": {
        "id": "6wkGc5dRHscl"
      },
      "execution_count": 5,
      "outputs": []
    },
    {
      "cell_type": "code",
      "source": [
        "X[:10], y[:10]"
      ],
      "metadata": {
        "colab": {
          "base_uri": "https://localhost:8080/"
        },
        "id": "mUavvmbHH0pZ",
        "outputId": "b3020604-0f23-4cdd-82f4-60f49387c25d"
      },
      "execution_count": 6,
      "outputs": [
        {
          "output_type": "execute_result",
          "data": {
            "text/plain": [
              "(tensor([[0.0000],\n",
              "         [0.0200],\n",
              "         [0.0400],\n",
              "         [0.0600],\n",
              "         [0.0800],\n",
              "         [0.1000],\n",
              "         [0.1200],\n",
              "         [0.1400],\n",
              "         [0.1600],\n",
              "         [0.1800]]),\n",
              " tensor([[0.3000],\n",
              "         [0.3140],\n",
              "         [0.3280],\n",
              "         [0.3420],\n",
              "         [0.3560],\n",
              "         [0.3700],\n",
              "         [0.3840],\n",
              "         [0.3980],\n",
              "         [0.4120],\n",
              "         [0.4260]]))"
            ]
          },
          "metadata": {},
          "execution_count": 6
        }
      ]
    },
    {
      "cell_type": "code",
      "source": [
        "def separa_dados(pct_treino: float):\n",
        "  train_split = int(pct_treino * len(X))\n",
        "  X_train, y_train = X[:train_split], y[:train_split]\n",
        "  X_test, y_test = X[train_split:], y[train_split:]\n",
        "  return  X_train, y_train, X_test, y_test\n"
      ],
      "metadata": {
        "id": "4ymexmRGH5g6"
      },
      "execution_count": 7,
      "outputs": []
    },
    {
      "cell_type": "code",
      "source": [
        "X_train, y_train, X_test, y_test = separa_dados(0.8)\n",
        "len(X_train), len(y_train), len(X_test), len(y_test)\n"
      ],
      "metadata": {
        "colab": {
          "base_uri": "https://localhost:8080/"
        },
        "id": "QoMVhVczJ3Wh",
        "outputId": "f8171197-faef-40be-d05b-04008ff880d5"
      },
      "execution_count": 8,
      "outputs": [
        {
          "output_type": "execute_result",
          "data": {
            "text/plain": [
              "(40, 40, 10, 10)"
            ]
          },
          "metadata": {},
          "execution_count": 8
        }
      ]
    },
    {
      "cell_type": "code",
      "source": [
        "#FUncao adaptada do professor, ja que nao eh bem o intuido do notebook fazer funcao de algo que ja eh funcao\n",
        "def plota_predicoes(train_data=X_train,\n",
        "                     train_labels=y_train,\n",
        "                     test_data=X_test,\n",
        "                     test_labels=y_test,\n",
        "                     predictions=None):\n",
        "\n",
        "  \"\"\" Objetido da funcao eh plotar os dados de treno, teste, e se passado as predicoes para acompanhamento da aprendizagem do modelo.\"\"\"\n",
        "  plt.figure(figsize=(7,5)) #Tamanho da figura\n",
        "\n",
        "  #Plotando os pontos dos dados de Treino\n",
        "  plt.scatter(train_data, train_labels, c='b', s=3, label='Treino')\n",
        "\n",
        "  #Plotando os pontos dos dados de Teste\n",
        "  plt.scatter(test_data, test_labels, c='g', s=3, label='Teste')\n",
        "\n",
        "  #Plotando os pontos dos dados da Predicao, se houver\n",
        "  if predictions is not None:\n",
        "    plt.scatter(X_test, predictions, c='r', s=4, label='Predicoes')\n",
        "\n",
        "  #Legenda\n",
        "  plt.legend(prop={\"size\": 10})"
      ],
      "metadata": {
        "id": "TW5sRb6IKdfy"
      },
      "execution_count": 9,
      "outputs": []
    },
    {
      "cell_type": "code",
      "source": [
        "plota_predicoes()"
      ],
      "metadata": {
        "colab": {
          "base_uri": "https://localhost:8080/",
          "height": 445
        },
        "id": "Y41hrKHZKS6F",
        "outputId": "68fe859f-c3c0-4f60-8d37-097ff3c159f6"
      },
      "execution_count": 10,
      "outputs": [
        {
          "output_type": "display_data",
          "data": {
            "text/plain": [
              "<Figure size 700x500 with 1 Axes>"
            ],
            "image/png": "[encoded data removed]"
          },
          "metadata": {}
        }
      ]
    },
    {
      "cell_type": "code",
      "source": [
        "#Criando omodelo de Regressao Linear\n",
        "class RegressaoLinear(nn.Module): #Herda de  nn.Module\n",
        "  def __init__(self): # Inicializador da classe\n",
        "    super().__init__() #Chama o metodo inicializador da classe pai,  nn.Module, para que a  classe possa herdar as funcionalidades e propriedades dos modulos Pytorch\n",
        "    #nn.Linear() para criar os parametros do modelo\n",
        "    self.linear_layer = nn.Linear(in_features = 1,\n",
        "                                  out_features = 1)\n",
        "                                    # -> indica que a saida da funcao eh um Tensor\n",
        "    def forward(self, x:torch.Tensor) -> torch.Tensor:\n",
        "      return self.linear_layer(x)\n",
        "\n",
        "torch.manual_seed(42)\n",
        "modelo_1 = RegressaoLinear()\n",
        "\n",
        "modelo_1, modelo_1.state_dict()"
      ],
      "metadata": {
        "colab": {
          "base_uri": "https://localhost:8080/"
        },
        "id": "DeeeZJBfMOfR",
        "outputId": "e5bcd7cc-5490-4b00-9ccf-88aa755db109"
      },
      "execution_count": 12,
      "outputs": [
        {
          "output_type": "execute_result",
          "data": {
            "text/plain": [
              "(RegressaoLinear(\n",
              "   (linear_layer): Linear(in_features=1, out_features=1, bias=True)\n",
              " ),\n",
              " OrderedDict([('linear_layer.weight', tensor([[0.7645]])),\n",
              "              ('linear_layer.bias', tensor([0.8300]))]))"
            ]
          },
          "metadata": {},
          "execution_count": 12
        }
      ]
    },
    {
      "cell_type": "code",
      "source": [
        "# Treino\n",
        "def treino(epoch: int):\n",
        "  torch.manual_seed(42)\n",
        "\n",
        "  #Caso algum dados nao esteja no mesmo dispositivo dara erro, colocando todos no mesmo\n",
        "  X_train = X_train.to(device)\n",
        "  y_train = y_train.to(device)\n",
        "  X_test = X_test.to(device)\n",
        "  y_test = y_test.to(device)\n",
        "\n",
        "  # Funcao da perda/ loss function\n",
        "  loss_fn = nn.L1Loss() #MAE\n",
        "\n",
        "  #Otimizador\n",
        "  optimizer = torch.optim.SGD(params=modelo_1.parameters(),\n",
        "                              lr=0.01)\n",
        "\n",
        "  #Loop de Treino e Teste com base nas \"epoch\"\n",
        "  for epoch in range(epoch):\n",
        "    modelo_1.train() #Ativa as funcoes/parametros que sao necessarias para o treinamento\n",
        "\n",
        "    # 1. Metodo Forward\n",
        "    y_pred = modelo_1(X_train)\n",
        "\n",
        "    # 2. loss\n",
        "    loss = loss_fn(y_pred, y_train) #COmprando as predicoes com os dados de treino\n",
        "\n",
        "    # 3. Optimizer zero gradd\n",
        "    optimizer.zero_grad() #Zerando o gradinete acumulado\n",
        "\n",
        "\n"
      ],
      "metadata": {
        "id": "YmKYnwbfdvfR"
      },
      "execution_count": 13,
      "outputs": []
    }
  ]
}