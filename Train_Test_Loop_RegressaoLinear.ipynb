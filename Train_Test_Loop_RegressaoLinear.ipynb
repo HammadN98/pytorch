{
  "nbformat": 4,
  "nbformat_minor": 0,
  "metadata": {
    "colab": {
      "provenance": [],
      "authorship_tag": "ABX9TyO5thDnMui7a0N5vt3M2Gju",
      "include_colab_link": true
    },
    "kernelspec": {
      "name": "python3",
      "display_name": "Python 3"
    },
    "language_info": {
      "name": "python"
    }
  },
  "cells": [
    {
      "cell_type": "markdown",
      "metadata": {
        "id": "view-in-github",
        "colab_type": "text"
      },
      "source": [
        "<a href=\"https://colab.research.google.com/github/HammadN98/pytorch/blob/main/Train_Test_Loop_RegressaoLinear.ipynb\" target=\"_parent\"><img src=\"https://colab.research.google.com/assets/colab-badge.svg\" alt=\"Open In Colab\"/></a>"
      ]
    },
    {
      "cell_type": "code",
      "execution_count": 1,
      "metadata": {
        "id": "hTGW7AY-GHqq"
      },
      "outputs": [],
      "source": [
        "import torch\n",
        "from torch import nn\n",
        "import matplotlib.pyplot as plt\n",
        "from pathlib import Path"
      ]
    },
    {
      "cell_type": "code",
      "source": [
        "torch.__version__"
      ],
      "metadata": {
        "colab": {
          "base_uri": "https://localhost:8080/",
          "height": 36
        },
        "id": "n2RzLfIyGUWB",
        "outputId": "98994b02-f7d0-45ce-f666-915712e13feb"
      },
      "execution_count": 2,
      "outputs": [
        {
          "output_type": "execute_result",
          "data": {
            "text/plain": [
              "'2.3.0+cu121'"
            ],
            "application/vnd.google.colaboratory.intrinsic+json": {
              "type": "string"
            }
          },
          "metadata": {},
          "execution_count": 2
        }
      ]
    },
    {
      "cell_type": "code",
      "source": [
        "device = 'cuda' if torch.cuda.is_available() else 'cpu'\n",
        "print(f\"Dispositivo Utilizadop: {device}\")"
      ],
      "metadata": {
        "colab": {
          "base_uri": "https://localhost:8080/"
        },
        "id": "nC_zK6DJGWrc",
        "outputId": "5a83dfe4-2e1e-4d58-8271-50576a99665b"
      },
      "execution_count": 3,
      "outputs": [
        {
          "output_type": "stream",
          "name": "stdout",
          "text": [
            "Dispositivo Utilizadop: cpu\n"
          ]
        }
      ]
    },
    {
      "cell_type": "code",
      "source": [
        "def cria_dados(weight, bias, start, end, step):\n",
        "  X = torch.arange(start, end, step).unsqueeze(dim=1)\n",
        "  y = weight * X + bias\n",
        "  return X, y\n"
      ],
      "metadata": {
        "id": "qat8y08qG_87"
      },
      "execution_count": 4,
      "outputs": []
    },
    {
      "cell_type": "code",
      "source": [
        "X, y = cria_dados(0.7, 0.3, 0, 1, 0.02)"
      ],
      "metadata": {
        "id": "6wkGc5dRHscl"
      },
      "execution_count": 5,
      "outputs": []
    },
    {
      "cell_type": "code",
      "source": [
        "X[:10], y[:10]"
      ],
      "metadata": {
        "colab": {
          "base_uri": "https://localhost:8080/"
        },
        "id": "mUavvmbHH0pZ",
        "outputId": "da1c31e8-f64e-4edc-e41b-2b3fe0ddf7a0"
      },
      "execution_count": 6,
      "outputs": [
        {
          "output_type": "execute_result",
          "data": {
            "text/plain": [
              "(tensor([[0.0000],\n",
              "         [0.0200],\n",
              "         [0.0400],\n",
              "         [0.0600],\n",
              "         [0.0800],\n",
              "         [0.1000],\n",
              "         [0.1200],\n",
              "         [0.1400],\n",
              "         [0.1600],\n",
              "         [0.1800]]),\n",
              " tensor([[0.3000],\n",
              "         [0.3140],\n",
              "         [0.3280],\n",
              "         [0.3420],\n",
              "         [0.3560],\n",
              "         [0.3700],\n",
              "         [0.3840],\n",
              "         [0.3980],\n",
              "         [0.4120],\n",
              "         [0.4260]]))"
            ]
          },
          "metadata": {},
          "execution_count": 6
        }
      ]
    },
    {
      "cell_type": "code",
      "source": [
        "def separa_dados(pct_treino: float):\n",
        "  train_split = int(pct_treino * len(X))\n",
        "  X_train, y_train = X[:train_split], y[:train_split]\n",
        "  X_test, y_test = X[train_split:], y[train_split:]\n",
        "  return  X_train, y_train, X_test, y_test\n"
      ],
      "metadata": {
        "id": "4ymexmRGH5g6"
      },
      "execution_count": 7,
      "outputs": []
    },
    {
      "cell_type": "code",
      "source": [
        "X_train, y_train, X_test, y_test = separa_dados(0.8)\n",
        "len(X_train), len(y_train), len(X_test), len(y_test)\n"
      ],
      "metadata": {
        "colab": {
          "base_uri": "https://localhost:8080/"
        },
        "id": "QoMVhVczJ3Wh",
        "outputId": "48ee2708-adef-49c8-bf78-78d1655137e3"
      },
      "execution_count": 8,
      "outputs": [
        {
          "output_type": "execute_result",
          "data": {
            "text/plain": [
              "(40, 40, 10, 10)"
            ]
          },
          "metadata": {},
          "execution_count": 8
        }
      ]
    },
    {
      "cell_type": "code",
      "source": [
        "#FUncao adaptada do professor, ja que nao eh bem o intuido do notebook fazer funcao de algo que ja eh funcao\n",
        "def plota_predicoes(train_data=X_train,\n",
        "                     train_labels=y_train,\n",
        "                     test_data=X_test,\n",
        "                     test_labels=y_test,\n",
        "                     predictions=None):\n",
        "\n",
        "  \"\"\" Objetido da funcao eh plotar os dados de treno, teste, e se passado as predicoes para acompanhamento da aprendizagem do modelo.\"\"\"\n",
        "  plt.figure(figsize=(7,5)) #Tamanho da figura\n",
        "\n",
        "  #Plotando os pontos dos dados de Treino\n",
        "  plt.scatter(train_data, train_labels, c='b', s=3, label='Treino')\n",
        "\n",
        "  #Plotando os pontos dos dados de Teste\n",
        "  plt.scatter(test_data, test_labels, c='g', s=3, label='Teste')\n",
        "\n",
        "  #Plotando os pontos dos dados da Predicao, se houver\n",
        "  if predictions is not None:\n",
        "    plt.scatter(X_test, predictions, c='r', s=4, label='Predicoes')\n",
        "\n",
        "  #Legenda\n",
        "  plt.legend(prop={\"size\": 10})"
      ],
      "metadata": {
        "id": "TW5sRb6IKdfy"
      },
      "execution_count": 9,
      "outputs": []
    },
    {
      "cell_type": "code",
      "source": [
        "plota_predicoes()"
      ],
      "metadata": {
        "colab": {
          "base_uri": "https://localhost:8080/",
          "height": 445
        },
        "id": "Y41hrKHZKS6F",
        "outputId": "bfb09b38-a770-4056-8da7-8ca820412d79"
      },
      "execution_count": 10,
      "outputs": [
        {
          "output_type": "display_data",
          "data": {
            "text/plain": [
              "<Figure size 700x500 with 1 Axes>"
            ],
            "image/png": "[encoded data removed]"
          },
          "metadata": {}
        }
      ]
    },
    {
      "cell_type": "code",
      "source": [
        "#Criando omodelo de Regressao Linear\n",
        "class RegressaoLinear(nn.Module): #Herda de  nn.Module\n",
        "  def __init__(self): # Inicializador da classe\n",
        "    super().__init__() #Chama o metodo inicializador da classe pai,  nn.Module, para que a  classe possa herdar as funcionalidades e propriedades dos modulos Pytorch\n",
        "    #nn.Linear() para criar os parametros do modelo\n",
        "    self.linear_layer = nn.Linear(in_features = 1,\n",
        "                                  out_features = 1)\n",
        "                                    # -> indica que a saida da funcao eh um Tensor\n",
        "  def forward(self, x:torch.Tensor) -> torch.Tensor:\n",
        "    return self.linear_layer(x)\n",
        "\n",
        "torch.manual_seed(42)\n",
        "modelo_1 = RegressaoLinear()\n",
        "\n",
        "modelo_1, modelo_1.state_dict()"
      ],
      "metadata": {
        "colab": {
          "base_uri": "https://localhost:8080/"
        },
        "id": "DeeeZJBfMOfR",
        "outputId": "22fc1833-652a-40cc-bbea-a38884fbfafb"
      },
      "execution_count": 21,
      "outputs": [
        {
          "output_type": "execute_result",
          "data": {
            "text/plain": [
              "(RegressaoLinear(\n",
              "   (linear_layer): Linear(in_features=1, out_features=1, bias=True)\n",
              " ),\n",
              " OrderedDict([('linear_layer.weight', tensor([[0.7645]])),\n",
              "              ('linear_layer.bias', tensor([0.8300]))]))"
            ]
          },
          "metadata": {},
          "execution_count": 21
        }
      ]
    },
    {
      "cell_type": "code",
      "source": [
        "# Treino\n",
        "def treino(epoch: int, X_train, y_train, X_test, y_test):\n",
        "  torch.manual_seed(42)\n",
        "\n",
        "  #Caso algum dados nao esteja no mesmo dispositivo dara erro, colocando todos no mesmo\n",
        "  X_train = X_train.to(device)\n",
        "  y_train = y_train.to(device)\n",
        "  X_test = X_test.to(device)\n",
        "  y_test = y_test.to(device)\n",
        "\n",
        "  # Funcao da perda/ loss function\n",
        "  loss_fn = nn.L1Loss() #MAE\n",
        "\n",
        "  #Otimizador\n",
        "  optimizer = torch.optim.SGD(params=modelo_1.parameters(),\n",
        "                              lr=0.01)\n",
        "\n",
        "  #Loop de Treino e Teste com base nas \"epoch\"\n",
        "  for epoch in range(epoch):\n",
        "    modelo_1.train() #Ativa as funcoes/parametros que sao necessarias para o treinamento\n",
        "\n",
        "    # 1. Metodo Forward\n",
        "    y_pred = modelo_1(X_train)\n",
        "\n",
        "    # 2. loss\n",
        "    loss = loss_fn(y_pred, y_train) #COmprando as predicoes com os dados de treino\n",
        "\n",
        "    # 3. Optimizer zero gradd\n",
        "    optimizer.zero_grad() #Zerando o gradinete acumulado\n",
        "\n",
        "    # 4. Backpropagation\n",
        "    loss.backward()\n",
        "\n",
        "    # 5. Optimizer Step\n",
        "    optimizer.step()\n",
        "\n",
        "    #TEste\n",
        "    modelo_1.eval() #Desligar coisas que nao necessitamos paara testar\n",
        "    with torch.inference_mode():\n",
        "      teste_pred = modelo_1(X_test)\n",
        "\n",
        "      test_loss = loss_fn(teste_pred, y_test)\n",
        "\n",
        "    if epoch % 20 == 0:\n",
        "      print(f\"Epoch {epoch} | Loss: {loss} | Test Loss: {test_loss}\")\n",
        "\n",
        "  return teste_pred\n"
      ],
      "metadata": {
        "id": "YmKYnwbfdvfR"
      },
      "execution_count": 28,
      "outputs": []
    },
    {
      "cell_type": "code",
      "source": [
        "teste_pred = treino(200, X_train, y_train, X_test, y_test)"
      ],
      "metadata": {
        "colab": {
          "base_uri": "https://localhost:8080/"
        },
        "id": "eUj368p8R6Yl",
        "outputId": "cfbb3f76-c2cb-41d8-8970-a63f0ca25aae"
      },
      "execution_count": 29,
      "outputs": [
        {
          "output_type": "stream",
          "name": "stdout",
          "text": [
            "Epoch 0 | Loss: 0.0012645035749301314 | Test Loss: 0.013801807537674904\n",
            "Epoch 20 | Loss: 0.0012645035749301314 | Test Loss: 0.013801807537674904\n",
            "Epoch 40 | Loss: 0.0012645035749301314 | Test Loss: 0.013801807537674904\n",
            "Epoch 60 | Loss: 0.0012645035749301314 | Test Loss: 0.013801807537674904\n",
            "Epoch 80 | Loss: 0.0012645035749301314 | Test Loss: 0.013801807537674904\n",
            "Epoch 100 | Loss: 0.0012645035749301314 | Test Loss: 0.013801807537674904\n",
            "Epoch 120 | Loss: 0.0012645035749301314 | Test Loss: 0.013801807537674904\n",
            "Epoch 140 | Loss: 0.0012645035749301314 | Test Loss: 0.013801807537674904\n",
            "Epoch 160 | Loss: 0.0012645035749301314 | Test Loss: 0.013801807537674904\n",
            "Epoch 180 | Loss: 0.0012645035749301314 | Test Loss: 0.013801807537674904\n"
          ]
        }
      ]
    },
    {
      "cell_type": "code",
      "source": [
        "modelo_1.state_dict()\n"
      ],
      "metadata": {
        "colab": {
          "base_uri": "https://localhost:8080/"
        },
        "id": "fNH_iIxzSCVU",
        "outputId": "fea41ebc-668c-47e2-e122-257eccbd6da9"
      },
      "execution_count": 30,
      "outputs": [
        {
          "output_type": "execute_result",
          "data": {
            "text/plain": [
              "OrderedDict([('linear_layer.weight', tensor([[0.6968]])),\n",
              "             ('linear_layer.bias', tensor([0.3025]))])"
            ]
          },
          "metadata": {},
          "execution_count": 30
        }
      ]
    },
    {
      "cell_type": "code",
      "source": [
        "plota_predicoes(train_data=X_train,\n",
        "                     train_labels=y_train,\n",
        "                     test_data=X_test,\n",
        "                     test_labels=y_test,\n",
        "                     predictions=teste_pred)"
      ],
      "metadata": {
        "colab": {
          "base_uri": "https://localhost:8080/",
          "height": 445
        },
        "id": "OpvA7mBgSllt",
        "outputId": "f38d706d-91a5-4436-dff2-13ecf1adff3e"
      },
      "execution_count": 31,
      "outputs": [
        {
          "output_type": "display_data",
          "data": {
            "text/plain": [
              "<Figure size 700x500 with 1 Axes>"
            ],
            "image/png": "[encoded data removed]"
          },
          "metadata": {}
        }
      ]
    },
    {
      "cell_type": "code",
      "source": [
        "\n",
        "def salva_modelo(pasta, nome):\n",
        "  # cirnado a pasta\n",
        "  MODEL_PATH = Path(pasta)\n",
        "  MODEL_PATH.mkdir(parents=True, exist_ok=True)\n",
        "\n",
        "  #Criando caminho para salvar\n",
        "  MODEL_NAME = nome\n",
        "  MODEL_SAVE_PATH = MODEL_PATH / MODEL_NAME\n",
        "\n",
        "  # 3 Salvando o \"state dict\" do modelo\n",
        "  print(f\"Salvando o modelo com funcao em: {MODEL_SAVE_PATH}\")\n",
        "  torch.save(obj=modelo_1.state_dict(),\n",
        "             f=MODEL_SAVE_PATH)\n",
        "\n",
        "  return MODEL_SAVE_PATH"
      ],
      "metadata": {
        "id": "TQql8FlCTB9-"
      },
      "execution_count": 34,
      "outputs": []
    },
    {
      "cell_type": "code",
      "source": [
        "SALVO = salva_modelo('modelos', '01_modelo_funcao')"
      ],
      "metadata": {
        "colab": {
          "base_uri": "https://localhost:8080/"
        },
        "id": "_9scCExJUmxM",
        "outputId": "e56e1acc-8723-4862-9041-cfa53a370bf1"
      },
      "execution_count": 35,
      "outputs": [
        {
          "output_type": "stream",
          "name": "stdout",
          "text": [
            "Salvando o modelo com funcao em: modelos/01_modelo_funcao\n"
          ]
        }
      ]
    },
    {
      "cell_type": "code",
      "source": [
        "def carrega_modelo(caminho_salvo):\n",
        "\n",
        "  #Criando uma nova instancia do Modelo v2 de Regressao Linear\n",
        "  carregado = RegressaoLinear()  #O modelo deve existir no codigo assim, para assim ser instanciado. Afinal o que foi salvo e aberto agora eh apenas o estado do dicionario de aprendizado do modelo, e nao o modelo em si.\n",
        "\n",
        "  #Carregando o \"state_dict\" do modelo salvo [Aqui nao carregamos o modelo, apenas o estado de aprendizado dele]\n",
        "  carregado.load_state_dict(torch.load(caminho_salvo))\n",
        "\n",
        "  # Mudando o modelo para device (no meu caso deve seguir um cpu ja que a GPU nao esta nativamente abilitada)\n",
        "  carregado.to(device)\n",
        "\n",
        "  return carregado #Retorna o modelo carregado\n",
        ""
      ],
      "metadata": {
        "id": "hggNyoazUy1F"
      },
      "execution_count": 54,
      "outputs": []
    },
    {
      "cell_type": "code",
      "source": [
        "salvo= carrega_modelo(SALVO)"
      ],
      "metadata": {
        "id": "fXVYA6I1VfeY"
      },
      "execution_count": 55,
      "outputs": []
    },
    {
      "cell_type": "code",
      "source": [
        "salvo.eval()\n",
        "with torch.inference_mode():\n",
        "  salvo_pred = salvo(X_test)\n",
        "teste_pred == salvo_pred"
      ],
      "metadata": {
        "colab": {
          "base_uri": "https://localhost:8080/"
        },
        "id": "0N5VPk-5VjTD",
        "outputId": "e1c496db-167b-4bfc-f89a-66abb4f04667"
      },
      "execution_count": 56,
      "outputs": [
        {
          "output_type": "execute_result",
          "data": {
            "text/plain": [
              "tensor([[True],\n",
              "        [True],\n",
              "        [True],\n",
              "        [True],\n",
              "        [True],\n",
              "        [True],\n",
              "        [True],\n",
              "        [True],\n",
              "        [True],\n",
              "        [True]])"
            ]
          },
          "metadata": {},
          "execution_count": 56
        }
      ]
    },
    {
      "cell_type": "code",
      "source": [
        "#Plotando as predicoes do modelo salvo e carrgado\n",
        "plota_predicoes(train_data=X_train,\n",
        "                     train_labels=y_train,\n",
        "                     test_data=X_test,\n",
        "                     test_labels=y_test,\n",
        "                     predictions=salvo_pred) #[predictions=test_pred.cpu()] caso esteja em cuda ja que a funcao pra plot dos graficos foi feito com numpy."
      ],
      "metadata": {
        "colab": {
          "base_uri": "https://localhost:8080/",
          "height": 445
        },
        "id": "WlgHHNyMVnRe",
        "outputId": "f95c4901-6c7c-4b38-9461-40353c440323"
      },
      "execution_count": 57,
      "outputs": [
        {
          "output_type": "display_data",
          "data": {
            "text/plain": [
              "<Figure size 700x500 with 1 Axes>"
            ],
            "image/png": "[encoded data removed]"
          },
          "metadata": {}
        }
      ]
    },
    {
      "cell_type": "markdown",
      "source": [
        "## END"
      ],
      "metadata": {
        "id": "_7llev1IXlZK"
      }
    }
  ]
}